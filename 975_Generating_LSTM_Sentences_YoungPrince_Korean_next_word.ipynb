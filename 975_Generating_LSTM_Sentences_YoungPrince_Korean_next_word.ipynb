{
  "nbformat": 4,
  "nbformat_minor": 0,
  "metadata": {
    "accelerator": "GPU",
    "colab": {
      "name": "975.Generating_LSTM_Sentences_YoungPrince_Korean_next_word.ipynb",
      "provenance": []
    },
    "kernelspec": {
      "display_name": "Python 3",
      "language": "python",
      "name": "python3"
    },
    "language_info": {
      "codemirror_mode": {
        "name": "ipython",
        "version": 3
      },
      "file_extension": ".py",
      "mimetype": "text/x-python",
      "name": "python",
      "nbconvert_exporter": "python",
      "pygments_lexer": "ipython3",
      "version": "3.7.3"
    }
  },
  "cells": [
    {
      "cell_type": "markdown",
      "metadata": {
        "id": "ZyxyanlZ5aJp",
        "colab_type": "text"
      },
      "source": [
        "# Keras API 와 LSTM 을 이용한 한글 어린왕자 문장 생성기\n",
        "\n",
        "- next word 예측"
      ]
    },
    {
      "cell_type": "code",
      "metadata": {
        "id": "5u9jNWtU52yT",
        "colab_type": "code",
        "colab": {
          "base_uri": "https://localhost:8080/",
          "height": 34
        },
        "outputId": "81640113-63c5-4ddc-f394-217387b42d7a"
      },
      "source": [
        "%tensorflow_version 2.x"
      ],
      "execution_count": 1,
      "outputs": [
        {
          "output_type": "stream",
          "text": [
            "TensorFlow 2.x selected.\n"
          ],
          "name": "stdout"
        }
      ]
    },
    {
      "cell_type": "code",
      "metadata": {
        "colab_type": "code",
        "id": "BOwsuGQQY9OL",
        "colab": {}
      },
      "source": [
        "import tensorflow as tf\n",
        "import numpy as np\n",
        "from tensorflow.keras.preprocessing.sequence import pad_sequences\n",
        "from tensorflow.keras.layers import Embedding, LSTM, Dense, Dropout, Bidirectional\n",
        "from tensorflow.keras.preprocessing.text import Tokenizer\n",
        "from tensorflow.keras.models import Sequential\n",
        "import tensorflow.keras.regularizers as regularizers\n",
        "import numpy as np "
      ],
      "execution_count": 0,
      "outputs": []
    },
    {
      "cell_type": "code",
      "metadata": {
        "id": "n19R9Jpy5aJu",
        "colab_type": "code",
        "colab": {
          "base_uri": "https://localhost:8080/",
          "height": 54
        },
        "outputId": "129d4144-abb5-45c4-ab35-e0d738102e3c"
      },
      "source": [
        "r = open(\"datasets/어린왕자-dmsah10.txt\", 'r', encoding=\"cp949\")\n",
        "\n",
        "texts = r.readlines()\n",
        "lines = []\n",
        "\n",
        "for line in texts:\n",
        "    line = line.strip().lower()\n",
        "    if len(line) == 0:\n",
        "        continue\n",
        "    lines.append(line)\n",
        "\n",
        "text = \" \".join(lines)\n",
        "text[:1000]"
      ],
      "execution_count": 5,
      "outputs": [
        {
          "output_type": "execute_result",
          "data": {
            "text/plain": [
              "'여섯 살 적에 나는 \"체험한 이야기\"라는 제목의, 원시림에 관한 책에서 기막힌 그림 하나를 본 적이 있다. 맹수를 집어삼키고 있는 보아 구렁이 그림이었다. 위의 그림은 그것을 옮겨 그린 것이다. 그 책에는 이렇게 씌어 있었다. \"보아 구렁이는 먹이를 씹지도 않고 통째로 집어삼킨다.그리고는 꼼짝도 하지 못하고 여섯 달 동안 잠을 자면서 그것을 소화시킨다.\" 나는 그래서 밀림 속에서의 모험에 대해 한참 생각해 보고 난 끝에 색연필을 가지고 내 나름대로 내 생애 첫번째 그림을 그려보았다. 나의 그림 제 1호였다. 그것은 이런 그림이었다. 나는 그 걸작품을 어른들에게 보여 주면서내 그림이 무섭지 않느냐고 물었다. 그들은 \"모자가 뭐가 무섭다는 거니?\" 하고 대답했다. 내 그림은 모자를 그린 게 아니었다. 그것은 코끼리를 소화시키고 있는 보아 구렁이었다. 그래서 나는 어른들이 알아볼 수 있도록 보아 구렁이의 속을 그렸다. 어른들은 언제나 설명을 해주어야만 한다. 나의 그림 제 2호는 이러했다. 어른들은 속이 보이거나 보이지 않거나 하는 보아 구렁이의 그림들은 집어치우고 차라리 지리, 역사, 계산, 그리고 문법 쪽에 관심을 가져보는 게 좋을 것이라고 충고해 주었다. 그래서 나는 여섯 살 적에 화가라는 멋진 직업을 포기해 버렸다.내 그림제 1호와 제 2호가 성공을 거두지 못한 데 낙심해 버렸던 것이다. 어른들은언제나 스스로는 아무것도 이해하지 못한다.자꾸자꾸 설명을 해주어야 하니 맥빠지는 노릇이 아닐 수 없다. 그래서 다른 직업을 선택하지 않을 수 없게 된 나는 비행기 조종하는 법을배웠다.세계의 여기저기 거의 안 가본 데 없이 나는 날아다녔다.그러니지리는 정말로 많은 도움을 준 셈이었다.한번 슬쩍 보고도 중국과 애리조나를 나는 구별할 수 있었던 것이다.그것은 밤에 길을 잃었을 때 아주 유용한 일이다. 나는 그리하여 일생 동안 수없이 많은 점잖은 사람들과수많은 접촉을 가져왔다.어른들 틈에서 많이 살아온 것이다.나는 가까이서 그들을 볼 수있었다. 그렇다고 해서 그들에 대한 내'"
            ]
          },
          "metadata": {
            "tags": []
          },
          "execution_count": 5
        }
      ]
    },
    {
      "cell_type": "code",
      "metadata": {
        "id": "7SZhigNh5aJx",
        "colab_type": "code",
        "colab": {}
      },
      "source": [
        "import re\n",
        "\n",
        "corpus = re.split('[,.]', text)"
      ],
      "execution_count": 0,
      "outputs": []
    },
    {
      "cell_type": "code",
      "metadata": {
        "id": "zk-Kn9785aJ0",
        "colab_type": "code",
        "colab": {
          "base_uri": "https://localhost:8080/",
          "height": 191
        },
        "outputId": "a4cd337d-0470-4f51-a983-a842deaaaac1"
      },
      "source": [
        "corpus[:10]"
      ],
      "execution_count": 7,
      "outputs": [
        {
          "output_type": "execute_result",
          "data": {
            "text/plain": [
              "['여섯 살 적에 나는 \"체험한 이야기\"라는 제목의',\n",
              " ' 원시림에 관한 책에서 기막힌 그림 하나를 본 적이 있다',\n",
              " ' 맹수를 집어삼키고 있는 보아 구렁이 그림이었다',\n",
              " ' 위의 그림은 그것을 옮겨 그린 것이다',\n",
              " ' 그 책에는 이렇게 씌어 있었다',\n",
              " ' \"보아 구렁이는 먹이를 씹지도 않고 통째로 집어삼킨다',\n",
              " '그리고는 꼼짝도 하지 못하고 여섯 달 동안 잠을 자면서 그것을 소화시킨다',\n",
              " '\" 나는 그래서 밀림 속에서의 모험에 대해 한참 생각해 보고 난 끝에 색연필을 가지고 내 나름대로 내 생애 첫번째 그림을 그려보았다',\n",
              " ' 나의 그림 제 1호였다',\n",
              " ' 그것은 이런 그림이었다']"
            ]
          },
          "metadata": {
            "tags": []
          },
          "execution_count": 7
        }
      ]
    },
    {
      "cell_type": "code",
      "metadata": {
        "id": "B0aXEN_15aJ2",
        "colab_type": "code",
        "colab": {
          "base_uri": "https://localhost:8080/",
          "height": 34
        },
        "outputId": "053b4f18-349c-4441-ac37-6b6dad4538f3"
      },
      "source": [
        "tokenizer = Tokenizer()\n",
        "\n",
        "tokenizer.fit_on_texts(corpus)\n",
        "total_words = len(tokenizer.word_index) + 1\n",
        "print(total_words)"
      ],
      "execution_count": 8,
      "outputs": [
        {
          "output_type": "stream",
          "text": [
            "4594\n"
          ],
          "name": "stdout"
        }
      ]
    },
    {
      "cell_type": "code",
      "metadata": {
        "id": "rn-AIOff5aJ4",
        "colab_type": "code",
        "colab": {}
      },
      "source": [
        "# create input sequences using list of tokens\n",
        "input_sequences = []\n",
        "\n",
        "for line in corpus:\n",
        "    token_list = tokenizer.texts_to_sequences([line])[0]\n",
        "    for i in range(1, len(token_list)):\n",
        "        n_gram_sequence = token_list[:i+1]\n",
        "        input_sequences.append(n_gram_sequence)"
      ],
      "execution_count": 0,
      "outputs": []
    },
    {
      "cell_type": "code",
      "metadata": {
        "id": "tsplC63C5aJ6",
        "colab_type": "code",
        "colab": {
          "base_uri": "https://localhost:8080/",
          "height": 209
        },
        "outputId": "e00c4261-c39f-40dc-f2e5-dbab79b7247b"
      },
      "source": [
        "print(len(input_sequences))\n",
        "input_sequences[:10]"
      ],
      "execution_count": 10,
      "outputs": [
        {
          "output_type": "stream",
          "text": [
            "9365\n"
          ],
          "name": "stdout"
        },
        {
          "output_type": "execute_result",
          "data": {
            "text/plain": [
              "[[142, 245],\n",
              " [142, 245, 371],\n",
              " [142, 245, 371, 3],\n",
              " [142, 245, 371, 3, 1322],\n",
              " [142, 245, 371, 3, 1322, 739],\n",
              " [142, 245, 371, 3, 1322, 739, 372],\n",
              " [142, 245, 371, 3, 1322, 739, 372, 1323],\n",
              " [1324, 1325],\n",
              " [1324, 1325, 1326],\n",
              " [1324, 1325, 1326, 1327]]"
            ]
          },
          "metadata": {
            "tags": []
          },
          "execution_count": 10
        }
      ]
    },
    {
      "cell_type": "code",
      "metadata": {
        "id": "-kSzQM4p5aJ8",
        "colab_type": "code",
        "colab": {
          "base_uri": "https://localhost:8080/",
          "height": 139
        },
        "outputId": "25968f6e-432a-46a0-a551-d07588cc378c"
      },
      "source": [
        "# pad sequences \n",
        "max_sequence_len = max([len(x) for x in input_sequences])\n",
        "\n",
        "input_sequences = np.array(pad_sequences(input_sequences, maxlen=max_sequence_len, padding='pre'))\n",
        "input_sequences"
      ],
      "execution_count": 11,
      "outputs": [
        {
          "output_type": "execute_result",
          "data": {
            "text/plain": [
              "array([[   0,    0,    0, ...,    0,  142,  245],\n",
              "       [   0,    0,    0, ...,  142,  245,  371],\n",
              "       [   0,    0,    0, ...,  245,  371,    3],\n",
              "       ...,\n",
              "       [   0,    0,    0, ..., 4591, 1139, 4592],\n",
              "       [   0,    0,    0, ..., 1139, 4592, 4593],\n",
              "       [   0,    0,    0, ..., 4592, 4593,  525]], dtype=int32)"
            ]
          },
          "metadata": {
            "tags": []
          },
          "execution_count": 11
        }
      ]
    },
    {
      "cell_type": "code",
      "metadata": {
        "id": "yU3N25jx5aJ-",
        "colab_type": "code",
        "colab": {}
      },
      "source": [
        "text_dataset = tf.data.Dataset.from_tensor_slices(input_sequences)"
      ],
      "execution_count": 0,
      "outputs": []
    },
    {
      "cell_type": "code",
      "metadata": {
        "id": "YWPQPgs05aKB",
        "colab_type": "code",
        "colab": {}
      },
      "source": [
        "def split_input_target(chunk):\n",
        "    input_text = chunk[:-1]\n",
        "    target_text = chunk[-1]\n",
        "    return input_text, target_text"
      ],
      "execution_count": 0,
      "outputs": []
    },
    {
      "cell_type": "code",
      "metadata": {
        "id": "PlE-4oP55aKF",
        "colab_type": "code",
        "colab": {
          "base_uri": "https://localhost:8080/",
          "height": 523
        },
        "outputId": "c000659f-b7f1-427b-8d7d-e4eef3eed5b3"
      },
      "source": [
        "dataset = text_dataset.map(split_input_target).batch(256, drop_remainder=True)\n",
        "\n",
        "for input, target in dataset.take(1):\n",
        "  print(input)\n",
        "  print()\n",
        "  print(target)"
      ],
      "execution_count": 14,
      "outputs": [
        {
          "output_type": "stream",
          "text": [
            "tf.Tensor(\n",
            "[[   0    0    0 ...    0    0  142]\n",
            " [   0    0    0 ...    0  142  245]\n",
            " [   0    0    0 ...  142  245  371]\n",
            " ...\n",
            " [   0    0    0 ...  128  189 1418]\n",
            " [   0    0    0 ...  189 1418 1419]\n",
            " [   0    0    0 ...    0    0   23]], shape=(256, 51), dtype=int32)\n",
            "\n",
            "tf.Tensor(\n",
            "[ 245  371    3 1322  739  372 1323 1325 1326 1327  207  740   87  126\n",
            "  143 1329   10  113  373  741  298  144  742  246   13  743   61 1330\n",
            "   20  744 1331 1332  186 1333 1334  745   43  493  142 1335  299  247\n",
            " 1336  144 1337   17 1338 1339 1340  114  374  300  167   14 1341 1342\n",
            "   91   11 1343   11 1344  746  145 1345  207  248 1346  168  741    2\n",
            " 1347  747  748 1348 1349  749 1350   33  750  751 1351  494   21   28\n",
            "  298  375  246   26  376  752 1352   10  113 1353    3  495  496    9\n",
            " 1354  113  497 1355  249  127  498 1356  147  207  248 1357 1358  301\n",
            "  499   81  753   27  113  497 1359 1360 1361  754 1362 1363 1364  757\n",
            "   26  758  759 1365  377    3  142  245  371 1366  500  501  502  250\n",
            " 1367 1368  248 1369 1370 1371  503  251 1372 1373   13 1375  106  504\n",
            "  760  498  761  762 1377 1378 1379    9  252   39  501 1380  169    9\n",
            "  302  115    3 1381 1382 1383 1385  763  253 1386  251  505    3 1387\n",
            "  208   88 1389  148 1390  764 1391 1392 1393    3  765    9  187   13\n",
            "  506  149 1394  116   34 1395  766  254 1396  299 1397   88 1398 1399\n",
            " 1400 1401 1402  768 1403   13 1404  209  210 1405  255 1407  303   11\n",
            "  188 1408   63 1409  304  507  769 1410  770 1411 1412  379 1413   76\n",
            "  207  248 1414   91    2  507 1415 1416   57   29 1417  256  128  189\n",
            " 1418 1419   13 1420], shape=(256,), dtype=int32)\n"
          ],
          "name": "stdout"
        }
      ]
    },
    {
      "cell_type": "code",
      "metadata": {
        "colab_type": "code",
        "id": "PRnDnCW-Z7qv",
        "outputId": "68189001-e0bc-4ca3-c44d-efa25edc5f35",
        "colab": {
          "base_uri": "https://localhost:8080/",
          "height": 383
        }
      },
      "source": [
        "model = Sequential()\n",
        "model.add(Embedding(total_words, 100))\n",
        "model.add(Bidirectional(LSTM(32, return_sequences = True)))\n",
        "model.add(Dropout(0.2))\n",
        "model.add(LSTM(16))\n",
        "model.add(Dense(total_words/2, activation='relu', kernel_regularizer=regularizers.l2(0.01)))\n",
        "model.add(Dense(total_words, activation='softmax'))\n",
        "\n",
        "model.compile(loss='sparse_categorical_crossentropy', optimizer='adam', metrics=['accuracy'])\n",
        "print(model.summary())"
      ],
      "execution_count": 15,
      "outputs": [
        {
          "output_type": "stream",
          "text": [
            "Model: \"sequential\"\n",
            "_________________________________________________________________\n",
            "Layer (type)                 Output Shape              Param #   \n",
            "=================================================================\n",
            "embedding (Embedding)        (None, None, 100)         459400    \n",
            "_________________________________________________________________\n",
            "bidirectional (Bidirectional (None, None, 64)          34048     \n",
            "_________________________________________________________________\n",
            "dropout (Dropout)            (None, None, 64)          0         \n",
            "_________________________________________________________________\n",
            "lstm_1 (LSTM)                (None, 16)                5184      \n",
            "_________________________________________________________________\n",
            "dense (Dense)                (None, 2297)              39049     \n",
            "_________________________________________________________________\n",
            "dense_1 (Dense)              (None, 4594)              10557012  \n",
            "=================================================================\n",
            "Total params: 11,094,693\n",
            "Trainable params: 11,094,693\n",
            "Non-trainable params: 0\n",
            "_________________________________________________________________\n",
            "None\n"
          ],
          "name": "stdout"
        }
      ]
    },
    {
      "cell_type": "code",
      "metadata": {
        "colab_type": "code",
        "id": "AIg2f1HBxqof",
        "outputId": "5ac6871d-09e5-4cd4-e5b3-5bdb3a0a39a9",
        "scrolled": true,
        "colab": {
          "base_uri": "https://localhost:8080/",
          "height": 1000
        }
      },
      "source": [
        " %%time\n",
        " history = model.fit(dataset, epochs=200, verbose=1)"
      ],
      "execution_count": 22,
      "outputs": [
        {
          "output_type": "stream",
          "text": [
            "Epoch 1/200\n",
            "36/36 [==============================] - 3s 72ms/step - loss: 1.2275 - accuracy: 0.7969\n",
            "Epoch 2/200\n",
            "36/36 [==============================] - 3s 75ms/step - loss: 1.2111 - accuracy: 0.7979\n",
            "Epoch 3/200\n",
            "36/36 [==============================] - 3s 74ms/step - loss: 1.2107 - accuracy: 0.8011\n",
            "Epoch 4/200\n",
            "36/36 [==============================] - 3s 74ms/step - loss: 1.2136 - accuracy: 0.7956\n",
            "Epoch 5/200\n",
            "36/36 [==============================] - 3s 73ms/step - loss: 1.2084 - accuracy: 0.7964\n",
            "Epoch 6/200\n",
            "36/36 [==============================] - 3s 76ms/step - loss: 1.1930 - accuracy: 0.8018\n",
            "Epoch 7/200\n",
            "36/36 [==============================] - 3s 73ms/step - loss: 1.1959 - accuracy: 0.8022\n",
            "Epoch 8/200\n",
            "36/36 [==============================] - 3s 74ms/step - loss: 1.1880 - accuracy: 0.8025\n",
            "Epoch 9/200\n",
            "36/36 [==============================] - 3s 74ms/step - loss: 1.1840 - accuracy: 0.8041\n",
            "Epoch 10/200\n",
            "36/36 [==============================] - 3s 80ms/step - loss: 1.1740 - accuracy: 0.8032\n",
            "Epoch 11/200\n",
            "36/36 [==============================] - 3s 73ms/step - loss: 1.1720 - accuracy: 0.8077\n",
            "Epoch 12/200\n",
            "36/36 [==============================] - 3s 75ms/step - loss: 1.1725 - accuracy: 0.8077\n",
            "Epoch 13/200\n",
            "36/36 [==============================] - 3s 74ms/step - loss: 1.1695 - accuracy: 0.8071\n",
            "Epoch 14/200\n",
            "36/36 [==============================] - 3s 73ms/step - loss: 1.1593 - accuracy: 0.8105\n",
            "Epoch 15/200\n",
            "36/36 [==============================] - 3s 77ms/step - loss: 1.1589 - accuracy: 0.8072\n",
            "Epoch 16/200\n",
            "36/36 [==============================] - 3s 74ms/step - loss: 1.1537 - accuracy: 0.8094\n",
            "Epoch 17/200\n",
            "36/36 [==============================] - 3s 73ms/step - loss: 1.1603 - accuracy: 0.8046\n",
            "Epoch 18/200\n",
            "36/36 [==============================] - 3s 73ms/step - loss: 1.1612 - accuracy: 0.8054\n",
            "Epoch 19/200\n",
            "36/36 [==============================] - 3s 75ms/step - loss: 1.1428 - accuracy: 0.8124\n",
            "Epoch 20/200\n",
            "36/36 [==============================] - 3s 75ms/step - loss: 1.1452 - accuracy: 0.8083\n",
            "Epoch 21/200\n",
            "36/36 [==============================] - 3s 73ms/step - loss: 1.1368 - accuracy: 0.8117\n",
            "Epoch 22/200\n",
            "36/36 [==============================] - 3s 75ms/step - loss: 1.1206 - accuracy: 0.8145\n",
            "Epoch 23/200\n",
            "36/36 [==============================] - 3s 75ms/step - loss: 1.1176 - accuracy: 0.8173\n",
            "Epoch 24/200\n",
            "36/36 [==============================] - 3s 73ms/step - loss: 1.1243 - accuracy: 0.8098\n",
            "Epoch 25/200\n",
            "36/36 [==============================] - 3s 74ms/step - loss: 1.1084 - accuracy: 0.8154\n",
            "Epoch 26/200\n",
            "36/36 [==============================] - 3s 73ms/step - loss: 1.1096 - accuracy: 0.8120\n",
            "Epoch 27/200\n",
            "36/36 [==============================] - 3s 75ms/step - loss: 1.1103 - accuracy: 0.8173\n",
            "Epoch 28/200\n",
            "36/36 [==============================] - 3s 73ms/step - loss: 1.1005 - accuracy: 0.8206\n",
            "Epoch 29/200\n",
            "36/36 [==============================] - 3s 74ms/step - loss: 1.1026 - accuracy: 0.8191\n",
            "Epoch 30/200\n",
            "36/36 [==============================] - 3s 74ms/step - loss: 1.1031 - accuracy: 0.8158\n",
            "Epoch 31/200\n",
            "36/36 [==============================] - 3s 74ms/step - loss: 1.1003 - accuracy: 0.8180\n",
            "Epoch 32/200\n",
            "36/36 [==============================] - 3s 75ms/step - loss: 1.0848 - accuracy: 0.8228\n",
            "Epoch 33/200\n",
            "36/36 [==============================] - 3s 73ms/step - loss: 1.0871 - accuracy: 0.8199\n",
            "Epoch 34/200\n",
            "36/36 [==============================] - 3s 73ms/step - loss: 1.0838 - accuracy: 0.8213\n",
            "Epoch 35/200\n",
            "36/36 [==============================] - 3s 74ms/step - loss: 1.0796 - accuracy: 0.8225\n",
            "Epoch 36/200\n",
            "36/36 [==============================] - 3s 74ms/step - loss: 1.0826 - accuracy: 0.8236\n",
            "Epoch 37/200\n",
            "36/36 [==============================] - 3s 74ms/step - loss: 1.0826 - accuracy: 0.8211\n",
            "Epoch 38/200\n",
            "36/36 [==============================] - 3s 76ms/step - loss: 1.0788 - accuracy: 0.8191\n",
            "Epoch 39/200\n",
            "36/36 [==============================] - 3s 73ms/step - loss: 1.0650 - accuracy: 0.8244\n",
            "Epoch 40/200\n",
            "36/36 [==============================] - 3s 74ms/step - loss: 1.0672 - accuracy: 0.8240\n",
            "Epoch 41/200\n",
            "36/36 [==============================] - 3s 74ms/step - loss: 1.0599 - accuracy: 0.8242\n",
            "Epoch 42/200\n",
            "36/36 [==============================] - 3s 72ms/step - loss: 1.0450 - accuracy: 0.8294\n",
            "Epoch 43/200\n",
            "36/36 [==============================] - 3s 73ms/step - loss: 1.0535 - accuracy: 0.8286\n",
            "Epoch 44/200\n",
            "36/36 [==============================] - 3s 73ms/step - loss: 1.0673 - accuracy: 0.8247\n",
            "Epoch 45/200\n",
            "36/36 [==============================] - 3s 75ms/step - loss: 1.0636 - accuracy: 0.8214\n",
            "Epoch 46/200\n",
            "36/36 [==============================] - 3s 72ms/step - loss: 1.0569 - accuracy: 0.8226\n",
            "Epoch 47/200\n",
            "36/36 [==============================] - 3s 74ms/step - loss: 1.0632 - accuracy: 0.8213\n",
            "Epoch 48/200\n",
            "36/36 [==============================] - 3s 75ms/step - loss: 1.0544 - accuracy: 0.8242\n",
            "Epoch 49/200\n",
            "36/36 [==============================] - 3s 76ms/step - loss: 1.0557 - accuracy: 0.8230\n",
            "Epoch 50/200\n",
            "36/36 [==============================] - 3s 74ms/step - loss: 1.0569 - accuracy: 0.8228\n",
            "Epoch 51/200\n",
            "36/36 [==============================] - 3s 73ms/step - loss: 1.0451 - accuracy: 0.8286\n",
            "Epoch 52/200\n",
            "36/36 [==============================] - 3s 73ms/step - loss: 1.0323 - accuracy: 0.8265\n",
            "Epoch 53/200\n",
            "36/36 [==============================] - 3s 76ms/step - loss: 1.0298 - accuracy: 0.8294\n",
            "Epoch 54/200\n",
            "36/36 [==============================] - 3s 74ms/step - loss: 1.0332 - accuracy: 0.8265\n",
            "Epoch 55/200\n",
            "36/36 [==============================] - 3s 74ms/step - loss: 1.0271 - accuracy: 0.8270\n",
            "Epoch 56/200\n",
            "36/36 [==============================] - 3s 74ms/step - loss: 1.0215 - accuracy: 0.8319\n",
            "Epoch 57/200\n",
            "36/36 [==============================] - 3s 76ms/step - loss: 1.0208 - accuracy: 0.8277\n",
            "Epoch 58/200\n",
            "36/36 [==============================] - 3s 74ms/step - loss: 1.0401 - accuracy: 0.8287\n",
            "Epoch 59/200\n",
            "36/36 [==============================] - 3s 73ms/step - loss: 1.0421 - accuracy: 0.8288\n",
            "Epoch 60/200\n",
            "36/36 [==============================] - 3s 75ms/step - loss: 1.0316 - accuracy: 0.8300\n",
            "Epoch 61/200\n",
            "36/36 [==============================] - 3s 74ms/step - loss: 1.0160 - accuracy: 0.8290\n",
            "Epoch 62/200\n",
            "36/36 [==============================] - 3s 75ms/step - loss: 1.0098 - accuracy: 0.8329\n",
            "Epoch 63/200\n",
            "36/36 [==============================] - 3s 75ms/step - loss: 1.0106 - accuracy: 0.8295\n",
            "Epoch 64/200\n",
            "36/36 [==============================] - 3s 73ms/step - loss: 1.0036 - accuracy: 0.8290\n",
            "Epoch 65/200\n",
            "36/36 [==============================] - 3s 73ms/step - loss: 0.9933 - accuracy: 0.8337\n",
            "Epoch 66/200\n",
            "36/36 [==============================] - 3s 76ms/step - loss: 0.9888 - accuracy: 0.8340\n",
            "Epoch 67/200\n",
            "36/36 [==============================] - 3s 74ms/step - loss: 0.9777 - accuracy: 0.8376\n",
            "Epoch 68/200\n",
            "36/36 [==============================] - 3s 74ms/step - loss: 0.9861 - accuracy: 0.8349\n",
            "Epoch 69/200\n",
            "36/36 [==============================] - 3s 74ms/step - loss: 0.9836 - accuracy: 0.8355\n",
            "Epoch 70/200\n",
            "36/36 [==============================] - 3s 73ms/step - loss: 0.9813 - accuracy: 0.8360\n",
            "Epoch 71/200\n",
            "36/36 [==============================] - 3s 73ms/step - loss: 0.9714 - accuracy: 0.8403\n",
            "Epoch 72/200\n",
            "36/36 [==============================] - 3s 74ms/step - loss: 0.9751 - accuracy: 0.8407\n",
            "Epoch 73/200\n",
            "36/36 [==============================] - 3s 73ms/step - loss: 0.9608 - accuracy: 0.8427\n",
            "Epoch 74/200\n",
            "36/36 [==============================] - 3s 74ms/step - loss: 0.9671 - accuracy: 0.8375\n",
            "Epoch 75/200\n",
            "36/36 [==============================] - 3s 73ms/step - loss: 0.9633 - accuracy: 0.8390\n",
            "Epoch 76/200\n",
            "36/36 [==============================] - 3s 74ms/step - loss: 0.9608 - accuracy: 0.8390\n",
            "Epoch 77/200\n",
            "36/36 [==============================] - 3s 75ms/step - loss: 0.9546 - accuracy: 0.8395\n",
            "Epoch 78/200\n",
            "36/36 [==============================] - 3s 74ms/step - loss: 0.9580 - accuracy: 0.8395\n",
            "Epoch 79/200\n",
            "36/36 [==============================] - 3s 75ms/step - loss: 0.9526 - accuracy: 0.8396\n",
            "Epoch 80/200\n",
            "36/36 [==============================] - 3s 74ms/step - loss: 0.9455 - accuracy: 0.8410\n",
            "Epoch 81/200\n",
            "36/36 [==============================] - 3s 74ms/step - loss: 0.9544 - accuracy: 0.8394\n",
            "Epoch 82/200\n",
            "36/36 [==============================] - 3s 75ms/step - loss: 0.9490 - accuracy: 0.8411\n",
            "Epoch 83/200\n",
            "36/36 [==============================] - 3s 73ms/step - loss: 0.9450 - accuracy: 0.8408\n",
            "Epoch 84/200\n",
            "36/36 [==============================] - 3s 74ms/step - loss: 0.9551 - accuracy: 0.8373\n",
            "Epoch 85/200\n",
            "36/36 [==============================] - 3s 75ms/step - loss: 0.9597 - accuracy: 0.8388\n",
            "Epoch 86/200\n",
            "36/36 [==============================] - 3s 74ms/step - loss: 0.9727 - accuracy: 0.8286\n",
            "Epoch 87/200\n",
            "36/36 [==============================] - 3s 74ms/step - loss: 0.9727 - accuracy: 0.8355\n",
            "Epoch 88/200\n",
            "36/36 [==============================] - 3s 75ms/step - loss: 0.9615 - accuracy: 0.8340\n",
            "Epoch 89/200\n",
            "36/36 [==============================] - 3s 75ms/step - loss: 0.9469 - accuracy: 0.8403\n",
            "Epoch 90/200\n",
            "36/36 [==============================] - 3s 75ms/step - loss: 0.9366 - accuracy: 0.8416\n",
            "Epoch 91/200\n",
            "36/36 [==============================] - 3s 74ms/step - loss: 0.9355 - accuracy: 0.8415\n",
            "Epoch 92/200\n",
            "36/36 [==============================] - 3s 75ms/step - loss: 0.9366 - accuracy: 0.8428\n",
            "Epoch 93/200\n",
            "36/36 [==============================] - 3s 74ms/step - loss: 0.9362 - accuracy: 0.8403\n",
            "Epoch 94/200\n",
            "36/36 [==============================] - 3s 75ms/step - loss: 0.9289 - accuracy: 0.8405\n",
            "Epoch 95/200\n",
            "36/36 [==============================] - 3s 74ms/step - loss: 0.9211 - accuracy: 0.8432\n",
            "Epoch 96/200\n",
            "36/36 [==============================] - 3s 74ms/step - loss: 0.9123 - accuracy: 0.8441\n",
            "Epoch 97/200\n",
            "36/36 [==============================] - 3s 76ms/step - loss: 0.9042 - accuracy: 0.8492\n",
            "Epoch 98/200\n",
            "36/36 [==============================] - 3s 76ms/step - loss: 0.9121 - accuracy: 0.8465\n",
            "Epoch 99/200\n",
            "36/36 [==============================] - 3s 73ms/step - loss: 0.9097 - accuracy: 0.8432\n",
            "Epoch 100/200\n",
            "36/36 [==============================] - 3s 74ms/step - loss: 0.9109 - accuracy: 0.8424\n",
            "Epoch 101/200\n",
            "36/36 [==============================] - 3s 75ms/step - loss: 0.8974 - accuracy: 0.8459\n",
            "Epoch 102/200\n",
            "36/36 [==============================] - 3s 75ms/step - loss: 0.8934 - accuracy: 0.8494\n",
            "Epoch 103/200\n",
            "36/36 [==============================] - 3s 74ms/step - loss: 0.8957 - accuracy: 0.8453\n",
            "Epoch 104/200\n",
            "36/36 [==============================] - 3s 74ms/step - loss: 0.8947 - accuracy: 0.8471\n",
            "Epoch 105/200\n",
            "36/36 [==============================] - 3s 74ms/step - loss: 0.9054 - accuracy: 0.8454\n",
            "Epoch 106/200\n",
            "36/36 [==============================] - 3s 74ms/step - loss: 0.8898 - accuracy: 0.8490\n",
            "Epoch 107/200\n",
            "36/36 [==============================] - 3s 73ms/step - loss: 0.8906 - accuracy: 0.8480\n",
            "Epoch 108/200\n",
            "36/36 [==============================] - 3s 74ms/step - loss: 0.8917 - accuracy: 0.8475\n",
            "Epoch 109/200\n",
            "36/36 [==============================] - 3s 73ms/step - loss: 0.8926 - accuracy: 0.8466\n",
            "Epoch 110/200\n",
            "36/36 [==============================] - 3s 73ms/step - loss: 0.9480 - accuracy: 0.8372\n",
            "Epoch 111/200\n",
            "36/36 [==============================] - 3s 74ms/step - loss: 0.9583 - accuracy: 0.8331\n",
            "Epoch 112/200\n",
            "36/36 [==============================] - 3s 75ms/step - loss: 0.9353 - accuracy: 0.8391\n",
            "Epoch 113/200\n",
            "36/36 [==============================] - 3s 74ms/step - loss: 0.9036 - accuracy: 0.8419\n",
            "Epoch 114/200\n",
            "36/36 [==============================] - 3s 73ms/step - loss: 0.8838 - accuracy: 0.8470\n",
            "Epoch 115/200\n",
            "36/36 [==============================] - 3s 75ms/step - loss: 0.8747 - accuracy: 0.8481\n",
            "Epoch 116/200\n",
            "36/36 [==============================] - 3s 75ms/step - loss: 0.8643 - accuracy: 0.8498\n",
            "Epoch 117/200\n",
            "36/36 [==============================] - 3s 74ms/step - loss: 0.8717 - accuracy: 0.8485\n",
            "Epoch 118/200\n",
            "36/36 [==============================] - 3s 73ms/step - loss: 0.8579 - accuracy: 0.8508\n",
            "Epoch 119/200\n",
            "36/36 [==============================] - 3s 76ms/step - loss: 0.8587 - accuracy: 0.8520\n",
            "Epoch 120/200\n",
            "36/36 [==============================] - 3s 74ms/step - loss: 0.8550 - accuracy: 0.8539\n",
            "Epoch 121/200\n",
            "36/36 [==============================] - 3s 74ms/step - loss: 0.8571 - accuracy: 0.8503\n",
            "Epoch 122/200\n",
            "36/36 [==============================] - 3s 73ms/step - loss: 0.8491 - accuracy: 0.8534\n",
            "Epoch 123/200\n",
            "36/36 [==============================] - 3s 74ms/step - loss: 0.8468 - accuracy: 0.8538\n",
            "Epoch 124/200\n",
            "36/36 [==============================] - 3s 75ms/step - loss: 0.8504 - accuracy: 0.8549\n",
            "Epoch 125/200\n",
            "36/36 [==============================] - 3s 75ms/step - loss: 0.8439 - accuracy: 0.8577\n",
            "Epoch 126/200\n",
            "36/36 [==============================] - 3s 76ms/step - loss: 0.8438 - accuracy: 0.8546\n",
            "Epoch 127/200\n",
            "36/36 [==============================] - 3s 73ms/step - loss: 0.8405 - accuracy: 0.8524\n",
            "Epoch 128/200\n",
            "36/36 [==============================] - 3s 73ms/step - loss: 0.8331 - accuracy: 0.8561\n",
            "Epoch 129/200\n",
            "36/36 [==============================] - 3s 75ms/step - loss: 0.8355 - accuracy: 0.8563\n",
            "Epoch 130/200\n",
            "36/36 [==============================] - 3s 75ms/step - loss: 0.8367 - accuracy: 0.8500\n",
            "Epoch 131/200\n",
            "36/36 [==============================] - 3s 73ms/step - loss: 0.8257 - accuracy: 0.8574\n",
            "Epoch 132/200\n",
            "36/36 [==============================] - 3s 74ms/step - loss: 0.8287 - accuracy: 0.8563\n",
            "Epoch 133/200\n",
            "36/36 [==============================] - 3s 76ms/step - loss: 0.8348 - accuracy: 0.8558\n",
            "Epoch 134/200\n",
            "36/36 [==============================] - 3s 73ms/step - loss: 0.8266 - accuracy: 0.8535\n",
            "Epoch 135/200\n",
            "36/36 [==============================] - 3s 73ms/step - loss: 0.8242 - accuracy: 0.8554\n",
            "Epoch 136/200\n",
            "36/36 [==============================] - 3s 75ms/step - loss: 0.8250 - accuracy: 0.8575\n",
            "Epoch 137/200\n",
            "36/36 [==============================] - 3s 76ms/step - loss: 0.8254 - accuracy: 0.8555\n",
            "Epoch 138/200\n",
            "36/36 [==============================] - 3s 75ms/step - loss: 0.8116 - accuracy: 0.8566\n",
            "Epoch 139/200\n",
            "36/36 [==============================] - 3s 74ms/step - loss: 0.8074 - accuracy: 0.8569\n",
            "Epoch 140/200\n",
            "36/36 [==============================] - 3s 73ms/step - loss: 0.8082 - accuracy: 0.8575\n",
            "Epoch 141/200\n",
            "36/36 [==============================] - 3s 77ms/step - loss: 0.8098 - accuracy: 0.8561\n",
            "Epoch 142/200\n",
            "36/36 [==============================] - 3s 76ms/step - loss: 0.8186 - accuracy: 0.8535\n",
            "Epoch 143/200\n",
            "36/36 [==============================] - 3s 74ms/step - loss: 0.8136 - accuracy: 0.8543\n",
            "Epoch 144/200\n",
            "36/36 [==============================] - 3s 74ms/step - loss: 0.8077 - accuracy: 0.8577\n",
            "Epoch 145/200\n",
            "36/36 [==============================] - 3s 73ms/step - loss: 0.8149 - accuracy: 0.8562\n",
            "Epoch 146/200\n",
            "36/36 [==============================] - 3s 75ms/step - loss: 0.8388 - accuracy: 0.8525\n",
            "Epoch 147/200\n",
            "36/36 [==============================] - 3s 75ms/step - loss: 0.8304 - accuracy: 0.8544\n",
            "Epoch 148/200\n",
            "36/36 [==============================] - 3s 73ms/step - loss: 0.8293 - accuracy: 0.8537\n",
            "Epoch 149/200\n",
            "36/36 [==============================] - 3s 73ms/step - loss: 0.8211 - accuracy: 0.8507\n",
            "Epoch 150/200\n",
            "36/36 [==============================] - 3s 75ms/step - loss: 0.8175 - accuracy: 0.8541\n",
            "Epoch 151/200\n",
            "36/36 [==============================] - 3s 74ms/step - loss: 0.8160 - accuracy: 0.8526\n",
            "Epoch 152/200\n",
            "36/36 [==============================] - 3s 76ms/step - loss: 0.8143 - accuracy: 0.8562\n",
            "Epoch 153/200\n",
            "36/36 [==============================] - 3s 73ms/step - loss: 0.8003 - accuracy: 0.8576\n",
            "Epoch 154/200\n",
            "36/36 [==============================] - 3s 74ms/step - loss: 0.8004 - accuracy: 0.8571\n",
            "Epoch 155/200\n",
            "36/36 [==============================] - 3s 74ms/step - loss: 0.7906 - accuracy: 0.8592\n",
            "Epoch 156/200\n",
            "36/36 [==============================] - 3s 76ms/step - loss: 0.7881 - accuracy: 0.8584\n",
            "Epoch 157/200\n",
            "36/36 [==============================] - 3s 74ms/step - loss: 0.7829 - accuracy: 0.8595\n",
            "Epoch 158/200\n",
            "36/36 [==============================] - 3s 74ms/step - loss: 0.7802 - accuracy: 0.8630\n",
            "Epoch 159/200\n",
            "36/36 [==============================] - 3s 75ms/step - loss: 0.7796 - accuracy: 0.8601\n",
            "Epoch 160/200\n",
            "36/36 [==============================] - 3s 76ms/step - loss: 0.7747 - accuracy: 0.8627\n",
            "Epoch 161/200\n",
            "36/36 [==============================] - 3s 73ms/step - loss: 0.7799 - accuracy: 0.8613\n",
            "Epoch 162/200\n",
            "36/36 [==============================] - 3s 74ms/step - loss: 0.7783 - accuracy: 0.8581\n",
            "Epoch 163/200\n",
            "36/36 [==============================] - 3s 76ms/step - loss: 0.7741 - accuracy: 0.8626\n",
            "Epoch 164/200\n",
            "36/36 [==============================] - 3s 74ms/step - loss: 0.7782 - accuracy: 0.8577\n",
            "Epoch 165/200\n",
            "36/36 [==============================] - 3s 73ms/step - loss: 0.7748 - accuracy: 0.8609\n",
            "Epoch 166/200\n",
            "36/36 [==============================] - 3s 75ms/step - loss: 0.7710 - accuracy: 0.8613\n",
            "Epoch 167/200\n",
            "36/36 [==============================] - 3s 76ms/step - loss: 0.7747 - accuracy: 0.8598\n",
            "Epoch 168/200\n",
            "36/36 [==============================] - 3s 72ms/step - loss: 0.7855 - accuracy: 0.8587\n",
            "Epoch 169/200\n",
            "36/36 [==============================] - 3s 73ms/step - loss: 0.7884 - accuracy: 0.8573\n",
            "Epoch 170/200\n",
            "36/36 [==============================] - 3s 74ms/step - loss: 0.7794 - accuracy: 0.8576\n",
            "Epoch 171/200\n",
            "36/36 [==============================] - 3s 79ms/step - loss: 0.7869 - accuracy: 0.8576\n",
            "Epoch 172/200\n",
            "36/36 [==============================] - 3s 75ms/step - loss: 0.7884 - accuracy: 0.8562\n",
            "Epoch 173/200\n",
            "36/36 [==============================] - 3s 73ms/step - loss: 0.7712 - accuracy: 0.8596\n",
            "Epoch 174/200\n",
            "36/36 [==============================] - 3s 73ms/step - loss: 0.7782 - accuracy: 0.8595\n",
            "Epoch 175/200\n",
            "36/36 [==============================] - 3s 74ms/step - loss: 0.7875 - accuracy: 0.8583\n",
            "Epoch 176/200\n",
            "36/36 [==============================] - 3s 75ms/step - loss: 0.7883 - accuracy: 0.8585\n",
            "Epoch 177/200\n",
            "36/36 [==============================] - 3s 76ms/step - loss: 0.7814 - accuracy: 0.8580\n",
            "Epoch 178/200\n",
            "36/36 [==============================] - 3s 73ms/step - loss: 0.7739 - accuracy: 0.8597\n",
            "Epoch 179/200\n",
            "36/36 [==============================] - 3s 75ms/step - loss: 0.7728 - accuracy: 0.8598\n",
            "Epoch 180/200\n",
            "36/36 [==============================] - 3s 75ms/step - loss: 0.7686 - accuracy: 0.8608\n",
            "Epoch 181/200\n",
            "36/36 [==============================] - 3s 74ms/step - loss: 0.7664 - accuracy: 0.8584\n",
            "Epoch 182/200\n",
            "36/36 [==============================] - 3s 74ms/step - loss: 0.7597 - accuracy: 0.8624\n",
            "Epoch 183/200\n",
            "36/36 [==============================] - 3s 73ms/step - loss: 0.7598 - accuracy: 0.8615\n",
            "Epoch 184/200\n",
            "36/36 [==============================] - 3s 74ms/step - loss: 0.7492 - accuracy: 0.8625\n",
            "Epoch 185/200\n",
            "36/36 [==============================] - 3s 75ms/step - loss: 0.7528 - accuracy: 0.8638\n",
            "Epoch 186/200\n",
            "36/36 [==============================] - 3s 72ms/step - loss: 0.7433 - accuracy: 0.8644\n",
            "Epoch 187/200\n",
            "36/36 [==============================] - 3s 75ms/step - loss: 0.7367 - accuracy: 0.8661\n",
            "Epoch 188/200\n",
            "36/36 [==============================] - 3s 73ms/step - loss: 0.7338 - accuracy: 0.8670\n",
            "Epoch 189/200\n",
            "36/36 [==============================] - 3s 77ms/step - loss: 0.7408 - accuracy: 0.8628\n",
            "Epoch 190/200\n",
            "36/36 [==============================] - 3s 73ms/step - loss: 0.7334 - accuracy: 0.8679\n",
            "Epoch 191/200\n",
            "36/36 [==============================] - 3s 75ms/step - loss: 0.7368 - accuracy: 0.8644\n",
            "Epoch 192/200\n",
            "36/36 [==============================] - 3s 76ms/step - loss: 0.7370 - accuracy: 0.8631\n",
            "Epoch 193/200\n",
            "36/36 [==============================] - 3s 74ms/step - loss: 0.7285 - accuracy: 0.8660\n",
            "Epoch 194/200\n",
            "36/36 [==============================] - 3s 73ms/step - loss: 0.7296 - accuracy: 0.8677\n",
            "Epoch 195/200\n",
            "36/36 [==============================] - 3s 75ms/step - loss: 0.7275 - accuracy: 0.8672\n",
            "Epoch 196/200\n",
            "36/36 [==============================] - 3s 74ms/step - loss: 0.7243 - accuracy: 0.8670\n",
            "Epoch 197/200\n",
            "36/36 [==============================] - 3s 73ms/step - loss: 0.7312 - accuracy: 0.8650\n",
            "Epoch 198/200\n",
            "36/36 [==============================] - 3s 74ms/step - loss: 0.7300 - accuracy: 0.8660\n",
            "Epoch 199/200\n",
            "36/36 [==============================] - 3s 74ms/step - loss: 0.7264 - accuracy: 0.8649\n",
            "Epoch 200/200\n",
            "36/36 [==============================] - 3s 75ms/step - loss: 0.7213 - accuracy: 0.8628\n",
            "CPU times: user 8min 11s, sys: 59.5 s, total: 9min 11s\n",
            "Wall time: 8min 54s\n"
          ],
          "name": "stdout"
        }
      ]
    },
    {
      "cell_type": "code",
      "metadata": {
        "colab_type": "code",
        "id": "1fXTEO3GJ282",
        "colab": {
          "base_uri": "https://localhost:8080/",
          "height": 545
        },
        "outputId": "58e0bb7e-c32d-4fb4-c567-7c3b713212bc"
      },
      "source": [
        "import matplotlib.pyplot as plt\n",
        "%matplotlib inline\n",
        "\n",
        "acc = history.history['accuracy']\n",
        "loss = history.history['loss']\n",
        "\n",
        "epochs = range(len(acc))\n",
        "\n",
        "plt.plot(epochs, acc, 'b', label='Training accuracy')\n",
        "plt.title('Training accuracy')\n",
        "\n",
        "plt.figure()\n",
        "\n",
        "plt.plot(epochs, loss, 'b', label='Training Loss')\n",
        "plt.title('Training loss')\n",
        "plt.legend()\n",
        "\n",
        "plt.show()"
      ],
      "execution_count": 23,
      "outputs": [
        {
          "output_type": "display_data",
          "data": {
            "image/png": "[encoded data removed]",
            "text/plain": [
              "<Figure size 432x288 with 1 Axes>"
            ]
          },
          "metadata": {
            "tags": []
          }
        },
        {
          "output_type": "display_data",
          "data": {
            "image/png": "[encoded data removed]",
            "text/plain": [
              "<Figure size 432x288 with 1 Axes>"
            ]
          },
          "metadata": {
            "tags": []
          }
        }
      ]
    },
    {
      "cell_type": "code",
      "metadata": {
        "colab_type": "code",
        "id": "6Vc6PHgxa6Hm",
        "colab": {
          "base_uri": "https://localhost:8080/",
          "height": 54
        },
        "outputId": "b77297e7-bf8f-46ff-d39b-d69338313a38"
      },
      "source": [
        "seed_text = \"그래서 나는 어른들이 알아볼 수 있도록 보아 구렁이의 속을 그렸다\"\n",
        "next_words = 100\n",
        "\n",
        "for _ in range(next_words):\n",
        "    token_list = tokenizer.texts_to_sequences([seed_text])[0]\n",
        "    token_list = pad_sequences([token_list], maxlen=max_sequence_len-1, padding='pre')\n",
        "    predicted = model.predict_classes(token_list, verbose=0)\n",
        "    output_word = tokenizer.index_word[predicted[0]]\n",
        "    seed_text += \" \" + output_word\n",
        "print(seed_text)"
      ],
      "execution_count": 24,
      "outputs": [
        {
          "output_type": "stream",
          "text": [
            "그래서 나는 어른들이 알아볼 수 있도록 보아 구렁이의 속을 그렸다 그렸다 말이다 해냈으면 데라곤 쌓아 움직이는 알 시간이 없어졌어 전부터 꼭 꺼질 수 없는 것이다 이 세상에 오직 하나뿐이 라는 걸 깨닫게 될 거야 거야 이 세상에 있잖아 내가 알게 된 이 세상에 하는 사람인지 알게 된 섭섭했다 세어 싶습니다 큰 바라보았다 옷을 말이다 나쁜 같은 분이 것이다 불이 꺼진 화산이지요 사리에 두드렸다 갖는 않은 계산보다 더 눈에 잠을 양 거지 한 나쁜 하늘을 바라보며 세 잘 보았어요 라고 이 그림을 들여다보았다 이행되는지 그는 말을 알게 되었다 된다 생각했다 발견하면 그건 네 소유가 되는 거고 없었다 일이었다 조금씩 몸이 갖는 것은 나의 명령들이 이치에 맞는 까닭이다 나쁜 초상화를 주고는 줄\n"
          ],
          "name": "stdout"
        }
      ]
    },
    {
      "cell_type": "code",
      "metadata": {
        "id": "OX_yyEP95aKZ",
        "colab_type": "code",
        "colab": {}
      },
      "source": [
        ""
      ],
      "execution_count": 0,
      "outputs": []
    }
  ]
}