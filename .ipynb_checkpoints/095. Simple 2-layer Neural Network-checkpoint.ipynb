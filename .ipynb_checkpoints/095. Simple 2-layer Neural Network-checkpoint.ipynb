{
 "cells": [
  {
   "cell_type": "markdown",
   "metadata": {},
   "source": [
    "# 095.Hidden layer 없는 Simple Logitstic Regression model - 1 layer\n",
    "\n",
    "<img src=\"LogReg_kiank.png\" style=\"width:650px;height:400px;\">\n",
    "\n",
    "**알고리즘의 수학적 표현**:\n",
    "\n",
    "한개의 data (사진 한장) $x^{(i)}$ 에 대하여 :\n",
    "$$z^{(i)} = w^T x^{(i)} + b \\tag{1}$$\n",
    "$$\\hat{y}^{(i)} = a^{(i)} = sigmoid(z^{(i)})\\tag{2}$$ \n",
    "$$ \\mathcal{L}(a^{(i)}, y^{(i)}) =  - y^{(i)}  \\log(a^{(i)}) - (1-y^{(i)} )  \\log(1-a^{(i)})\\tag{3}$$\n",
    "\n",
    "cost 는 모든 training data 의 개별 loss 를 합하여 계산 :\n",
    "$$ J = \\frac{1}{m} \\sum_{i=1}^m \\mathcal{L}(a^{(i)}, y^{(i)})\\tag{6}$$\n",
    "\n",
    "<출처> Andrew Ng. - Neural Network and Deep Learning (Coursera)"
   ]
  },
  {
   "cell_type": "code",
   "execution_count": 1,
   "metadata": {},
   "outputs": [],
   "source": [
    "import tensorflow as tf\n",
    "from tensorflow.keras import layers\n",
    "from sklearn.model_selection import train_test_split\n",
    "import pandas as pd\n",
    "import matplotlib.pyplot as plt\n",
    "import numpy as np\n",
    "\n",
    "from lr_utils import load_dataset"
   ]
  },
  {
   "cell_type": "code",
   "execution_count": 2,
   "metadata": {},
   "outputs": [],
   "source": [
    "X_train, y_train, X_test, y_test, classes = load_dataset()"
   ]
  },
  {
   "cell_type": "code",
   "execution_count": 3,
   "metadata": {},
   "outputs": [
    {
     "name": "stdout",
     "output_type": "stream",
     "text": [
      "(209, 64, 64, 3)\n",
      "(50, 64, 64, 3)\n",
      "(1, 209)\n",
      "(1, 50)\n",
      "[b'non-cat' b'cat']\n"
     ]
    }
   ],
   "source": [
    "print(X_train.shape)\n",
    "print(X_test.shape)\n",
    "print(y_train.shape)\n",
    "print(y_test.shape)\n",
    "print(classes)"
   ]
  },
  {
   "cell_type": "markdown",
   "metadata": {},
   "source": [
    "### data 시각화"
   ]
  },
  {
   "cell_type": "code",
   "execution_count": 4,
   "metadata": {},
   "outputs": [
    {
     "name": "stdout",
     "output_type": "stream",
     "text": [
      "y = 1 이므로 cat 사진 입니다.\n"
     ]
    },
    {
     "data": {
      "image/png": "[encoded data removed]",
      "text/plain": [
       "<Figure size 432x288 with 1 Axes>"
      ]
     },
     "metadata": {
      "needs_background": "light"
     },
     "output_type": "display_data"
    }
   ],
   "source": [
    "# Example of picture\n",
    "index = 25\n",
    "plt.imshow(X_train[index])\n",
    "\n",
    "print(\"y = \" + str(y_train[0, index]) + \" 이므로 \" +  classes[y_train[0, index]].decode(\"utf-8\") + \" 사진 입니다.\")"
   ]
  },
  {
   "cell_type": "markdown",
   "metadata": {},
   "source": [
    "64 x 64 x 3 = 12,288 pixels"
   ]
  },
  {
   "cell_type": "code",
   "execution_count": 5,
   "metadata": {},
   "outputs": [
    {
     "name": "stdout",
     "output_type": "stream",
     "text": [
      "(209, 12288)\n",
      "(209,)\n",
      "(50, 12288)\n",
      "(50,)\n"
     ]
    }
   ],
   "source": [
    "# Flatten image\n",
    "X_train_flatten = X_train.reshape(X_train.shape[0], 64*64*3) / 255.\n",
    "X_test_flatten = X_test.reshape(X_test.shape[0], 64*64*3) / 255.\n",
    "\n",
    "y_train = np.squeeze(y_train)\n",
    "y_test = np.squeeze(y_test)\n",
    "\n",
    "print(X_train_flatten.shape)\n",
    "print(y_train.shape)\n",
    "print(X_test_flatten.shape)\n",
    "print(y_test.shape)"
   ]
  },
  {
   "cell_type": "markdown",
   "metadata": {},
   "source": [
    "### Model 구성"
   ]
  },
  {
   "cell_type": "code",
   "execution_count": 6,
   "metadata": {},
   "outputs": [],
   "source": [
    "model = tf.keras.Sequential()\n",
    "\n",
    "model.add(layers.Dense(1, input_shape=(12288,)))\n",
    "model.add(layers.Activation(\"sigmoid\"))"
   ]
  },
  {
   "cell_type": "code",
   "execution_count": 7,
   "metadata": {},
   "outputs": [
    {
     "name": "stdout",
     "output_type": "stream",
     "text": [
      "Model: \"sequential\"\n",
      "_________________________________________________________________\n",
      "Layer (type)                 Output Shape              Param #   \n",
      "=================================================================\n",
      "dense (Dense)                (None, 1)                 12289     \n",
      "_________________________________________________________________\n",
      "activation (Activation)      (None, 1)                 0         \n",
      "=================================================================\n",
      "Total params: 12,289\n",
      "Trainable params: 12,289\n",
      "Non-trainable params: 0\n",
      "_________________________________________________________________\n"
     ]
    }
   ],
   "source": [
    "model.summary()"
   ]
  },
  {
   "cell_type": "markdown",
   "metadata": {},
   "source": [
    "### model compile"
   ]
  },
  {
   "cell_type": "code",
   "execution_count": 8,
   "metadata": {},
   "outputs": [],
   "source": [
    "model.compile(loss='binary_crossentropy', optimizer='adam', metrics=[\"accuracy\"])"
   ]
  },
  {
   "cell_type": "markdown",
   "metadata": {},
   "source": [
    "### model training"
   ]
  },
  {
   "cell_type": "code",
   "execution_count": 9,
   "metadata": {
    "scrolled": true
   },
   "outputs": [
    {
     "name": "stdout",
     "output_type": "stream",
     "text": [
      "Train on 209 samples, validate on 50 samples\n",
      "Epoch 1/100\n",
      "209/209 [==============================] - 1s 5ms/sample - loss: 1.2911 - accuracy: 0.5024 - val_loss: 1.9437 - val_accuracy: 0.3400\n",
      "Epoch 2/100\n",
      "209/209 [==============================] - 0s 277us/sample - loss: 0.9013 - accuracy: 0.6316 - val_loss: 0.5972 - val_accuracy: 0.6600\n",
      "Epoch 3/100\n",
      "209/209 [==============================] - 0s 268us/sample - loss: 0.8591 - accuracy: 0.5550 - val_loss: 0.8613 - val_accuracy: 0.3600\n",
      "Epoch 4/100\n",
      "209/209 [==============================] - 0s 268us/sample - loss: 0.6501 - accuracy: 0.6220 - val_loss: 1.1101 - val_accuracy: 0.3400\n",
      "Epoch 5/100\n",
      "209/209 [==============================] - 0s 249us/sample - loss: 0.6784 - accuracy: 0.6364 - val_loss: 0.8422 - val_accuracy: 0.4000\n",
      "Epoch 6/100\n",
      "209/209 [==============================] - 0s 244us/sample - loss: 0.5905 - accuracy: 0.6890 - val_loss: 0.7000 - val_accuracy: 0.4800\n",
      "Epoch 7/100\n",
      "209/209 [==============================] - 0s 244us/sample - loss: 0.5430 - accuracy: 0.7368 - val_loss: 0.6134 - val_accuracy: 0.7200\n",
      "Epoch 8/100\n",
      "209/209 [==============================] - 0s 239us/sample - loss: 0.5224 - accuracy: 0.7512 - val_loss: 0.6455 - val_accuracy: 0.5600\n",
      "Epoch 9/100\n",
      "209/209 [==============================] - 0s 234us/sample - loss: 0.5113 - accuracy: 0.7560 - val_loss: 0.5824 - val_accuracy: 0.6800\n",
      "Epoch 10/100\n",
      "209/209 [==============================] - 0s 244us/sample - loss: 0.4955 - accuracy: 0.7751 - val_loss: 0.6749 - val_accuracy: 0.5400\n",
      "Epoch 11/100\n",
      "209/209 [==============================] - 0s 244us/sample - loss: 0.4833 - accuracy: 0.7656 - val_loss: 0.6461 - val_accuracy: 0.6800\n",
      "Epoch 12/100\n",
      "209/209 [==============================] - 0s 234us/sample - loss: 0.4595 - accuracy: 0.8230 - val_loss: 0.6101 - val_accuracy: 0.6600\n",
      "Epoch 13/100\n",
      "209/209 [==============================] - 0s 230us/sample - loss: 0.4469 - accuracy: 0.8230 - val_loss: 0.6873 - val_accuracy: 0.5800\n",
      "Epoch 14/100\n",
      "209/209 [==============================] - 0s 234us/sample - loss: 0.4402 - accuracy: 0.8230 - val_loss: 0.7397 - val_accuracy: 0.5600\n",
      "Epoch 15/100\n",
      "209/209 [==============================] - 0s 239us/sample - loss: 0.4494 - accuracy: 0.7799 - val_loss: 0.4884 - val_accuracy: 0.7800\n",
      "Epoch 16/100\n",
      "209/209 [==============================] - 0s 234us/sample - loss: 0.4932 - accuracy: 0.7656 - val_loss: 0.4966 - val_accuracy: 0.7800\n",
      "Epoch 17/100\n",
      "209/209 [==============================] - 0s 234us/sample - loss: 0.4641 - accuracy: 0.7608 - val_loss: 0.6271 - val_accuracy: 0.6400\n",
      "Epoch 18/100\n",
      "209/209 [==============================] - 0s 234us/sample - loss: 0.4261 - accuracy: 0.8325 - val_loss: 0.7217 - val_accuracy: 0.5600\n",
      "Epoch 19/100\n",
      "209/209 [==============================] - 0s 239us/sample - loss: 0.4296 - accuracy: 0.8086 - val_loss: 0.7701 - val_accuracy: 0.5800\n",
      "Epoch 20/100\n",
      "209/209 [==============================] - 0s 278us/sample - loss: 0.3842 - accuracy: 0.8565 - val_loss: 0.6543 - val_accuracy: 0.6200\n",
      "Epoch 21/100\n",
      "209/209 [==============================] - 0s 244us/sample - loss: 0.3850 - accuracy: 0.8804 - val_loss: 0.7380 - val_accuracy: 0.5600\n",
      "Epoch 22/100\n",
      "209/209 [==============================] - 0s 239us/sample - loss: 0.3953 - accuracy: 0.8182 - val_loss: 0.5152 - val_accuracy: 0.7800\n",
      "Epoch 23/100\n",
      "209/209 [==============================] - 0s 249us/sample - loss: 0.3745 - accuracy: 0.8517 - val_loss: 0.5642 - val_accuracy: 0.7200\n",
      "Epoch 24/100\n",
      "209/209 [==============================] - 0s 234us/sample - loss: 0.3628 - accuracy: 0.8804 - val_loss: 1.1543 - val_accuracy: 0.3800\n",
      "Epoch 25/100\n",
      "209/209 [==============================] - 0s 234us/sample - loss: 0.4311 - accuracy: 0.8134 - val_loss: 0.7732 - val_accuracy: 0.6000\n",
      "Epoch 26/100\n",
      "209/209 [==============================] - 0s 249us/sample - loss: 0.3409 - accuracy: 0.8900 - val_loss: 0.6506 - val_accuracy: 0.6600\n",
      "Epoch 27/100\n",
      "209/209 [==============================] - 0s 239us/sample - loss: 0.3259 - accuracy: 0.9043 - val_loss: 0.7019 - val_accuracy: 0.6400\n",
      "Epoch 28/100\n",
      "209/209 [==============================] - 0s 244us/sample - loss: 0.3277 - accuracy: 0.9043 - val_loss: 0.6666 - val_accuracy: 0.6800\n",
      "Epoch 29/100\n",
      "209/209 [==============================] - 0s 263us/sample - loss: 0.3194 - accuracy: 0.8995 - val_loss: 0.5770 - val_accuracy: 0.7600\n",
      "Epoch 30/100\n",
      "209/209 [==============================] - 0s 268us/sample - loss: 0.3185 - accuracy: 0.8900 - val_loss: 0.6577 - val_accuracy: 0.7000\n",
      "Epoch 31/100\n",
      "209/209 [==============================] - 0s 278us/sample - loss: 0.3015 - accuracy: 0.9234 - val_loss: 0.7675 - val_accuracy: 0.5800\n",
      "Epoch 32/100\n",
      "209/209 [==============================] - 0s 254us/sample - loss: 0.3169 - accuracy: 0.8852 - val_loss: 0.6959 - val_accuracy: 0.6800\n",
      "Epoch 33/100\n",
      "209/209 [==============================] - 0s 273us/sample - loss: 0.3757 - accuracy: 0.8230 - val_loss: 0.5660 - val_accuracy: 0.7400\n",
      "Epoch 34/100\n",
      "209/209 [==============================] - 0s 239us/sample - loss: 0.3084 - accuracy: 0.8995 - val_loss: 0.5269 - val_accuracy: 0.7800\n",
      "Epoch 35/100\n",
      "209/209 [==============================] - 0s 239us/sample - loss: 0.3380 - accuracy: 0.8517 - val_loss: 0.5780 - val_accuracy: 0.7400\n",
      "Epoch 36/100\n",
      "209/209 [==============================] - 0s 244us/sample - loss: 0.2877 - accuracy: 0.9426 - val_loss: 0.6360 - val_accuracy: 0.6800\n",
      "Epoch 37/100\n",
      "209/209 [==============================] - 0s 263us/sample - loss: 0.2724 - accuracy: 0.9282 - val_loss: 0.5964 - val_accuracy: 0.7200\n",
      "Epoch 38/100\n",
      "209/209 [==============================] - 0s 244us/sample - loss: 0.2852 - accuracy: 0.9139 - val_loss: 1.0251 - val_accuracy: 0.4600\n",
      "Epoch 39/100\n",
      "209/209 [==============================] - 0s 254us/sample - loss: 0.3152 - accuracy: 0.8804 - val_loss: 0.9502 - val_accuracy: 0.4800\n",
      "Epoch 40/100\n",
      "209/209 [==============================] - 0s 244us/sample - loss: 0.3030 - accuracy: 0.8804 - val_loss: 0.5544 - val_accuracy: 0.7600\n",
      "Epoch 41/100\n",
      "209/209 [==============================] - 0s 258us/sample - loss: 0.2989 - accuracy: 0.8900 - val_loss: 0.6103 - val_accuracy: 0.7200\n",
      "Epoch 42/100\n",
      "209/209 [==============================] - 0s 234us/sample - loss: 0.2540 - accuracy: 0.9426 - val_loss: 0.6343 - val_accuracy: 0.7200\n",
      "Epoch 43/100\n",
      "209/209 [==============================] - 0s 230us/sample - loss: 0.2466 - accuracy: 0.9378 - val_loss: 0.7066 - val_accuracy: 0.7200\n",
      "Epoch 44/100\n",
      "209/209 [==============================] - 0s 234us/sample - loss: 0.2415 - accuracy: 0.9522 - val_loss: 0.7320 - val_accuracy: 0.6800\n",
      "Epoch 45/100\n",
      "209/209 [==============================] - 0s 230us/sample - loss: 0.2502 - accuracy: 0.9330 - val_loss: 0.8485 - val_accuracy: 0.5600\n",
      "Epoch 46/100\n",
      "209/209 [==============================] - 0s 230us/sample - loss: 0.2925 - accuracy: 0.8995 - val_loss: 0.9025 - val_accuracy: 0.5600\n",
      "Epoch 47/100\n",
      "209/209 [==============================] - 0s 230us/sample - loss: 0.2588 - accuracy: 0.9330 - val_loss: 0.7593 - val_accuracy: 0.6600\n",
      "Epoch 48/100\n",
      "209/209 [==============================] - 0s 234us/sample - loss: 0.2294 - accuracy: 0.9522 - val_loss: 0.5922 - val_accuracy: 0.7200\n",
      "Epoch 49/100\n",
      "209/209 [==============================] - 0s 239us/sample - loss: 0.2518 - accuracy: 0.9282 - val_loss: 0.6812 - val_accuracy: 0.7400\n",
      "Epoch 50/100\n",
      "209/209 [==============================] - 0s 234us/sample - loss: 0.2239 - accuracy: 0.9569 - val_loss: 0.7925 - val_accuracy: 0.6600\n",
      "Epoch 51/100\n",
      "209/209 [==============================] - 0s 254us/sample - loss: 0.2294 - accuracy: 0.9426 - val_loss: 0.7579 - val_accuracy: 0.6800\n",
      "Epoch 52/100\n",
      "209/209 [==============================] - 0s 239us/sample - loss: 0.2125 - accuracy: 0.9617 - val_loss: 0.6325 - val_accuracy: 0.7200\n",
      "Epoch 53/100\n",
      "209/209 [==============================] - 0s 239us/sample - loss: 0.2307 - accuracy: 0.9474 - val_loss: 0.6063 - val_accuracy: 0.7200\n",
      "Epoch 54/100\n",
      "209/209 [==============================] - 0s 234us/sample - loss: 0.2323 - accuracy: 0.9426 - val_loss: 0.6388 - val_accuracy: 0.7200\n",
      "Epoch 55/100\n",
      "209/209 [==============================] - 0s 244us/sample - loss: 0.2244 - accuracy: 0.9426 - val_loss: 0.7703 - val_accuracy: 0.6800\n",
      "Epoch 56/100\n"
     ]
    },
    {
     "name": "stdout",
     "output_type": "stream",
     "text": [
      "209/209 [==============================] - 0s 234us/sample - loss: 0.2194 - accuracy: 0.9522 - val_loss: 0.7354 - val_accuracy: 0.7000\n",
      "Epoch 57/100\n",
      "209/209 [==============================] - 0s 234us/sample - loss: 0.1966 - accuracy: 0.9713 - val_loss: 0.6981 - val_accuracy: 0.7000\n",
      "Epoch 58/100\n",
      "209/209 [==============================] - 0s 244us/sample - loss: 0.2081 - accuracy: 0.9522 - val_loss: 0.6854 - val_accuracy: 0.7200\n",
      "Epoch 59/100\n",
      "209/209 [==============================] - 0s 234us/sample - loss: 0.1988 - accuracy: 0.9713 - val_loss: 0.7466 - val_accuracy: 0.7200\n",
      "Epoch 60/100\n",
      "209/209 [==============================] - 0s 239us/sample - loss: 0.2050 - accuracy: 0.9522 - val_loss: 0.7432 - val_accuracy: 0.7200\n",
      "Epoch 61/100\n",
      "209/209 [==============================] - 0s 244us/sample - loss: 0.2176 - accuracy: 0.9378 - val_loss: 0.8986 - val_accuracy: 0.6000\n",
      "Epoch 62/100\n",
      "209/209 [==============================] - 0s 239us/sample - loss: 0.1945 - accuracy: 0.9665 - val_loss: 0.8925 - val_accuracy: 0.6200\n",
      "Epoch 63/100\n",
      "209/209 [==============================] - 0s 249us/sample - loss: 0.2319 - accuracy: 0.9043 - val_loss: 0.6210 - val_accuracy: 0.7600\n",
      "Epoch 64/100\n",
      "209/209 [==============================] - 0s 244us/sample - loss: 0.2328 - accuracy: 0.9187 - val_loss: 0.6219 - val_accuracy: 0.7800\n",
      "Epoch 65/100\n",
      "209/209 [==============================] - 0s 234us/sample - loss: 0.2503 - accuracy: 0.9043 - val_loss: 0.7045 - val_accuracy: 0.7200\n",
      "Epoch 66/100\n",
      "209/209 [==============================] - 0s 234us/sample - loss: 0.2325 - accuracy: 0.9043 - val_loss: 0.8631 - val_accuracy: 0.6600\n",
      "Epoch 67/100\n",
      "209/209 [==============================] - 0s 230us/sample - loss: 0.2164 - accuracy: 0.9282 - val_loss: 1.2103 - val_accuracy: 0.4600\n",
      "Epoch 68/100\n",
      "209/209 [==============================] - 0s 311us/sample - loss: 0.2468 - accuracy: 0.8947 - val_loss: 0.8324 - val_accuracy: 0.6600\n",
      "Epoch 69/100\n",
      "209/209 [==============================] - 0s 292us/sample - loss: 0.2383 - accuracy: 0.9091 - val_loss: 0.7242 - val_accuracy: 0.7400\n",
      "Epoch 70/100\n",
      "209/209 [==============================] - 0s 306us/sample - loss: 0.1936 - accuracy: 0.9522 - val_loss: 0.7051 - val_accuracy: 0.7400\n",
      "Epoch 71/100\n",
      "209/209 [==============================] - 0s 311us/sample - loss: 0.1597 - accuracy: 0.9761 - val_loss: 0.8218 - val_accuracy: 0.6800\n",
      "Epoch 72/100\n",
      "209/209 [==============================] - 0s 325us/sample - loss: 0.1768 - accuracy: 0.9761 - val_loss: 0.7693 - val_accuracy: 0.6800\n",
      "Epoch 73/100\n",
      "209/209 [==============================] - 0s 306us/sample - loss: 0.2083 - accuracy: 0.9234 - val_loss: 0.7009 - val_accuracy: 0.7200\n",
      "Epoch 74/100\n",
      "209/209 [==============================] - 0s 306us/sample - loss: 0.1769 - accuracy: 0.9713 - val_loss: 0.6712 - val_accuracy: 0.7200\n",
      "Epoch 75/100\n",
      "209/209 [==============================] - 0s 316us/sample - loss: 0.1631 - accuracy: 0.9809 - val_loss: 0.7991 - val_accuracy: 0.7000\n",
      "Epoch 76/100\n",
      "209/209 [==============================] - 0s 311us/sample - loss: 0.1729 - accuracy: 0.9713 - val_loss: 1.0854 - val_accuracy: 0.5400\n",
      "Epoch 77/100\n",
      "209/209 [==============================] - 0s 311us/sample - loss: 0.2054 - accuracy: 0.9426 - val_loss: 0.9413 - val_accuracy: 0.6200\n",
      "Epoch 78/100\n",
      "209/209 [==============================] - 0s 278us/sample - loss: 0.1938 - accuracy: 0.9378 - val_loss: 0.6743 - val_accuracy: 0.7400\n",
      "Epoch 79/100\n",
      "209/209 [==============================] - 0s 301us/sample - loss: 0.1695 - accuracy: 0.9617 - val_loss: 0.7532 - val_accuracy: 0.7200\n",
      "Epoch 80/100\n",
      "209/209 [==============================] - 0s 301us/sample - loss: 0.1777 - accuracy: 0.9569 - val_loss: 0.8596 - val_accuracy: 0.6800\n",
      "Epoch 81/100\n",
      "209/209 [==============================] - 0s 316us/sample - loss: 0.1383 - accuracy: 0.9856 - val_loss: 0.7305 - val_accuracy: 0.7200\n",
      "Epoch 82/100\n",
      "209/209 [==============================] - 0s 273us/sample - loss: 0.1543 - accuracy: 0.9761 - val_loss: 0.8838 - val_accuracy: 0.6600\n",
      "Epoch 83/100\n",
      "209/209 [==============================] - 0s 225us/sample - loss: 0.1469 - accuracy: 0.9761 - val_loss: 0.9355 - val_accuracy: 0.6200\n",
      "Epoch 84/100\n",
      "209/209 [==============================] - 0s 230us/sample - loss: 0.1562 - accuracy: 0.9809 - val_loss: 0.8012 - val_accuracy: 0.6800\n",
      "Epoch 85/100\n",
      "209/209 [==============================] - 0s 230us/sample - loss: 0.1460 - accuracy: 0.9809 - val_loss: 0.6926 - val_accuracy: 0.7200\n",
      "Epoch 86/100\n",
      "209/209 [==============================] - 0s 230us/sample - loss: 0.1559 - accuracy: 0.9713 - val_loss: 0.8256 - val_accuracy: 0.7000\n",
      "Epoch 87/100\n",
      "209/209 [==============================] - 0s 234us/sample - loss: 0.1578 - accuracy: 0.9761 - val_loss: 0.9782 - val_accuracy: 0.6400\n",
      "Epoch 88/100\n",
      "209/209 [==============================] - 0s 239us/sample - loss: 0.1411 - accuracy: 0.9904 - val_loss: 0.7897 - val_accuracy: 0.7200\n",
      "Epoch 89/100\n",
      "209/209 [==============================] - 0s 239us/sample - loss: 0.1305 - accuracy: 0.9904 - val_loss: 0.8248 - val_accuracy: 0.6800\n",
      "Epoch 90/100\n",
      "209/209 [==============================] - 0s 234us/sample - loss: 0.1277 - accuracy: 0.9904 - val_loss: 0.7641 - val_accuracy: 0.7400\n",
      "Epoch 91/100\n",
      "209/209 [==============================] - 0s 234us/sample - loss: 0.1296 - accuracy: 0.9761 - val_loss: 0.7796 - val_accuracy: 0.7200\n",
      "Epoch 92/100\n",
      "209/209 [==============================] - 0s 234us/sample - loss: 0.1335 - accuracy: 0.9904 - val_loss: 0.8756 - val_accuracy: 0.6800\n",
      "Epoch 93/100\n",
      "209/209 [==============================] - 0s 244us/sample - loss: 0.1315 - accuracy: 0.9809 - val_loss: 0.8643 - val_accuracy: 0.6600\n",
      "Epoch 94/100\n",
      "209/209 [==============================] - 0s 244us/sample - loss: 0.1312 - accuracy: 0.9809 - val_loss: 0.7943 - val_accuracy: 0.7200\n",
      "Epoch 95/100\n",
      "209/209 [==============================] - 0s 239us/sample - loss: 0.1224 - accuracy: 0.9856 - val_loss: 0.7726 - val_accuracy: 0.7400\n",
      "Epoch 96/100\n",
      "209/209 [==============================] - 0s 249us/sample - loss: 0.1477 - accuracy: 0.9665 - val_loss: 0.7980 - val_accuracy: 0.7400\n",
      "Epoch 97/100\n",
      "209/209 [==============================] - 0s 230us/sample - loss: 0.1613 - accuracy: 0.9665 - val_loss: 0.9576 - val_accuracy: 0.6400\n",
      "Epoch 98/100\n",
      "209/209 [==============================] - 0s 239us/sample - loss: 0.1339 - accuracy: 0.9809 - val_loss: 0.9460 - val_accuracy: 0.6400\n",
      "Epoch 99/100\n",
      "209/209 [==============================] - 0s 230us/sample - loss: 0.1193 - accuracy: 0.9904 - val_loss: 0.7777 - val_accuracy: 0.7400\n",
      "Epoch 100/100\n",
      "209/209 [==============================] - 0s 301us/sample - loss: 0.1228 - accuracy: 0.9809 - val_loss: 0.7704 - val_accuracy: 0.7400\n"
     ]
    },
    {
     "data": {
      "text/plain": [
       "<tensorflow.python.keras.callbacks.History at 0x1bb8484fe48>"
      ]
     },
     "execution_count": 9,
     "metadata": {},
     "output_type": "execute_result"
    }
   ],
   "source": [
    "model.fit(X_train_flatten, y_train, epochs=100, validation_data=(X_test_flatten, y_test))"
   ]
  },
  {
   "cell_type": "code",
   "execution_count": 10,
   "metadata": {},
   "outputs": [],
   "source": [
    "score = model.evaluate(X_test_flatten, y_test, verbose=0)"
   ]
  },
  {
   "cell_type": "code",
   "execution_count": 11,
   "metadata": {},
   "outputs": [
    {
     "name": "stdout",
     "output_type": "stream",
     "text": [
      "['loss', 'accuracy']\n",
      "Test score : 0.77\n",
      "Test accuracy : 0.74\n"
     ]
    }
   ],
   "source": [
    "print(model.metrics_names)\n",
    "print(\"Test score : {:.2f}\".format(score[0]))\n",
    "print(\"Test accuracy : {:.2f}\".format(score[1]))"
   ]
  },
  {
   "cell_type": "code",
   "execution_count": 12,
   "metadata": {},
   "outputs": [
    {
     "data": {
      "text/plain": [
       "33"
      ]
     },
     "execution_count": 12,
     "metadata": {},
     "output_type": "execute_result"
    }
   ],
   "source": [
    "sum(y_test)"
   ]
  },
  {
   "cell_type": "code",
   "execution_count": 13,
   "metadata": {},
   "outputs": [
    {
     "data": {
      "text/plain": [
       "32"
      ]
     },
     "execution_count": 13,
     "metadata": {},
     "output_type": "execute_result"
    }
   ],
   "source": [
    "y_pred = model.predict(X_test_flatten)\n",
    "np.sum((y_pred > 0.5))"
   ]
  },
  {
   "cell_type": "markdown",
   "metadata": {},
   "source": [
    "# 1 hidden layer Logitstic Regression model - 2 layers\n",
    "\n",
    "<img src=\"LogReg_2layers.png\" style=\"width:650px;height:400px;\">\n"
   ]
  },
  {
   "cell_type": "code",
   "execution_count": 14,
   "metadata": {},
   "outputs": [],
   "source": [
    "tf.keras.backend.clear_session()"
   ]
  },
  {
   "cell_type": "code",
   "execution_count": 15,
   "metadata": {},
   "outputs": [],
   "source": [
    "model = tf.keras.Sequential()\n",
    "\n",
    "model.add(layers.Dense(32, input_shape=(12288,)))\n",
    "model.add(layers.Activation('relu'))\n",
    "model.add(layers.Dense(1))\n",
    "model.add(layers.Activation(\"sigmoid\"))"
   ]
  },
  {
   "cell_type": "code",
   "execution_count": 16,
   "metadata": {},
   "outputs": [
    {
     "name": "stdout",
     "output_type": "stream",
     "text": [
      "Model: \"sequential\"\n",
      "_________________________________________________________________\n",
      "Layer (type)                 Output Shape              Param #   \n",
      "=================================================================\n",
      "dense (Dense)                (None, 32)                393248    \n",
      "_________________________________________________________________\n",
      "activation (Activation)      (None, 32)                0         \n",
      "_________________________________________________________________\n",
      "dense_1 (Dense)              (None, 1)                 33        \n",
      "_________________________________________________________________\n",
      "activation_1 (Activation)    (None, 1)                 0         \n",
      "=================================================================\n",
      "Total params: 393,281\n",
      "Trainable params: 393,281\n",
      "Non-trainable params: 0\n",
      "_________________________________________________________________\n"
     ]
    }
   ],
   "source": [
    "model.summary()"
   ]
  },
  {
   "cell_type": "code",
   "execution_count": 17,
   "metadata": {},
   "outputs": [],
   "source": [
    "model.compile(loss='binary_crossentropy', optimizer='adam', metrics=[\"accuracy\"])"
   ]
  },
  {
   "cell_type": "code",
   "execution_count": 18,
   "metadata": {
    "scrolled": true
   },
   "outputs": [
    {
     "name": "stdout",
     "output_type": "stream",
     "text": [
      "Train on 209 samples, validate on 50 samples\n",
      "Epoch 1/100\n",
      "209/209 [==============================] - 1s 4ms/sample - loss: 1.5973 - accuracy: 0.6268 - val_loss: 0.6053 - val_accuracy: 0.7000\n",
      "Epoch 2/100\n",
      "209/209 [==============================] - 0s 278us/sample - loss: 1.4306 - accuracy: 0.5359 - val_loss: 1.8366 - val_accuracy: 0.3400\n",
      "Epoch 3/100\n",
      "209/209 [==============================] - 0s 278us/sample - loss: 0.7363 - accuracy: 0.6364 - val_loss: 1.7515 - val_accuracy: 0.3400\n",
      "Epoch 4/100\n",
      "209/209 [==============================] - 0s 354us/sample - loss: 0.8468 - accuracy: 0.5837 - val_loss: 2.3040 - val_accuracy: 0.3400\n",
      "Epoch 5/100\n",
      "209/209 [==============================] - 0s 273us/sample - loss: 0.9510 - accuracy: 0.6651 - val_loss: 0.5784 - val_accuracy: 0.7600\n",
      "Epoch 6/100\n",
      "209/209 [==============================] - 0s 292us/sample - loss: 0.6563 - accuracy: 0.7033 - val_loss: 0.6065 - val_accuracy: 0.7000\n",
      "Epoch 7/100\n",
      "209/209 [==============================] - 0s 282us/sample - loss: 0.5386 - accuracy: 0.7368 - val_loss: 0.8911 - val_accuracy: 0.3600\n",
      "Epoch 8/100\n",
      "209/209 [==============================] - 0s 278us/sample - loss: 0.4965 - accuracy: 0.7751 - val_loss: 0.8137 - val_accuracy: 0.4200\n",
      "Epoch 9/100\n",
      "209/209 [==============================] - 0s 297us/sample - loss: 0.4986 - accuracy: 0.7943 - val_loss: 0.9159 - val_accuracy: 0.3600\n",
      "Epoch 10/100\n",
      "209/209 [==============================] - 0s 278us/sample - loss: 0.4899 - accuracy: 0.7321 - val_loss: 0.7040 - val_accuracy: 0.5800\n",
      "Epoch 11/100\n",
      "209/209 [==============================] - 0s 287us/sample - loss: 0.4808 - accuracy: 0.7608 - val_loss: 0.6894 - val_accuracy: 0.5800\n",
      "Epoch 12/100\n",
      "209/209 [==============================] - 0s 325us/sample - loss: 0.4209 - accuracy: 0.8182 - val_loss: 0.6745 - val_accuracy: 0.6200\n",
      "Epoch 13/100\n",
      "209/209 [==============================] - 0s 278us/sample - loss: 0.3995 - accuracy: 0.8469 - val_loss: 0.6447 - val_accuracy: 0.5800\n",
      "Epoch 14/100\n",
      "209/209 [==============================] - 0s 292us/sample - loss: 0.4250 - accuracy: 0.7751 - val_loss: 0.6082 - val_accuracy: 0.6400\n",
      "Epoch 15/100\n",
      "209/209 [==============================] - 0s 282us/sample - loss: 0.3926 - accuracy: 0.8517 - val_loss: 0.5480 - val_accuracy: 0.7600\n",
      "Epoch 16/100\n",
      "209/209 [==============================] - 0s 273us/sample - loss: 0.4427 - accuracy: 0.7895 - val_loss: 0.5818 - val_accuracy: 0.7200\n",
      "Epoch 17/100\n",
      "209/209 [==============================] - 0s 287us/sample - loss: 0.4019 - accuracy: 0.8086 - val_loss: 0.8863 - val_accuracy: 0.4800\n",
      "Epoch 18/100\n",
      "209/209 [==============================] - 0s 282us/sample - loss: 0.4179 - accuracy: 0.7990 - val_loss: 0.6583 - val_accuracy: 0.6400\n",
      "Epoch 19/100\n",
      "209/209 [==============================] - 0s 273us/sample - loss: 0.3464 - accuracy: 0.8900 - val_loss: 0.6832 - val_accuracy: 0.6600\n",
      "Epoch 20/100\n",
      "209/209 [==============================] - 0s 273us/sample - loss: 0.3159 - accuracy: 0.9139 - val_loss: 0.5350 - val_accuracy: 0.7800\n",
      "Epoch 21/100\n",
      "209/209 [==============================] - 0s 273us/sample - loss: 0.3133 - accuracy: 0.8995 - val_loss: 0.5387 - val_accuracy: 0.7600\n",
      "Epoch 22/100\n",
      "209/209 [==============================] - 0s 258us/sample - loss: 0.3213 - accuracy: 0.8660 - val_loss: 0.5173 - val_accuracy: 0.8200\n",
      "Epoch 23/100\n",
      "209/209 [==============================] - 0s 273us/sample - loss: 0.3877 - accuracy: 0.8182 - val_loss: 0.5218 - val_accuracy: 0.8000\n",
      "Epoch 24/100\n",
      "209/209 [==============================] - 0s 254us/sample - loss: 0.3989 - accuracy: 0.7895 - val_loss: 0.5246 - val_accuracy: 0.8000\n",
      "Epoch 25/100\n",
      "209/209 [==============================] - 0s 268us/sample - loss: 0.4146 - accuracy: 0.7703 - val_loss: 0.5322 - val_accuracy: 0.8000\n",
      "Epoch 26/100\n",
      "209/209 [==============================] - 0s 301us/sample - loss: 0.3927 - accuracy: 0.8230 - val_loss: 0.5626 - val_accuracy: 0.8200\n",
      "Epoch 27/100\n",
      "209/209 [==============================] - 0s 301us/sample - loss: 0.3828 - accuracy: 0.8182 - val_loss: 0.6326 - val_accuracy: 0.7200\n",
      "Epoch 28/100\n",
      "209/209 [==============================] - 0s 278us/sample - loss: 0.2567 - accuracy: 0.9474 - val_loss: 0.8468 - val_accuracy: 0.5400\n",
      "Epoch 29/100\n",
      "209/209 [==============================] - 0s 273us/sample - loss: 0.2785 - accuracy: 0.9091 - val_loss: 1.0169 - val_accuracy: 0.4800\n",
      "Epoch 30/100\n",
      "209/209 [==============================] - 0s 258us/sample - loss: 0.3462 - accuracy: 0.8565 - val_loss: 1.2109 - val_accuracy: 0.4000\n",
      "Epoch 31/100\n",
      "209/209 [==============================] - 0s 254us/sample - loss: 0.3150 - accuracy: 0.8660 - val_loss: 1.1911 - val_accuracy: 0.3600\n",
      "Epoch 32/100\n",
      "209/209 [==============================] - 0s 263us/sample - loss: 0.2543 - accuracy: 0.9282 - val_loss: 0.7676 - val_accuracy: 0.6200\n",
      "Epoch 33/100\n",
      "209/209 [==============================] - 0s 263us/sample - loss: 0.2285 - accuracy: 0.9282 - val_loss: 0.9263 - val_accuracy: 0.5200\n",
      "Epoch 34/100\n",
      "209/209 [==============================] - 0s 249us/sample - loss: 0.2478 - accuracy: 0.9282 - val_loss: 0.8812 - val_accuracy: 0.5400\n",
      "Epoch 35/100\n",
      "209/209 [==============================] - 0s 268us/sample - loss: 0.2308 - accuracy: 0.9378 - val_loss: 0.7568 - val_accuracy: 0.6600\n",
      "Epoch 36/100\n",
      "209/209 [==============================] - 0s 254us/sample - loss: 0.2205 - accuracy: 0.9426 - val_loss: 0.9205 - val_accuracy: 0.5600\n",
      "Epoch 37/100\n",
      "209/209 [==============================] - 0s 263us/sample - loss: 0.2654 - accuracy: 0.9139 - val_loss: 0.9644 - val_accuracy: 0.5600\n",
      "Epoch 38/100\n",
      "209/209 [==============================] - 0s 268us/sample - loss: 0.2729 - accuracy: 0.8900 - val_loss: 0.6334 - val_accuracy: 0.7200\n",
      "Epoch 39/100\n",
      "209/209 [==============================] - 0s 258us/sample - loss: 0.2200 - accuracy: 0.9234 - val_loss: 0.7393 - val_accuracy: 0.7200\n",
      "Epoch 40/100\n",
      "209/209 [==============================] - 0s 268us/sample - loss: 0.1921 - accuracy: 0.9617 - val_loss: 0.6240 - val_accuracy: 0.7200\n",
      "Epoch 41/100\n",
      "209/209 [==============================] - 0s 258us/sample - loss: 0.1890 - accuracy: 0.9522 - val_loss: 0.6420 - val_accuracy: 0.7200\n",
      "Epoch 42/100\n",
      "209/209 [==============================] - 0s 263us/sample - loss: 0.1768 - accuracy: 0.9617 - val_loss: 0.7215 - val_accuracy: 0.7400\n",
      "Epoch 43/100\n",
      "209/209 [==============================] - 0s 282us/sample - loss: 0.1818 - accuracy: 0.9665 - val_loss: 0.6772 - val_accuracy: 0.7600\n",
      "Epoch 44/100\n",
      "209/209 [==============================] - 0s 273us/sample - loss: 0.1782 - accuracy: 0.9713 - val_loss: 0.6801 - val_accuracy: 0.7600\n",
      "Epoch 45/100\n",
      "209/209 [==============================] - 0s 268us/sample - loss: 0.1643 - accuracy: 0.9761 - val_loss: 0.6608 - val_accuracy: 0.7200\n",
      "Epoch 46/100\n",
      "209/209 [==============================] - 0s 263us/sample - loss: 0.1683 - accuracy: 0.9809 - val_loss: 0.6469 - val_accuracy: 0.7200\n",
      "Epoch 47/100\n",
      "209/209 [==============================] - 0s 335us/sample - loss: 0.1834 - accuracy: 0.9617 - val_loss: 0.6286 - val_accuracy: 0.7200\n",
      "Epoch 48/100\n",
      "209/209 [==============================] - 0s 273us/sample - loss: 0.2122 - accuracy: 0.9234 - val_loss: 0.6485 - val_accuracy: 0.7200\n",
      "Epoch 49/100\n",
      "209/209 [==============================] - 0s 282us/sample - loss: 0.2191 - accuracy: 0.9091 - val_loss: 0.6996 - val_accuracy: 0.7200\n",
      "Epoch 50/100\n",
      "209/209 [==============================] - 0s 258us/sample - loss: 0.1673 - accuracy: 0.9665 - val_loss: 0.7144 - val_accuracy: 0.7600\n",
      "Epoch 51/100\n",
      "209/209 [==============================] - 0s 258us/sample - loss: 0.1503 - accuracy: 0.9809 - val_loss: 0.6453 - val_accuracy: 0.7200\n",
      "Epoch 52/100\n",
      "209/209 [==============================] - 0s 258us/sample - loss: 0.1748 - accuracy: 0.9426 - val_loss: 0.6987 - val_accuracy: 0.7200\n",
      "Epoch 53/100\n",
      "209/209 [==============================] - 0s 254us/sample - loss: 0.1326 - accuracy: 0.9809 - val_loss: 0.6982 - val_accuracy: 0.7600\n",
      "Epoch 54/100\n",
      "209/209 [==============================] - 0s 268us/sample - loss: 0.1463 - accuracy: 0.9713 - val_loss: 0.6818 - val_accuracy: 0.7200\n",
      "Epoch 55/100\n",
      "209/209 [==============================] - 0s 258us/sample - loss: 0.1523 - accuracy: 0.9761 - val_loss: 0.6680 - val_accuracy: 0.7200\n",
      "Epoch 56/100\n"
     ]
    },
    {
     "name": "stdout",
     "output_type": "stream",
     "text": [
      "209/209 [==============================] - 0s 258us/sample - loss: 0.1481 - accuracy: 0.9665 - val_loss: 0.6602 - val_accuracy: 0.7200\n",
      "Epoch 57/100\n",
      "209/209 [==============================] - 0s 258us/sample - loss: 0.1496 - accuracy: 0.9569 - val_loss: 0.8306 - val_accuracy: 0.7000\n",
      "Epoch 58/100\n",
      "209/209 [==============================] - 0s 258us/sample - loss: 0.1566 - accuracy: 0.9665 - val_loss: 1.0698 - val_accuracy: 0.5800\n",
      "Epoch 59/100\n",
      "209/209 [==============================] - 0s 249us/sample - loss: 0.1813 - accuracy: 0.9187 - val_loss: 1.2230 - val_accuracy: 0.4600\n",
      "Epoch 60/100\n",
      "209/209 [==============================] - 0s 278us/sample - loss: 0.1549 - accuracy: 0.9569 - val_loss: 0.9899 - val_accuracy: 0.6000\n",
      "Epoch 61/100\n",
      "209/209 [==============================] - 0s 249us/sample - loss: 0.1156 - accuracy: 0.9856 - val_loss: 0.8127 - val_accuracy: 0.7000\n",
      "Epoch 62/100\n",
      "209/209 [==============================] - 0s 254us/sample - loss: 0.1275 - accuracy: 0.9761 - val_loss: 0.7944 - val_accuracy: 0.7200\n",
      "Epoch 63/100\n",
      "209/209 [==============================] - 0s 287us/sample - loss: 0.1245 - accuracy: 0.9713 - val_loss: 0.8839 - val_accuracy: 0.7000\n",
      "Epoch 64/100\n",
      "209/209 [==============================] - 0s 268us/sample - loss: 0.1194 - accuracy: 0.9713 - val_loss: 0.7304 - val_accuracy: 0.7200\n",
      "Epoch 65/100\n",
      "209/209 [==============================] - 0s 263us/sample - loss: 0.1154 - accuracy: 0.9856 - val_loss: 0.7495 - val_accuracy: 0.7200\n",
      "Epoch 66/100\n",
      "209/209 [==============================] - 0s 258us/sample - loss: 0.1107 - accuracy: 0.9904 - val_loss: 0.8248 - val_accuracy: 0.7200\n",
      "Epoch 67/100\n",
      "209/209 [==============================] - 0s 263us/sample - loss: 0.0949 - accuracy: 0.9952 - val_loss: 0.8102 - val_accuracy: 0.7400\n",
      "Epoch 68/100\n",
      "209/209 [==============================] - 0s 263us/sample - loss: 0.1113 - accuracy: 0.9904 - val_loss: 0.7118 - val_accuracy: 0.7200\n",
      "Epoch 69/100\n",
      "209/209 [==============================] - 0s 249us/sample - loss: 0.1921 - accuracy: 0.9569 - val_loss: 0.7519 - val_accuracy: 0.7200\n",
      "Epoch 70/100\n",
      "209/209 [==============================] - 0s 263us/sample - loss: 0.1932 - accuracy: 0.9187 - val_loss: 0.7194 - val_accuracy: 0.7800\n",
      "Epoch 71/100\n",
      "209/209 [==============================] - 0s 258us/sample - loss: 0.2250 - accuracy: 0.8947 - val_loss: 0.7426 - val_accuracy: 0.7200\n",
      "Epoch 72/100\n",
      "209/209 [==============================] - 0s 254us/sample - loss: 0.1247 - accuracy: 0.9713 - val_loss: 0.7585 - val_accuracy: 0.7000\n",
      "Epoch 73/100\n",
      "209/209 [==============================] - 0s 254us/sample - loss: 0.1021 - accuracy: 0.9856 - val_loss: 0.7818 - val_accuracy: 0.7000\n",
      "Epoch 74/100\n",
      "209/209 [==============================] - 0s 258us/sample - loss: 0.0930 - accuracy: 0.9904 - val_loss: 0.8049 - val_accuracy: 0.7200\n",
      "Epoch 75/100\n",
      "209/209 [==============================] - 0s 273us/sample - loss: 0.0839 - accuracy: 0.9904 - val_loss: 0.8181 - val_accuracy: 0.7400\n",
      "Epoch 76/100\n",
      "209/209 [==============================] - 0s 258us/sample - loss: 0.0917 - accuracy: 0.9904 - val_loss: 0.8045 - val_accuracy: 0.7200\n",
      "Epoch 77/100\n",
      "209/209 [==============================] - 0s 254us/sample - loss: 0.0879 - accuracy: 0.9856 - val_loss: 1.0247 - val_accuracy: 0.6800\n",
      "Epoch 78/100\n",
      "209/209 [==============================] - 0s 273us/sample - loss: 0.0826 - accuracy: 0.9952 - val_loss: 1.1387 - val_accuracy: 0.6200\n",
      "Epoch 79/100\n",
      "209/209 [==============================] - 0s 258us/sample - loss: 0.1170 - accuracy: 0.9761 - val_loss: 0.9859 - val_accuracy: 0.7000\n",
      "Epoch 80/100\n",
      "209/209 [==============================] - 0s 258us/sample - loss: 0.0817 - accuracy: 0.9952 - val_loss: 0.8132 - val_accuracy: 0.7200\n",
      "Epoch 81/100\n",
      "209/209 [==============================] - 0s 254us/sample - loss: 0.0874 - accuracy: 0.9904 - val_loss: 0.9036 - val_accuracy: 0.7200\n",
      "Epoch 82/100\n",
      "209/209 [==============================] - 0s 263us/sample - loss: 0.0717 - accuracy: 0.9952 - val_loss: 0.8905 - val_accuracy: 0.7200\n",
      "Epoch 83/100\n",
      "209/209 [==============================] - 0s 254us/sample - loss: 0.0776 - accuracy: 1.0000 - val_loss: 0.8151 - val_accuracy: 0.7200\n",
      "Epoch 84/100\n",
      "209/209 [==============================] - 0s 297us/sample - loss: 0.0777 - accuracy: 1.0000 - val_loss: 0.8918 - val_accuracy: 0.7400\n",
      "Epoch 85/100\n",
      "209/209 [==============================] - 0s 349us/sample - loss: 0.0656 - accuracy: 0.9952 - val_loss: 0.8725 - val_accuracy: 0.7200\n",
      "Epoch 86/100\n",
      "209/209 [==============================] - 0s 316us/sample - loss: 0.0672 - accuracy: 1.0000 - val_loss: 0.8768 - val_accuracy: 0.7200\n",
      "Epoch 87/100\n",
      "209/209 [==============================] - 0s 297us/sample - loss: 0.0666 - accuracy: 0.9952 - val_loss: 0.9029 - val_accuracy: 0.7200\n",
      "Epoch 88/100\n",
      "209/209 [==============================] - 0s 321us/sample - loss: 0.0675 - accuracy: 0.9952 - val_loss: 0.9068 - val_accuracy: 0.7200\n",
      "Epoch 89/100\n",
      "209/209 [==============================] - 0s 311us/sample - loss: 0.0605 - accuracy: 0.9952 - val_loss: 0.9454 - val_accuracy: 0.7200\n",
      "Epoch 90/100\n",
      "209/209 [==============================] - 0s 316us/sample - loss: 0.0610 - accuracy: 1.0000 - val_loss: 0.8762 - val_accuracy: 0.7200\n",
      "Epoch 91/100\n",
      "209/209 [==============================] - 0s 325us/sample - loss: 0.0618 - accuracy: 0.9952 - val_loss: 0.9311 - val_accuracy: 0.7400\n",
      "Epoch 92/100\n",
      "209/209 [==============================] - 0s 321us/sample - loss: 0.0550 - accuracy: 0.9952 - val_loss: 0.9152 - val_accuracy: 0.7200\n",
      "Epoch 93/100\n",
      "209/209 [==============================] - 0s 330us/sample - loss: 0.0590 - accuracy: 0.9952 - val_loss: 0.9520 - val_accuracy: 0.7400\n",
      "Epoch 94/100\n",
      "209/209 [==============================] - 0s 364us/sample - loss: 0.0557 - accuracy: 0.9952 - val_loss: 1.1342 - val_accuracy: 0.6600\n",
      "Epoch 95/100\n",
      "209/209 [==============================] - 0s 325us/sample - loss: 0.0588 - accuracy: 0.9952 - val_loss: 1.0451 - val_accuracy: 0.7200\n",
      "Epoch 96/100\n",
      "209/209 [==============================] - 0s 349us/sample - loss: 0.0564 - accuracy: 0.9952 - val_loss: 1.0405 - val_accuracy: 0.7200\n",
      "Epoch 97/100\n",
      "209/209 [==============================] - 0s 354us/sample - loss: 0.0554 - accuracy: 0.9952 - val_loss: 1.0298 - val_accuracy: 0.7400\n",
      "Epoch 98/100\n",
      "209/209 [==============================] - 0s 282us/sample - loss: 0.0493 - accuracy: 1.0000 - val_loss: 1.0434 - val_accuracy: 0.7200\n",
      "Epoch 99/100\n",
      "209/209 [==============================] - 0s 258us/sample - loss: 0.0488 - accuracy: 1.0000 - val_loss: 1.0617 - val_accuracy: 0.7200\n",
      "Epoch 100/100\n",
      "209/209 [==============================] - 0s 287us/sample - loss: 0.0526 - accuracy: 0.9952 - val_loss: 1.3025 - val_accuracy: 0.6000\n"
     ]
    },
    {
     "data": {
      "text/plain": [
       "<tensorflow.python.keras.callbacks.History at 0x1bb85383888>"
      ]
     },
     "execution_count": 18,
     "metadata": {},
     "output_type": "execute_result"
    }
   ],
   "source": [
    "model.fit(X_train_flatten, y_train, epochs=100, validation_data=(X_test_flatten, y_test))"
   ]
  },
  {
   "cell_type": "code",
   "execution_count": 19,
   "metadata": {},
   "outputs": [],
   "source": [
    "score = model.evaluate(X_test_flatten, y_test, verbose=0)"
   ]
  },
  {
   "cell_type": "code",
   "execution_count": 20,
   "metadata": {},
   "outputs": [
    {
     "name": "stdout",
     "output_type": "stream",
     "text": [
      "['loss', 'accuracy']\n",
      "Test score : 1.30\n",
      "Test accuracy : 0.60\n"
     ]
    }
   ],
   "source": [
    "print(model.metrics_names)\n",
    "print(\"Test score : {:.2f}\".format(score[0]))\n",
    "print(\"Test accuracy : {:.2f}\".format(score[1]))"
   ]
  }
 ],
 "metadata": {
  "kernelspec": {
   "display_name": "Python 3",
   "language": "python",
   "name": "python3"
  },
  "language_info": {
   "codemirror_mode": {
    "name": "ipython",
    "version": 3
   },
   "file_extension": ".py",
   "mimetype": "text/x-python",
   "name": "python",
   "nbconvert_exporter": "python",
   "pygments_lexer": "ipython3",
   "version": "3.7.6"
  }
 },
 "nbformat": 4,
 "nbformat_minor": 2
}
