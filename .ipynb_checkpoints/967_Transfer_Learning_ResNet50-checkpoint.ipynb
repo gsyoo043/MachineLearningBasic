{
 "cells": [
  {
   "cell_type": "markdown",
   "metadata": {
    "colab_type": "text",
    "id": "JnKRe0p9h35K"
   },
   "source": [
    "# Transfer Learning using keras built-in pre-trained model"
   ]
  },
  {
   "cell_type": "markdown",
   "metadata": {
    "colab_type": "text",
    "id": "fr6pOOh0hHaj"
   },
   "source": [
    "# STEP #1: IMPORT LIBRARIES"
   ]
  },
  {
   "cell_type": "code",
   "execution_count": null,
   "metadata": {
    "colab": {
     "base_uri": "https://localhost:8080/",
     "height": 34
    },
    "colab_type": "code",
    "id": "QqPjanlXkVzi",
    "outputId": "f266b45c-a859-4691-a7fc-8a92c1a28bad"
   },
   "outputs": [],
   "source": [
    "#%tensorflow_version 2.x\n",
    "import tensorflow as tf\n",
    "\n",
    "import pandas as pd\n",
    "import numpy as np\n",
    "import matplotlib.pyplot as plt\n",
    "import seaborn as sns\n",
    "import random "
   ]
  },
  {
   "cell_type": "code",
   "execution_count": null,
   "metadata": {
    "colab": {
     "base_uri": "https://localhost:8080/",
     "height": 34
    },
    "colab_type": "code",
    "id": "_je5sPfjk_r1",
    "outputId": "06133a2a-5b19-4774-83ac-724c4f83053b"
   },
   "outputs": [],
   "source": [
    "tf.__version__"
   ]
  },
  {
   "cell_type": "markdown",
   "metadata": {
    "colab_type": "text",
    "id": "qqOSkGp9R55q"
   },
   "source": [
    "# STEP #2: IMPORT MODEL WITH PRE-TRAINED WEIGHTS"
   ]
  },
  {
   "cell_type": "code",
   "execution_count": null,
   "metadata": {
    "colab": {
     "base_uri": "https://localhost:8080/",
     "height": 52
    },
    "colab_type": "code",
    "id": "Bo7rP5ZIb7pv",
    "outputId": "0a88bbe9-5e2f-462e-8a56-1c7855284dcb"
   },
   "outputs": [],
   "source": [
    "model = tf.keras.applications.ResNet50(weights = 'imagenet')"
   ]
  },
  {
   "cell_type": "markdown",
   "metadata": {
    "colab_type": "text",
    "id": "jWb45OshSDsr"
   },
   "source": [
    "# STEP #3: EVALUATE THE PRE-TRAINED MODEL"
   ]
  },
  {
   "cell_type": "code",
   "execution_count": null,
   "metadata": {
    "colab": {
     "base_uri": "https://localhost:8080/",
     "height": 124
    },
    "colab_type": "code",
    "id": "IFhOG8Pjkue2",
    "outputId": "6d4a5ae2-3e32-4272-a88a-b9c525ea2484"
   },
   "outputs": [],
   "source": [
    "from google.colab import drive\n",
    "drive.mount('/content/drive')"
   ]
  },
  {
   "cell_type": "code",
   "execution_count": null,
   "metadata": {
    "colab": {},
    "colab_type": "code",
    "id": "uU_Nd2zQjjuB"
   },
   "outputs": [],
   "source": [
    "Sample_Image= tf.keras.preprocessing.image.load_img(r'/content/drive/My Drive/Colab Notebooks/Transfer-Learning-Data/Transfer Learning Data/African_Elephant.jpg', target_size = (224, 224))"
   ]
  },
  {
   "cell_type": "code",
   "execution_count": null,
   "metadata": {
    "colab": {},
    "colab_type": "code",
    "id": "1JEun36Tjjr7"
   },
   "outputs": [],
   "source": [
    "Sample_Image= tf.keras.preprocessing.image.load_img(r'/content/drive/My Drive/Colab Notebooks/Transfer-Learning-Data/Transfer Learning Data/bicycle.png', target_size = (224, 224))"
   ]
  },
  {
   "cell_type": "code",
   "execution_count": null,
   "metadata": {
    "colab": {
     "base_uri": "https://localhost:8080/",
     "height": 286
    },
    "colab_type": "code",
    "id": "Po32oDA3jjpt",
    "outputId": "2cf8dd8a-6169-432b-92d0-5867fd1884eb"
   },
   "outputs": [],
   "source": [
    "plt.imshow(Sample_Image)"
   ]
  },
  {
   "cell_type": "code",
   "execution_count": null,
   "metadata": {
    "colab": {},
    "colab_type": "code",
    "id": "J1nxbnpgjpfn"
   },
   "outputs": [],
   "source": [
    "Sample_Image = tf.keras.preprocessing.image.img_to_array(Sample_Image)"
   ]
  },
  {
   "cell_type": "code",
   "execution_count": null,
   "metadata": {
    "colab": {
     "base_uri": "https://localhost:8080/",
     "height": 34
    },
    "colab_type": "code",
    "id": "X7EdBGZPjpdm",
    "outputId": "ffcb707e-bae9-4342-efae-ba1308dac12c"
   },
   "outputs": [],
   "source": [
    "np.shape(Sample_Image)"
   ]
  },
  {
   "cell_type": "code",
   "execution_count": null,
   "metadata": {
    "colab": {
     "base_uri": "https://localhost:8080/",
     "height": 34
    },
    "colab_type": "code",
    "id": "mIQ80ilwjug0",
    "outputId": "393d2f7a-94b1-4af9-86f2-e259f36159b1"
   },
   "outputs": [],
   "source": [
    "Sample_Image = np.expand_dims(Sample_Image, axis = 0)\n",
    "np.shape(Sample_Image)"
   ]
  },
  {
   "cell_type": "code",
   "execution_count": null,
   "metadata": {
    "colab": {
     "base_uri": "https://localhost:8080/",
     "height": 34
    },
    "colab_type": "code",
    "id": "UuMGFPIpjyTx",
    "outputId": "bffaf847-2481-47da-9089-9a22a80c1b4f"
   },
   "outputs": [],
   "source": [
    "Sample_Image.max()"
   ]
  },
  {
   "cell_type": "code",
   "execution_count": null,
   "metadata": {
    "colab": {
     "base_uri": "https://localhost:8080/",
     "height": 34
    },
    "colab_type": "code",
    "id": "0iaD7r-_jyN6",
    "outputId": "8e36b997-1170-4c88-b0f3-7589c2c1f96a"
   },
   "outputs": [],
   "source": [
    "Sample_Image.min()"
   ]
  },
  {
   "cell_type": "code",
   "execution_count": null,
   "metadata": {
    "colab": {},
    "colab_type": "code",
    "id": "meG5R376j0Pf"
   },
   "outputs": [],
   "source": [
    "Sample_Image = tf.keras.applications.resnet50.preprocess_input(Sample_Image)"
   ]
  },
  {
   "cell_type": "code",
   "execution_count": null,
   "metadata": {
    "colab": {
     "base_uri": "https://localhost:8080/",
     "height": 34
    },
    "colab_type": "code",
    "id": "tB75P9fEj0M6",
    "outputId": "ef594057-0e00-4245-a1e0-0b13986e2346"
   },
   "outputs": [],
   "source": [
    "Sample_Image.max()"
   ]
  },
  {
   "cell_type": "code",
   "execution_count": null,
   "metadata": {
    "colab": {
     "base_uri": "https://localhost:8080/",
     "height": 34
    },
    "colab_type": "code",
    "id": "bnORgzknj0KT",
    "outputId": "ae7f75db-3690-4c58-bc02-cce9edf19bd0"
   },
   "outputs": [],
   "source": [
    "Sample_Image.min()"
   ]
  },
  {
   "cell_type": "code",
   "execution_count": null,
   "metadata": {
    "colab": {},
    "colab_type": "code",
    "id": "OTP6Hctuj4uA"
   },
   "outputs": [],
   "source": [
    "predictions = model.predict(Sample_Image)"
   ]
  },
  {
   "cell_type": "code",
   "execution_count": null,
   "metadata": {
    "colab": {
     "base_uri": "https://localhost:8080/",
     "height": 89
    },
    "colab_type": "code",
    "id": "tV5RHWiEj4rq",
    "outputId": "f9a7c9b4-9bd0-4b65-dd2d-c5bcadeb8f1a"
   },
   "outputs": [],
   "source": [
    "print('predictions:', tf.keras.applications.resnet50.decode_predictions(predictions, top = 5)[0])"
   ]
  },
  {
   "cell_type": "markdown",
   "metadata": {
    "colab_type": "text",
    "id": "H38yzWMAn7hu"
   },
   "source": [
    "# STEP #4: APPLY TRANSFER LEARNING AND RETRAIN THE MODEL"
   ]
  },
  {
   "cell_type": "code",
   "execution_count": null,
   "metadata": {
    "colab": {},
    "colab_type": "code",
    "id": "daq3TE6BnFjp"
   },
   "outputs": [],
   "source": [
    "base_model = tf.keras.applications.ResNet50(weights = 'imagenet', include_top = False)\n",
    "full_model = tf.keras.applications.ResNet50(weights='imagenet', include_top = True)"
   ]
  },
  {
   "cell_type": "code",
   "execution_count": null,
   "metadata": {
    "colab": {
     "base_uri": "https://localhost:8080/",
     "height": 1000
    },
    "colab_type": "code",
    "id": "69Ky2RWenFhr",
    "outputId": "af410f12-8390-4cd8-9a78-86cfdffa0642"
   },
   "outputs": [],
   "source": [
    "print(base_model.summary())"
   ]
  },
  {
   "cell_type": "code",
   "execution_count": null,
   "metadata": {
    "colab": {
     "base_uri": "https://localhost:8080/",
     "height": 244
    },
    "colab_type": "code",
    "id": "2dwWVydWnFfk",
    "outputId": "6702666c-5573-4528-c5a0-c545425bcbac"
   },
   "outputs": [],
   "source": [
    "for layer in base_model.layers[-5:]:\n",
    "    print(layer.name)\n",
    "print()\n",
    "for layer in full_model.layers[-7:]:\n",
    "    print(layer.name)"
   ]
  },
  {
   "cell_type": "code",
   "execution_count": null,
   "metadata": {
    "colab": {},
    "colab_type": "code",
    "id": "Bd2UgUtKpMnf"
   },
   "outputs": [],
   "source": [
    "x = base_model.output\n",
    "x = tf.keras.layers.GlobalAveragePooling2D()(x)"
   ]
  },
  {
   "cell_type": "code",
   "execution_count": null,
   "metadata": {
    "colab": {},
    "colab_type": "code",
    "id": "LCxMyCu_pXPM"
   },
   "outputs": [],
   "source": [
    "x = tf.keras.layers.Dense(1024, activation = 'relu')(x)\n",
    "x = tf.keras.layers.Dense(1024, activation = 'relu')(x)\n",
    "x = tf.keras.layers.Dense(1024, activation = 'relu')(x)\n",
    "x = tf.keras.layers.Dense(512, activation = 'relu')(x)\n",
    "preds = tf.keras.layers.Dense(2, activation = 'softmax')(x)"
   ]
  },
  {
   "cell_type": "code",
   "execution_count": null,
   "metadata": {
    "colab": {},
    "colab_type": "code",
    "id": "1YNlmSRupg5W"
   },
   "outputs": [],
   "source": [
    "model = tf.keras.models.Model(inputs = base_model.input, outputs = preds)"
   ]
  },
  {
   "cell_type": "code",
   "execution_count": null,
   "metadata": {
    "colab": {
     "base_uri": "https://localhost:8080/",
     "height": 1000
    },
    "colab_type": "code",
    "id": "ivMg7Bu2priF",
    "outputId": "2b4d02b8-7c57-49e1-ee1c-166cc2a2fca7"
   },
   "outputs": [],
   "source": [
    "print(model.summary())"
   ]
  },
  {
   "cell_type": "code",
   "execution_count": null,
   "metadata": {
    "colab": {
     "base_uri": "https://localhost:8080/",
     "height": 1000
    },
    "colab_type": "code",
    "id": "IDeMGukkptR_",
    "outputId": "e83f775b-3d09-41a6-a2ea-52b98bb3f10a"
   },
   "outputs": [],
   "source": [
    "for i, layer in enumerate(model.layers):\n",
    "    print(i, layer.name)"
   ]
  },
  {
   "cell_type": "code",
   "execution_count": null,
   "metadata": {
    "colab": {},
    "colab_type": "code",
    "id": "pw0D8fWrpvEL"
   },
   "outputs": [],
   "source": [
    "for layer in model.layers[:175]:\n",
    "    layer.trainable = False"
   ]
  },
  {
   "cell_type": "code",
   "execution_count": null,
   "metadata": {
    "colab": {},
    "colab_type": "code",
    "id": "jAHdCEyzpvB0"
   },
   "outputs": [],
   "source": [
    "for layer in model.layers[175:]:\n",
    "    layer.trainable = True"
   ]
  },
  {
   "cell_type": "code",
   "execution_count": null,
   "metadata": {
    "colab": {
     "base_uri": "https://localhost:8080/",
     "height": 34
    },
    "colab_type": "code",
    "id": "Lwm5XlEDpu0_",
    "outputId": "ccbb69ed-6372-4939-be82-822c7cc493a8"
   },
   "outputs": [],
   "source": [
    "train_datagen = tf.keras.preprocessing.image.ImageDataGenerator(preprocessing_function= tf.keras.applications.resnet50.preprocess_input)\n",
    "\n",
    "train_generator = train_datagen.flow_from_directory('/content/drive/My Drive/Colab Notebooks/Transfer-Learning-Data/Transfer Learning Data/train/', \n",
    "                                                   target_size = (224, 224),\n",
    "                                                   color_mode = 'rgb',\n",
    "                                                   batch_size = 32,\n",
    "                                                   class_mode = 'categorical',\n",
    "                                                   shuffle = True)"
   ]
  },
  {
   "cell_type": "code",
   "execution_count": null,
   "metadata": {
    "colab": {},
    "colab_type": "code",
    "id": "VqFpbiPNqWJ8"
   },
   "outputs": [],
   "source": [
    "model.compile(optimizer = 'Adam', loss = 'categorical_crossentropy', metrics = ['accuracy'])"
   ]
  },
  {
   "cell_type": "code",
   "execution_count": null,
   "metadata": {
    "colab": {
     "base_uri": "https://localhost:8080/",
     "height": 191
    },
    "colab_type": "code",
    "id": "uL3VSVYPqXuV",
    "outputId": "c4b6822e-2a59-4741-ffbb-aecce1ba2e6c"
   },
   "outputs": [],
   "source": [
    "history = model.fit_generator(generator = train_generator, steps_per_epoch=train_generator.n//train_generator.batch_size, epochs = 5)"
   ]
  },
  {
   "cell_type": "markdown",
   "metadata": {
    "colab_type": "text",
    "id": "0wR3uKW8g5po"
   },
   "source": [
    "# STEP #5: EVALUATE THE MODEL"
   ]
  },
  {
   "cell_type": "code",
   "execution_count": null,
   "metadata": {
    "colab": {
     "base_uri": "https://localhost:8080/",
     "height": 559
    },
    "colab_type": "code",
    "id": "hW_BIEqpHXPk",
    "outputId": "5ce204c4-331b-470b-fe56-c7563540c199"
   },
   "outputs": [],
   "source": [
    "acc = history.history['accuracy']\n",
    "loss = history.history['loss']\n",
    "\n",
    "plt.figure()\n",
    "plt.plot(acc, label='Training Accuracy')\n",
    "plt.ylabel('Accuracy')\n",
    "plt.title('Training Accuracy')\n",
    "\n",
    "plt.figure()\n",
    "\n",
    "plt.plot(loss, label='Training Loss')\n",
    "plt.ylabel('Loss')\n",
    "plt.title('Training Loss')\n",
    "plt.xlabel('epoch')\n",
    "plt.show()"
   ]
  },
  {
   "cell_type": "code",
   "execution_count": null,
   "metadata": {
    "colab": {},
    "colab_type": "code",
    "id": "UeyESvFZq4qD"
   },
   "outputs": [],
   "source": [
    "Sample_Image= tf.keras.preprocessing.image.load_img(r'/content/drive/My Drive/Colab Notebooks/Transfer-Learning-Data/Transfer Learning Data/cat.282.jpg', target_size = (224, 224))"
   ]
  },
  {
   "cell_type": "code",
   "execution_count": null,
   "metadata": {
    "colab": {
     "base_uri": "https://localhost:8080/",
     "height": 286
    },
    "colab_type": "code",
    "id": "dl7wHJuuqoOk",
    "outputId": "bdb917ee-2ff3-471d-a166-b2ec75743dc8"
   },
   "outputs": [],
   "source": [
    "plt.imshow(Sample_Image)"
   ]
  },
  {
   "cell_type": "code",
   "execution_count": null,
   "metadata": {
    "colab": {
     "base_uri": "https://localhost:8080/",
     "height": 34
    },
    "colab_type": "code",
    "id": "EFeqoExjqoME",
    "outputId": "dde84d8e-61f2-49a7-b5b8-983ed2bb4fcb"
   },
   "outputs": [],
   "source": [
    "Sample_Image = tf.keras.preprocessing.image.img_to_array(Sample_Image)\n",
    "np.shape(Sample_Image)"
   ]
  },
  {
   "cell_type": "code",
   "execution_count": null,
   "metadata": {
    "colab": {},
    "colab_type": "code",
    "id": "3uUO29ZcqvBj"
   },
   "outputs": [],
   "source": [
    "Sample_Image = np.expand_dims(Sample_Image, axis = 0)\n"
   ]
  },
  {
   "cell_type": "code",
   "execution_count": null,
   "metadata": {
    "colab": {
     "base_uri": "https://localhost:8080/",
     "height": 34
    },
    "colab_type": "code",
    "id": "ABspYt1yrumR",
    "outputId": "e49e3611-8224-4c52-aa43-cf56c723bc12"
   },
   "outputs": [],
   "source": [
    "Sample_Image = tf.keras.applications.resnet50.preprocess_input(Sample_Image)\n",
    "predictions = model.predict(Sample_Image)\n",
    "print('Predictions:', predictions)"
   ]
  }
 ],
 "metadata": {
  "accelerator": "GPU",
  "colab": {
   "collapsed_sections": [],
   "name": "Transfer Learning Project 1 - TF with pretrained weights.ipynb",
   "provenance": []
  },
  "kernelspec": {
   "display_name": "Python 3",
   "language": "python",
   "name": "python3"
  },
  "language_info": {
   "codemirror_mode": {
    "name": "ipython",
    "version": 3
   },
   "file_extension": ".py",
   "mimetype": "text/x-python",
   "name": "python",
   "nbconvert_exporter": "python",
   "pygments_lexer": "ipython3",
   "version": "3.7.3"
  }
 },
 "nbformat": 4,
 "nbformat_minor": 1
}
