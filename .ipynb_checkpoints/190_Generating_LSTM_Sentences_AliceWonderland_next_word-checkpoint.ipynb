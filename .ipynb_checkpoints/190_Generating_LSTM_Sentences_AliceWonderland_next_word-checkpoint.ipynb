{
 "cells": [
  {
   "cell_type": "markdown",
   "metadata": {
    "colab_type": "text",
    "id": "i3SMFJYftfEs"
   },
   "source": [
    "# 190. Keras API 와 LSTM 을 이용한 이상한 나라의 Alice 문장 생성기\n",
    "\n",
    "- next word 예측"
   ]
  },
  {
   "cell_type": "code",
   "execution_count": 1,
   "metadata": {
    "colab": {
     "base_uri": "https://localhost:8080/",
     "height": 34
    },
    "colab_type": "code",
    "id": "xQWk90P4thyK",
    "outputId": "0e834202-a363-4ad8-97fc-33d9939290e2"
   },
   "outputs": [
    {
     "name": "stderr",
     "output_type": "stream",
     "text": [
      "UsageError: Line magic function `%tensorflow_version` not found.\n"
     ]
    }
   ],
   "source": [
    "%tensorflow_version 2.x"
   ]
  },
  {
   "cell_type": "code",
   "execution_count": 2,
   "metadata": {
    "colab": {},
    "colab_type": "code",
    "id": "asn1fHFytfEu"
   },
   "outputs": [],
   "source": [
    "import tensorflow as tf\n",
    "import numpy as np\n",
    "from tensorflow.keras.preprocessing.sequence import pad_sequences\n",
    "from tensorflow.keras.layers import Embedding, LSTM, Dense, Dropout, Bidirectional\n",
    "from tensorflow.keras.preprocessing.text import Tokenizer\n",
    "from tensorflow.keras.models import Sequential\n",
    "import tensorflow.keras.regularizers as regularizers\n",
    "import numpy as np "
   ]
  },
  {
   "cell_type": "code",
   "execution_count": 3,
   "metadata": {
    "colab": {
     "base_uri": "https://localhost:8080/",
     "height": 52
    },
    "colab_type": "code",
    "id": "uP-mC7LTtfEx",
    "outputId": "1d51e227-1d4f-46b6-b8b8-7d6c0d4f2d5c"
   },
   "outputs": [],
   "source": [
    "path_to_file = tf.keras.utils.get_file('shakespeare.txt', \"http://www.gutenberg.org/files/11/11.txt\")"
   ]
  },
  {
   "cell_type": "code",
   "execution_count": 4,
   "metadata": {
    "colab": {
     "base_uri": "https://localhost:8080/",
     "height": 54
    },
    "colab_type": "code",
    "id": "SvrmXp25tfEz",
    "outputId": "c455d87a-fe37-44bc-eca4-23d97cacedb9"
   },
   "outputs": [
    {
     "data": {
      "text/plain": [
       "\"project gutenberg's alice's adventures in wonderland, by lewis carroll this ebook is for the use of anyone anywhere at no cost and with almost no restrictions whatsoever.  you may copy it, give it away or re-use it under the terms of the project gutenberg license included with this ebook or online at www.gutenberg.org title: alice's adventures in wonderland author: lewis carroll posting date: june 25, 2008 [ebook #11] release date: march, 1994 [last updated: december 20, 2011] language: english character set encoding: ascii *** start of this project gutenberg ebook alice's adventures in wonderland *** alice's adventures in wonderland lewis carroll the millennium fulcrum edition 3.0 chapter i. down the rabbit-hole alice was beginning to get very tired of sitting by her sister on the bank, and of having nothing to do: once or twice she had peeped into the book her sister was reading, but it had no pictures or conversations in it, 'and what is the use of a book,' thought alice 'without pi\""
      ]
     },
     "execution_count": 4,
     "metadata": {},
     "output_type": "execute_result"
    }
   ],
   "source": [
    "r = open(path_to_file)\n",
    "texts = r.readlines()\n",
    "lines = []\n",
    "\n",
    "for line in texts:\n",
    "    line = line.strip().lower()\n",
    "    if len(line) == 0:\n",
    "        continue\n",
    "    lines.append(line)\n",
    "\n",
    "text = \" \".join(lines)\n",
    "text[:1000]"
   ]
  },
  {
   "cell_type": "code",
   "execution_count": 5,
   "metadata": {
    "colab": {},
    "colab_type": "code",
    "id": "1RuGgWAmtfE2"
   },
   "outputs": [],
   "source": [
    "import re\n",
    "\n",
    "corpus = re.split('[,.]', text)"
   ]
  },
  {
   "cell_type": "code",
   "execution_count": 6,
   "metadata": {
    "colab": {
     "base_uri": "https://localhost:8080/",
     "height": 211
    },
    "colab_type": "code",
    "id": "RyUJ7MxNtfE4",
    "outputId": "d9e1b1ab-433f-4563-e6d0-884b9de855af"
   },
   "outputs": [
    {
     "data": {
      "text/plain": [
       "[\"project gutenberg's alice's adventures in wonderland\",\n",
       " ' by lewis carroll this ebook is for the use of anyone anywhere at no cost and with almost no restrictions whatsoever',\n",
       " '  you may copy it',\n",
       " ' give it away or re-use it under the terms of the project gutenberg license included with this ebook or online at www',\n",
       " 'gutenberg',\n",
       " \"org title: alice's adventures in wonderland author: lewis carroll posting date: june 25\",\n",
       " ' 2008 [ebook #11] release date: march',\n",
       " ' 1994 [last updated: december 20',\n",
       " \" 2011] language: english character set encoding: ascii *** start of this project gutenberg ebook alice's adventures in wonderland *** alice's adventures in wonderland lewis carroll the millennium fulcrum edition 3\",\n",
       " '0 chapter i']"
      ]
     },
     "execution_count": 6,
     "metadata": {},
     "output_type": "execute_result"
    }
   ],
   "source": [
    "corpus[:10]"
   ]
  },
  {
   "cell_type": "code",
   "execution_count": 7,
   "metadata": {
    "colab": {
     "base_uri": "https://localhost:8080/",
     "height": 34
    },
    "colab_type": "code",
    "id": "mRzxcEeatfE6",
    "outputId": "a57fb735-3b2b-47a5-f2f8-268112b4db72"
   },
   "outputs": [
    {
     "name": "stdout",
     "output_type": "stream",
     "text": [
      "3338\n"
     ]
    }
   ],
   "source": [
    "tokenizer = Tokenizer()\n",
    "\n",
    "tokenizer.fit_on_texts(corpus)\n",
    "total_words = len(tokenizer.word_index) + 1\n",
    "print(total_words)"
   ]
  },
  {
   "cell_type": "code",
   "execution_count": 14,
   "metadata": {},
   "outputs": [
    {
     "data": {
      "text/plain": [
       "[(11, 'you'), (12, 'alice'), (13, 'was'), (14, 'i'), (15, 'that')]"
      ]
     },
     "execution_count": 14,
     "metadata": {},
     "output_type": "execute_result"
    }
   ],
   "source": [
    "list(tokenizer.index_word.items())[10:15]"
   ]
  },
  {
   "cell_type": "code",
   "execution_count": 16,
   "metadata": {},
   "outputs": [
    {
     "data": {
      "text/plain": [
       "[('you', 11), ('alice', 12), ('was', 13), ('i', 14), ('that', 15)]"
      ]
     },
     "execution_count": 16,
     "metadata": {},
     "output_type": "execute_result"
    }
   ],
   "source": [
    "list(tokenizer.word_index.items())[10:15]"
   ]
  },
  {
   "cell_type": "code",
   "execution_count": 0,
   "metadata": {
    "colab": {},
    "colab_type": "code",
    "id": "AQlBVvwitfE8"
   },
   "outputs": [],
   "source": [
    "# create input sequences using list of tokens\n",
    "input_sequences = []\n",
    "\n",
    "for line in corpus:\n",
    "    token_list = tokenizer.texts_to_sequences([line])[0]\n",
    "    for i in range(1, len(token_list)):\n",
    "        n_gram_sequence = token_list[:i+1]\n",
    "        input_sequences.append(n_gram_sequence)"
   ]
  },
  {
   "cell_type": "code",
   "execution_count": 9,
   "metadata": {
    "colab": {
     "base_uri": "https://localhost:8080/",
     "height": 209
    },
    "colab_type": "code",
    "id": "nI97Ln4atfE_",
    "outputId": "2899e068-07d3-4bbd-934f-1cba72e3deaa"
   },
   "outputs": [
    {
     "name": "stdout",
     "output_type": "stream",
     "text": [
      "27218\n"
     ]
    },
    {
     "data": {
      "text/plain": [
       "[[48, 1303],\n",
       " [48, 1303, 248],\n",
       " [48, 1303, 248, 342],\n",
       " [48, 1303, 248, 342, 10],\n",
       " [48, 1303, 248, 342, 10, 481],\n",
       " [59, 815],\n",
       " [59, 815, 816],\n",
       " [59, 815, 816, 22],\n",
       " [59, 815, 816, 22, 443],\n",
       " [59, 815, 816, 22, 443, 31]]"
      ]
     },
     "execution_count": 9,
     "metadata": {
      "tags": []
     },
     "output_type": "execute_result"
    }
   ],
   "source": [
    "print(len(input_sequences))\n",
    "input_sequences[:10]"
   ]
  },
  {
   "cell_type": "code",
   "execution_count": 10,
   "metadata": {
    "colab": {
     "base_uri": "https://localhost:8080/",
     "height": 139
    },
    "colab_type": "code",
    "id": "neKxP5KXtfFB",
    "outputId": "b02878dc-1048-4336-8025-ee84b44d02f0"
   },
   "outputs": [
    {
     "data": {
      "text/plain": [
       "array([[   0,    0,    0, ...,    0,   48, 1303],\n",
       "       [   0,    0,    0, ...,   48, 1303,  248],\n",
       "       [   0,    0,    0, ..., 1303,  248,  342],\n",
       "       ...,\n",
       "       [   0,    0,    0, ...,    4,  275,   40],\n",
       "       [   0,    0,    0, ...,  275,   40,  494],\n",
       "       [   0,    0,    0, ...,   40,  494,  621]], dtype=int32)"
      ]
     },
     "execution_count": 10,
     "metadata": {
      "tags": []
     },
     "output_type": "execute_result"
    }
   ],
   "source": [
    "# pad sequences \n",
    "max_sequence_len = max([len(x) for x in input_sequences])\n",
    "\n",
    "input_sequences = np.array(pad_sequences(input_sequences, maxlen=max_sequence_len, padding='pre'))\n",
    "input_sequences"
   ]
  },
  {
   "cell_type": "code",
   "execution_count": 0,
   "metadata": {
    "colab": {},
    "colab_type": "code",
    "id": "ejnqC8LZtfFE"
   },
   "outputs": [],
   "source": [
    "text_dataset = tf.data.Dataset.from_tensor_slices(input_sequences)"
   ]
  },
  {
   "cell_type": "code",
   "execution_count": 0,
   "metadata": {
    "colab": {},
    "colab_type": "code",
    "id": "02XRjp6htfFH"
   },
   "outputs": [],
   "source": [
    "def split_input_target(chunk):\n",
    "    input_text = chunk[:-1]\n",
    "    target_text = chunk[-1]\n",
    "    return input_text, target_text"
   ]
  },
  {
   "cell_type": "code",
   "execution_count": 14,
   "metadata": {
    "colab": {
     "base_uri": "https://localhost:8080/",
     "height": 523
    },
    "colab_type": "code",
    "id": "CqJpy2c-tfFJ",
    "outputId": "267b6982-038c-4ab5-a5a0-255e79b9e1a9"
   },
   "outputs": [
    {
     "name": "stdout",
     "output_type": "stream",
     "text": [
      "tf.Tensor(\n",
      "[[   0    0    0 ...    0    0   48]\n",
      " [   0    0    0 ...    0   48 1303]\n",
      " [   0    0    0 ...   48 1303  248]\n",
      " ...\n",
      " [   0    0    0 ...    8 1317    4]\n",
      " [   0    0    0 ... 1317    4   17]\n",
      " [   0    0    0 ...    4   17   15]], shape=(256, 62), dtype=int32)\n",
      "\n",
      "tf.Tensor(\n",
      "[1303  248  342   10  481  815  816   22  443   31   24    1  151    6\n",
      "  704 1006   19   49  817    3   18  482   49 1304 1305  175  343    8\n",
      "    8  169   27 1306  151    8  203    1  204    6    1   48   44  258\n",
      " 1007   18   22  443   27  818   19  625 1826  248  342   10  481 1827\n",
      "  815  816 1828  819 1829 1830  443  820 1832  819  136  140 1307 1834\n",
      " 1308 1836  550 1309  196 1837 1008 1009    6   22   48   44  443  248\n",
      "  342   10  481  248  342   10  481  815  816    1 1838 1839 1310  373\n",
      "  344   14    1  110  705   12   13  274    4  115   29  551    6  405\n",
      "   59   17  483   20    1 1010    6  406  154    4   45  148   27  706\n",
      "    7   23 1011   68    1  374   17  483   13  821    8   23   49  822\n",
      "   27 1311   10    8   38   31    1  151    6    5  374   62   12 1841\n",
      "  822   27 1311    2   28    7   13 1012   10   17  407  375   16  121\n",
      "   16    7   57    1  552  162  155   17  484   29  707    3 1013    1\n",
      " 1312    6  485    5 1842 1843   58   25  823    1  626    6  205   39\n",
      "    3 1313    1 1844  315    5  156  110   18 1845  163  259  316   59\n",
      "   17   13  154   28   29 1314   10   15 1315   74   12   91    8   28\n",
      "   29   93   35    6    1   76    4  275    1  110   95    4  295  170\n",
      "  206  170   14  188   25  627    2   60    7   62    8  122 1316 1317\n",
      "    4   17   15    7], shape=(256,), dtype=int32)\n"
     ]
    }
   ],
   "source": [
    "dataset = text_dataset.map(split_input_target).batch(256, drop_remainder=True)\n",
    "\n",
    "for input, target in dataset.take(1):\n",
    "  print(input)\n",
    "  print()\n",
    "  print(target)"
   ]
  },
  {
   "cell_type": "code",
   "execution_count": 15,
   "metadata": {
    "colab": {
     "base_uri": "https://localhost:8080/",
     "height": 383
    },
    "colab_type": "code",
    "id": "w9vH8Y59ajYL",
    "outputId": "8d9da036-fb34-405b-ad0c-3c42dc419c05"
   },
   "outputs": [
    {
     "name": "stdout",
     "output_type": "stream",
     "text": [
      "Model: \"sequential\"\n",
      "_________________________________________________________________\n",
      "Layer (type)                 Output Shape              Param #   \n",
      "=================================================================\n",
      "embedding (Embedding)        (None, None, 100)         333800    \n",
      "_________________________________________________________________\n",
      "bidirectional (Bidirectional (None, None, 64)          34048     \n",
      "_________________________________________________________________\n",
      "dropout (Dropout)            (None, None, 64)          0         \n",
      "_________________________________________________________________\n",
      "lstm_1 (LSTM)                (None, 16)                5184      \n",
      "_________________________________________________________________\n",
      "dense (Dense)                (None, 1669)              28373     \n",
      "_________________________________________________________________\n",
      "dense_1 (Dense)              (None, 3338)              5574460   \n",
      "=================================================================\n",
      "Total params: 5,975,865\n",
      "Trainable params: 5,975,865\n",
      "Non-trainable params: 0\n",
      "_________________________________________________________________\n",
      "None\n"
     ]
    }
   ],
   "source": [
    "model = Sequential()\n",
    "model.add(Embedding(total_words, 100))\n",
    "model.add(Bidirectional(LSTM(32, return_sequences = True)))\n",
    "model.add(Dropout(0.2))\n",
    "model.add(LSTM(16))\n",
    "model.add(Dense(total_words/2, activation='relu', kernel_regularizer=regularizers.l2(0.01)))\n",
    "model.add(Dense(total_words, activation='softmax'))\n",
    "\n",
    "model.compile(loss='sparse_categorical_crossentropy', optimizer='adam', metrics=['accuracy'])\n",
    "print(model.summary())"
   ]
  },
  {
   "cell_type": "code",
   "execution_count": 25,
   "metadata": {
    "colab": {
     "base_uri": "https://localhost:8080/",
     "height": 1000
    },
    "colab_type": "code",
    "id": "AIg2f1HBxqof",
    "outputId": "f93649f3-a66f-4824-f9f3-8d4a3dac210d",
    "scrolled": true
   },
   "outputs": [
    {
     "name": "stdout",
     "output_type": "stream",
     "text": [
      "Epoch 1/300\n",
      "106/106 [==============================] - 3s 26ms/step - loss: 2.4098 - accuracy: 0.4901\n",
      "Epoch 2/300\n",
      "106/106 [==============================] - 3s 25ms/step - loss: 2.4158 - accuracy: 0.4894\n",
      "Epoch 3/300\n",
      "106/106 [==============================] - 3s 25ms/step - loss: 2.4152 - accuracy: 0.4888\n",
      "Epoch 4/300\n",
      "106/106 [==============================] - 3s 25ms/step - loss: 2.4049 - accuracy: 0.4902\n",
      "Epoch 5/300\n",
      "106/106 [==============================] - 3s 24ms/step - loss: 2.3934 - accuracy: 0.4926\n",
      "Epoch 6/300\n",
      "106/106 [==============================] - 3s 25ms/step - loss: 2.3877 - accuracy: 0.4916\n",
      "Epoch 7/300\n",
      "106/106 [==============================] - 3s 24ms/step - loss: 2.3991 - accuracy: 0.4924\n",
      "Epoch 8/300\n",
      "106/106 [==============================] - 3s 24ms/step - loss: 2.3801 - accuracy: 0.4969\n",
      "Epoch 9/300\n",
      "106/106 [==============================] - 3s 24ms/step - loss: 2.3720 - accuracy: 0.4980\n",
      "Epoch 10/300\n",
      "106/106 [==============================] - 3s 25ms/step - loss: 2.3751 - accuracy: 0.4954\n",
      "Epoch 11/300\n",
      "106/106 [==============================] - 3s 24ms/step - loss: 2.3820 - accuracy: 0.4945\n",
      "Epoch 12/300\n",
      "106/106 [==============================] - 3s 25ms/step - loss: 2.3613 - accuracy: 0.5000\n",
      "Epoch 13/300\n",
      "106/106 [==============================] - 3s 24ms/step - loss: 2.3681 - accuracy: 0.4982\n",
      "Epoch 14/300\n",
      "106/106 [==============================] - 3s 24ms/step - loss: 2.3457 - accuracy: 0.4992\n",
      "Epoch 15/300\n",
      "106/106 [==============================] - 3s 25ms/step - loss: 2.3368 - accuracy: 0.5010\n",
      "Epoch 16/300\n",
      "106/106 [==============================] - 3s 24ms/step - loss: 2.3289 - accuracy: 0.5073\n",
      "Epoch 17/300\n",
      "106/106 [==============================] - 3s 24ms/step - loss: 2.3453 - accuracy: 0.4998\n",
      "Epoch 18/300\n",
      "106/106 [==============================] - 3s 25ms/step - loss: 2.3370 - accuracy: 0.5008\n",
      "Epoch 19/300\n",
      "106/106 [==============================] - 3s 24ms/step - loss: 2.3146 - accuracy: 0.5055\n",
      "Epoch 20/300\n",
      "106/106 [==============================] - 3s 25ms/step - loss: 2.3155 - accuracy: 0.5092\n",
      "Epoch 21/300\n",
      "106/106 [==============================] - 3s 24ms/step - loss: 2.3180 - accuracy: 0.5071\n",
      "Epoch 22/300\n",
      "106/106 [==============================] - 3s 24ms/step - loss: 2.2953 - accuracy: 0.5104\n",
      "Epoch 23/300\n",
      "106/106 [==============================] - 3s 24ms/step - loss: 2.2824 - accuracy: 0.5144\n",
      "Epoch 24/300\n",
      "106/106 [==============================] - 3s 24ms/step - loss: 2.2913 - accuracy: 0.5141\n",
      "Epoch 25/300\n",
      "106/106 [==============================] - 3s 24ms/step - loss: 2.2763 - accuracy: 0.5159\n",
      "Epoch 26/300\n",
      "106/106 [==============================] - 3s 24ms/step - loss: 2.2745 - accuracy: 0.5146\n",
      "Epoch 27/300\n",
      "106/106 [==============================] - 3s 24ms/step - loss: 2.2606 - accuracy: 0.5220\n",
      "Epoch 28/300\n",
      "106/106 [==============================] - 3s 24ms/step - loss: 2.2588 - accuracy: 0.5188\n",
      "Epoch 29/300\n",
      "106/106 [==============================] - 3s 24ms/step - loss: 2.2481 - accuracy: 0.5223\n",
      "Epoch 30/300\n",
      "106/106 [==============================] - 3s 24ms/step - loss: 2.2501 - accuracy: 0.5229\n",
      "Epoch 31/300\n",
      "106/106 [==============================] - 3s 24ms/step - loss: 2.2408 - accuracy: 0.5251\n",
      "Epoch 32/300\n",
      "106/106 [==============================] - 3s 24ms/step - loss: 2.2371 - accuracy: 0.5257\n",
      "Epoch 33/300\n",
      "106/106 [==============================] - 3s 24ms/step - loss: 2.2421 - accuracy: 0.5203\n",
      "Epoch 34/300\n",
      "106/106 [==============================] - 3s 24ms/step - loss: 2.2406 - accuracy: 0.5247\n",
      "Epoch 35/300\n",
      "106/106 [==============================] - 3s 25ms/step - loss: 2.2245 - accuracy: 0.5293\n",
      "Epoch 36/300\n",
      "106/106 [==============================] - 3s 25ms/step - loss: 2.2254 - accuracy: 0.5255\n",
      "Epoch 37/300\n",
      "106/106 [==============================] - 3s 25ms/step - loss: 2.2190 - accuracy: 0.5280\n",
      "Epoch 38/300\n",
      "106/106 [==============================] - 3s 24ms/step - loss: 2.2311 - accuracy: 0.5283\n",
      "Epoch 39/300\n",
      "106/106 [==============================] - 3s 24ms/step - loss: 2.2215 - accuracy: 0.5286\n",
      "Epoch 40/300\n",
      "106/106 [==============================] - 3s 24ms/step - loss: 2.2168 - accuracy: 0.5289\n",
      "Epoch 41/300\n",
      "106/106 [==============================] - 3s 24ms/step - loss: 2.1994 - accuracy: 0.5322\n",
      "Epoch 42/300\n",
      "106/106 [==============================] - 3s 24ms/step - loss: 2.1865 - accuracy: 0.5368\n",
      "Epoch 43/300\n",
      "106/106 [==============================] - 3s 24ms/step - loss: 2.1833 - accuracy: 0.5365\n",
      "Epoch 44/300\n",
      "106/106 [==============================] - 3s 24ms/step - loss: 2.1733 - accuracy: 0.5384\n",
      "Epoch 45/300\n",
      "106/106 [==============================] - 3s 24ms/step - loss: 2.1835 - accuracy: 0.5382\n",
      "Epoch 46/300\n",
      "106/106 [==============================] - 3s 24ms/step - loss: 2.1787 - accuracy: 0.5371\n",
      "Epoch 47/300\n",
      "106/106 [==============================] - 3s 25ms/step - loss: 2.1770 - accuracy: 0.5367\n",
      "Epoch 48/300\n",
      "106/106 [==============================] - 3s 24ms/step - loss: 2.1661 - accuracy: 0.5384\n",
      "Epoch 49/300\n",
      "106/106 [==============================] - 3s 25ms/step - loss: 2.1665 - accuracy: 0.5405\n",
      "Epoch 50/300\n",
      "106/106 [==============================] - 3s 24ms/step - loss: 2.1686 - accuracy: 0.5363\n",
      "Epoch 51/300\n",
      "106/106 [==============================] - 3s 24ms/step - loss: 2.1595 - accuracy: 0.5417\n",
      "Epoch 52/300\n",
      "106/106 [==============================] - 3s 24ms/step - loss: 2.1632 - accuracy: 0.5425\n",
      "Epoch 53/300\n",
      "106/106 [==============================] - 3s 25ms/step - loss: 2.1645 - accuracy: 0.5381\n",
      "Epoch 54/300\n",
      "106/106 [==============================] - 3s 24ms/step - loss: 2.1663 - accuracy: 0.5412\n",
      "Epoch 55/300\n",
      "106/106 [==============================] - 3s 24ms/step - loss: 2.1428 - accuracy: 0.5455\n",
      "Epoch 56/300\n",
      "106/106 [==============================] - 3s 24ms/step - loss: 2.1367 - accuracy: 0.5440\n",
      "Epoch 57/300\n",
      "106/106 [==============================] - 3s 24ms/step - loss: 2.1172 - accuracy: 0.5521\n",
      "Epoch 58/300\n",
      "106/106 [==============================] - 3s 24ms/step - loss: 2.1158 - accuracy: 0.5484\n",
      "Epoch 59/300\n",
      "106/106 [==============================] - 3s 24ms/step - loss: 2.1035 - accuracy: 0.5523\n",
      "Epoch 60/300\n",
      "106/106 [==============================] - 3s 24ms/step - loss: 2.1104 - accuracy: 0.5527\n",
      "Epoch 61/300\n",
      "106/106 [==============================] - 3s 24ms/step - loss: 2.1054 - accuracy: 0.5550\n",
      "Epoch 62/300\n",
      "106/106 [==============================] - 3s 25ms/step - loss: 2.1051 - accuracy: 0.5562\n",
      "Epoch 63/300\n",
      "106/106 [==============================] - 3s 24ms/step - loss: 2.1113 - accuracy: 0.5521\n",
      "Epoch 64/300\n",
      "106/106 [==============================] - 3s 25ms/step - loss: 2.1181 - accuracy: 0.5480\n",
      "Epoch 65/300\n",
      "106/106 [==============================] - 3s 24ms/step - loss: 2.1151 - accuracy: 0.5484\n",
      "Epoch 66/300\n",
      "106/106 [==============================] - 3s 25ms/step - loss: 2.1207 - accuracy: 0.5477\n",
      "Epoch 67/300\n",
      "106/106 [==============================] - 3s 25ms/step - loss: 2.0940 - accuracy: 0.5527\n",
      "Epoch 68/300\n",
      "106/106 [==============================] - 3s 24ms/step - loss: 2.0902 - accuracy: 0.5541\n",
      "Epoch 69/300\n",
      "106/106 [==============================] - 3s 24ms/step - loss: 2.0980 - accuracy: 0.5524\n",
      "Epoch 70/300\n",
      "106/106 [==============================] - 3s 25ms/step - loss: 2.0943 - accuracy: 0.5516\n",
      "Epoch 71/300\n",
      "106/106 [==============================] - 3s 24ms/step - loss: 2.0660 - accuracy: 0.5628\n",
      "Epoch 72/300\n",
      "106/106 [==============================] - 3s 24ms/step - loss: 2.0602 - accuracy: 0.5641\n",
      "Epoch 73/300\n",
      "106/106 [==============================] - 3s 24ms/step - loss: 2.0496 - accuracy: 0.5650\n",
      "Epoch 74/300\n",
      "106/106 [==============================] - 3s 24ms/step - loss: 2.0447 - accuracy: 0.5658\n",
      "Epoch 75/300\n",
      "106/106 [==============================] - 3s 24ms/step - loss: 2.0393 - accuracy: 0.5660\n",
      "Epoch 76/300\n",
      "106/106 [==============================] - 3s 25ms/step - loss: 2.0610 - accuracy: 0.5608\n",
      "Epoch 77/300\n",
      "106/106 [==============================] - 3s 24ms/step - loss: 2.0618 - accuracy: 0.5629\n",
      "Epoch 78/300\n",
      "106/106 [==============================] - 3s 24ms/step - loss: 2.0749 - accuracy: 0.5594\n",
      "Epoch 79/300\n",
      "106/106 [==============================] - 3s 24ms/step - loss: 2.0980 - accuracy: 0.5522\n",
      "Epoch 80/300\n",
      "106/106 [==============================] - 3s 24ms/step - loss: 2.0366 - accuracy: 0.5652\n",
      "Epoch 81/300\n",
      "106/106 [==============================] - 3s 25ms/step - loss: 2.0184 - accuracy: 0.5729\n",
      "Epoch 82/300\n",
      "106/106 [==============================] - 3s 24ms/step - loss: 2.0207 - accuracy: 0.5719\n",
      "Epoch 83/300\n",
      "106/106 [==============================] - 3s 24ms/step - loss: 2.0242 - accuracy: 0.5701\n",
      "Epoch 84/300\n",
      "106/106 [==============================] - 3s 24ms/step - loss: 2.0144 - accuracy: 0.5715\n",
      "Epoch 85/300\n",
      "106/106 [==============================] - 3s 24ms/step - loss: 2.0054 - accuracy: 0.5760\n",
      "Epoch 86/300\n",
      "106/106 [==============================] - 3s 25ms/step - loss: 1.9950 - accuracy: 0.5770\n",
      "Epoch 87/300\n",
      "106/106 [==============================] - 3s 25ms/step - loss: 1.9946 - accuracy: 0.5781\n",
      "Epoch 88/300\n",
      "106/106 [==============================] - 3s 24ms/step - loss: 1.9977 - accuracy: 0.5752\n",
      "Epoch 89/300\n",
      "106/106 [==============================] - 3s 25ms/step - loss: 1.9748 - accuracy: 0.5812\n",
      "Epoch 90/300\n",
      "106/106 [==============================] - 3s 25ms/step - loss: 1.9905 - accuracy: 0.5759\n",
      "Epoch 91/300\n",
      "106/106 [==============================] - 3s 25ms/step - loss: 1.9832 - accuracy: 0.5782\n",
      "Epoch 92/300\n",
      "106/106 [==============================] - 3s 24ms/step - loss: 1.9857 - accuracy: 0.5780\n",
      "Epoch 93/300\n",
      "106/106 [==============================] - 3s 25ms/step - loss: 1.9771 - accuracy: 0.5810\n",
      "Epoch 94/300\n",
      "106/106 [==============================] - 3s 25ms/step - loss: 1.9707 - accuracy: 0.5807\n",
      "Epoch 95/300\n",
      "106/106 [==============================] - 3s 25ms/step - loss: 1.9705 - accuracy: 0.5807\n",
      "Epoch 96/300\n",
      "106/106 [==============================] - 3s 24ms/step - loss: 1.9633 - accuracy: 0.5852\n",
      "Epoch 97/300\n",
      "106/106 [==============================] - 3s 25ms/step - loss: 1.9663 - accuracy: 0.5837\n",
      "Epoch 98/300\n",
      "106/106 [==============================] - 3s 25ms/step - loss: 1.9596 - accuracy: 0.5814\n",
      "Epoch 99/300\n",
      "106/106 [==============================] - 3s 24ms/step - loss: 1.9665 - accuracy: 0.5821\n",
      "Epoch 100/300\n",
      "106/106 [==============================] - 3s 24ms/step - loss: 1.9548 - accuracy: 0.5828\n",
      "Epoch 101/300\n",
      "106/106 [==============================] - 3s 24ms/step - loss: 1.9434 - accuracy: 0.5863\n",
      "Epoch 102/300\n",
      "106/106 [==============================] - 3s 24ms/step - loss: 1.9322 - accuracy: 0.5890\n",
      "Epoch 103/300\n",
      "106/106 [==============================] - 3s 24ms/step - loss: 1.9334 - accuracy: 0.5895\n",
      "Epoch 104/300\n",
      "106/106 [==============================] - 3s 24ms/step - loss: 1.9330 - accuracy: 0.5892\n",
      "Epoch 105/300\n",
      "106/106 [==============================] - 3s 25ms/step - loss: 1.9515 - accuracy: 0.5844\n",
      "Epoch 106/300\n",
      "106/106 [==============================] - 3s 24ms/step - loss: 1.9382 - accuracy: 0.5856\n",
      "Epoch 107/300\n",
      "106/106 [==============================] - 3s 24ms/step - loss: 1.9412 - accuracy: 0.5833\n",
      "Epoch 108/300\n",
      "106/106 [==============================] - 3s 24ms/step - loss: 1.9305 - accuracy: 0.5898\n",
      "Epoch 109/300\n",
      "106/106 [==============================] - 3s 24ms/step - loss: 1.9254 - accuracy: 0.5890\n",
      "Epoch 110/300\n",
      "106/106 [==============================] - 3s 25ms/step - loss: 1.9191 - accuracy: 0.5923\n",
      "Epoch 111/300\n",
      "106/106 [==============================] - 3s 24ms/step - loss: 1.9143 - accuracy: 0.5929\n",
      "Epoch 112/300\n",
      "106/106 [==============================] - 3s 24ms/step - loss: 1.9026 - accuracy: 0.5935\n",
      "Epoch 113/300\n",
      "106/106 [==============================] - 3s 25ms/step - loss: 1.8882 - accuracy: 0.5986\n",
      "Epoch 114/300\n",
      "106/106 [==============================] - 3s 24ms/step - loss: 1.8912 - accuracy: 0.5981\n",
      "Epoch 115/300\n",
      "106/106 [==============================] - 3s 25ms/step - loss: 1.8842 - accuracy: 0.6004\n",
      "Epoch 116/300\n",
      "106/106 [==============================] - 3s 24ms/step - loss: 1.9000 - accuracy: 0.5946\n",
      "Epoch 117/300\n",
      "106/106 [==============================] - 3s 25ms/step - loss: 1.8787 - accuracy: 0.6028\n",
      "Epoch 118/300\n",
      "106/106 [==============================] - 3s 25ms/step - loss: 1.8869 - accuracy: 0.5983\n",
      "Epoch 119/300\n",
      "106/106 [==============================] - 3s 24ms/step - loss: 1.8816 - accuracy: 0.6013\n",
      "Epoch 120/300\n",
      "106/106 [==============================] - 3s 25ms/step - loss: 1.8777 - accuracy: 0.6009\n",
      "Epoch 121/300\n",
      "106/106 [==============================] - 3s 25ms/step - loss: 1.8971 - accuracy: 0.5937\n",
      "Epoch 122/300\n",
      "106/106 [==============================] - 3s 24ms/step - loss: 1.9027 - accuracy: 0.5939\n",
      "Epoch 123/300\n",
      "106/106 [==============================] - 3s 24ms/step - loss: 1.8875 - accuracy: 0.5968\n",
      "Epoch 124/300\n",
      "106/106 [==============================] - 3s 24ms/step - loss: 1.8680 - accuracy: 0.6033\n",
      "Epoch 125/300\n",
      "106/106 [==============================] - 3s 25ms/step - loss: 1.8527 - accuracy: 0.6044\n",
      "Epoch 126/300\n",
      "106/106 [==============================] - 3s 24ms/step - loss: 1.8499 - accuracy: 0.6069\n",
      "Epoch 127/300\n",
      "106/106 [==============================] - 3s 24ms/step - loss: 1.8809 - accuracy: 0.5961\n",
      "Epoch 128/300\n",
      "106/106 [==============================] - 3s 25ms/step - loss: 1.8565 - accuracy: 0.6021\n",
      "Epoch 129/300\n",
      "106/106 [==============================] - 3s 24ms/step - loss: 1.8479 - accuracy: 0.6051\n",
      "Epoch 130/300\n",
      "106/106 [==============================] - 3s 24ms/step - loss: 1.8549 - accuracy: 0.6058\n",
      "Epoch 131/300\n",
      "106/106 [==============================] - 3s 24ms/step - loss: 1.8516 - accuracy: 0.6057\n",
      "Epoch 132/300\n",
      "106/106 [==============================] - 3s 25ms/step - loss: 1.8384 - accuracy: 0.6091\n",
      "Epoch 133/300\n",
      "106/106 [==============================] - 3s 25ms/step - loss: 1.8319 - accuracy: 0.6108\n",
      "Epoch 134/300\n",
      "106/106 [==============================] - 3s 25ms/step - loss: 1.8451 - accuracy: 0.6027\n",
      "Epoch 135/300\n",
      "106/106 [==============================] - 3s 24ms/step - loss: 1.8396 - accuracy: 0.6096\n",
      "Epoch 136/300\n",
      "106/106 [==============================] - 3s 24ms/step - loss: 1.8297 - accuracy: 0.6082\n",
      "Epoch 137/300\n",
      "106/106 [==============================] - 3s 24ms/step - loss: 1.8313 - accuracy: 0.6097\n",
      "Epoch 138/300\n",
      "106/106 [==============================] - 3s 24ms/step - loss: 1.8632 - accuracy: 0.6033\n",
      "Epoch 139/300\n",
      "106/106 [==============================] - 3s 24ms/step - loss: 1.8707 - accuracy: 0.5994\n",
      "Epoch 140/300\n",
      "106/106 [==============================] - 3s 24ms/step - loss: 1.8392 - accuracy: 0.6072\n",
      "Epoch 141/300\n",
      "106/106 [==============================] - 3s 24ms/step - loss: 1.8140 - accuracy: 0.6137\n",
      "Epoch 142/300\n",
      "106/106 [==============================] - 3s 25ms/step - loss: 1.7992 - accuracy: 0.6160\n",
      "Epoch 143/300\n",
      "106/106 [==============================] - 3s 24ms/step - loss: 1.8162 - accuracy: 0.6149\n",
      "Epoch 144/300\n",
      "106/106 [==============================] - 3s 24ms/step - loss: 1.8389 - accuracy: 0.6081\n",
      "Epoch 145/300\n",
      "106/106 [==============================] - 3s 24ms/step - loss: 1.8548 - accuracy: 0.6015\n",
      "Epoch 146/300\n",
      "106/106 [==============================] - 3s 24ms/step - loss: 1.8097 - accuracy: 0.6155\n",
      "Epoch 147/300\n",
      "106/106 [==============================] - 3s 24ms/step - loss: 1.7931 - accuracy: 0.6181\n",
      "Epoch 148/300\n",
      "106/106 [==============================] - 3s 24ms/step - loss: 1.7849 - accuracy: 0.6212\n",
      "Epoch 149/300\n",
      "106/106 [==============================] - 3s 25ms/step - loss: 1.7829 - accuracy: 0.6200\n",
      "Epoch 150/300\n",
      "106/106 [==============================] - 3s 24ms/step - loss: 1.7766 - accuracy: 0.6229\n",
      "Epoch 151/300\n",
      "106/106 [==============================] - 3s 24ms/step - loss: 1.7698 - accuracy: 0.6247\n",
      "Epoch 152/300\n",
      "106/106 [==============================] - 3s 24ms/step - loss: 1.7835 - accuracy: 0.6211\n",
      "Epoch 153/300\n",
      "106/106 [==============================] - 3s 25ms/step - loss: 1.7969 - accuracy: 0.6199\n",
      "Epoch 154/300\n",
      "106/106 [==============================] - 3s 24ms/step - loss: 1.8150 - accuracy: 0.6100\n",
      "Epoch 155/300\n",
      "106/106 [==============================] - 3s 24ms/step - loss: 1.7754 - accuracy: 0.6222\n",
      "Epoch 156/300\n",
      "106/106 [==============================] - 3s 25ms/step - loss: 1.7665 - accuracy: 0.6271\n",
      "Epoch 157/300\n",
      "106/106 [==============================] - 3s 25ms/step - loss: 1.7756 - accuracy: 0.6224\n",
      "Epoch 158/300\n",
      "106/106 [==============================] - 3s 24ms/step - loss: 1.7682 - accuracy: 0.6228\n",
      "Epoch 159/300\n",
      "106/106 [==============================] - 3s 24ms/step - loss: 1.7660 - accuracy: 0.6233\n",
      "Epoch 160/300\n",
      "106/106 [==============================] - 3s 25ms/step - loss: 1.7536 - accuracy: 0.6254\n",
      "Epoch 161/300\n",
      "106/106 [==============================] - 3s 24ms/step - loss: 1.7488 - accuracy: 0.6293\n",
      "Epoch 162/300\n",
      "106/106 [==============================] - 3s 24ms/step - loss: 1.7538 - accuracy: 0.6253\n",
      "Epoch 163/300\n",
      "106/106 [==============================] - 3s 25ms/step - loss: 1.7597 - accuracy: 0.6263\n",
      "Epoch 164/300\n",
      "106/106 [==============================] - 3s 25ms/step - loss: 1.7464 - accuracy: 0.6295\n",
      "Epoch 165/300\n",
      "106/106 [==============================] - 3s 25ms/step - loss: 1.7680 - accuracy: 0.6221\n",
      "Epoch 166/300\n",
      "106/106 [==============================] - 3s 24ms/step - loss: 1.7406 - accuracy: 0.6298\n",
      "Epoch 167/300\n",
      "106/106 [==============================] - 3s 24ms/step - loss: 1.7307 - accuracy: 0.6320\n",
      "Epoch 168/300\n",
      "106/106 [==============================] - 3s 25ms/step - loss: 1.7375 - accuracy: 0.6290\n",
      "Epoch 169/300\n",
      "106/106 [==============================] - 3s 24ms/step - loss: 1.7266 - accuracy: 0.6320\n",
      "Epoch 170/300\n",
      "106/106 [==============================] - 3s 24ms/step - loss: 1.7252 - accuracy: 0.6347\n",
      "Epoch 171/300\n",
      "106/106 [==============================] - 3s 24ms/step - loss: 1.7213 - accuracy: 0.6338\n",
      "Epoch 172/300\n",
      "106/106 [==============================] - 3s 24ms/step - loss: 1.7149 - accuracy: 0.6344\n",
      "Epoch 173/300\n",
      "106/106 [==============================] - 3s 24ms/step - loss: 1.7159 - accuracy: 0.6341\n",
      "Epoch 174/300\n",
      "106/106 [==============================] - 3s 24ms/step - loss: 1.7111 - accuracy: 0.6346\n",
      "Epoch 175/300\n",
      "106/106 [==============================] - 3s 25ms/step - loss: 1.7094 - accuracy: 0.6344\n",
      "Epoch 176/300\n",
      "106/106 [==============================] - 3s 25ms/step - loss: 1.7014 - accuracy: 0.6427\n",
      "Epoch 177/300\n",
      "106/106 [==============================] - 3s 25ms/step - loss: 1.6977 - accuracy: 0.6400\n",
      "Epoch 178/300\n",
      "106/106 [==============================] - 3s 24ms/step - loss: 1.7109 - accuracy: 0.6328\n",
      "Epoch 179/300\n",
      "106/106 [==============================] - 3s 24ms/step - loss: 1.7363 - accuracy: 0.6289\n",
      "Epoch 180/300\n",
      "106/106 [==============================] - 3s 24ms/step - loss: 1.7347 - accuracy: 0.6320\n",
      "Epoch 181/300\n",
      "106/106 [==============================] - 3s 24ms/step - loss: 1.7037 - accuracy: 0.6383\n",
      "Epoch 182/300\n",
      "106/106 [==============================] - 3s 24ms/step - loss: 1.7212 - accuracy: 0.6326\n",
      "Epoch 183/300\n",
      "106/106 [==============================] - 3s 24ms/step - loss: 1.7913 - accuracy: 0.6137\n",
      "Epoch 184/300\n",
      "106/106 [==============================] - 3s 24ms/step - loss: 1.7872 - accuracy: 0.6148\n",
      "Epoch 185/300\n",
      "106/106 [==============================] - 3s 24ms/step - loss: 1.8454 - accuracy: 0.6045\n",
      "Epoch 186/300\n",
      "106/106 [==============================] - 3s 25ms/step - loss: 1.7580 - accuracy: 0.6236\n",
      "Epoch 187/300\n",
      "106/106 [==============================] - 3s 24ms/step - loss: 1.7204 - accuracy: 0.6310\n",
      "Epoch 188/300\n",
      "106/106 [==============================] - 3s 25ms/step - loss: 1.7082 - accuracy: 0.6372\n",
      "Epoch 189/300\n",
      "106/106 [==============================] - 3s 25ms/step - loss: 1.6918 - accuracy: 0.6418\n",
      "Epoch 190/300\n",
      "106/106 [==============================] - 3s 25ms/step - loss: 1.6824 - accuracy: 0.6406\n",
      "Epoch 191/300\n",
      "106/106 [==============================] - 3s 24ms/step - loss: 1.6920 - accuracy: 0.6397\n",
      "Epoch 192/300\n",
      "106/106 [==============================] - 3s 25ms/step - loss: 1.6843 - accuracy: 0.6442\n",
      "Epoch 193/300\n",
      "106/106 [==============================] - 3s 25ms/step - loss: 1.6784 - accuracy: 0.6443\n",
      "Epoch 194/300\n",
      "106/106 [==============================] - 3s 24ms/step - loss: 1.6652 - accuracy: 0.6454\n",
      "Epoch 195/300\n",
      "106/106 [==============================] - 3s 24ms/step - loss: 1.6650 - accuracy: 0.6453\n",
      "Epoch 196/300\n",
      "106/106 [==============================] - 3s 24ms/step - loss: 1.6736 - accuracy: 0.6426\n",
      "Epoch 197/300\n",
      "106/106 [==============================] - 3s 25ms/step - loss: 1.6636 - accuracy: 0.6473\n",
      "Epoch 198/300\n",
      "106/106 [==============================] - 3s 25ms/step - loss: 1.6568 - accuracy: 0.6482\n",
      "Epoch 199/300\n",
      "106/106 [==============================] - 3s 24ms/step - loss: 1.6460 - accuracy: 0.6488\n",
      "Epoch 200/300\n",
      "106/106 [==============================] - 3s 25ms/step - loss: 1.6474 - accuracy: 0.6491\n",
      "Epoch 201/300\n",
      "106/106 [==============================] - 3s 25ms/step - loss: 1.6536 - accuracy: 0.6492\n",
      "Epoch 202/300\n",
      "106/106 [==============================] - 3s 24ms/step - loss: 1.6520 - accuracy: 0.6468\n",
      "Epoch 203/300\n",
      "106/106 [==============================] - 3s 24ms/step - loss: 1.6469 - accuracy: 0.6505\n",
      "Epoch 204/300\n",
      "106/106 [==============================] - 3s 24ms/step - loss: 1.6397 - accuracy: 0.6517\n",
      "Epoch 205/300\n",
      "106/106 [==============================] - 3s 25ms/step - loss: 1.6262 - accuracy: 0.6551\n",
      "Epoch 206/300\n",
      "106/106 [==============================] - 3s 24ms/step - loss: 1.6242 - accuracy: 0.6559\n",
      "Epoch 207/300\n",
      "106/106 [==============================] - 3s 25ms/step - loss: 1.6301 - accuracy: 0.6547\n",
      "Epoch 208/300\n",
      "106/106 [==============================] - 3s 25ms/step - loss: 1.6261 - accuracy: 0.6543\n",
      "Epoch 209/300\n",
      "106/106 [==============================] - 3s 25ms/step - loss: 1.6335 - accuracy: 0.6541\n",
      "Epoch 210/300\n",
      "106/106 [==============================] - 3s 25ms/step - loss: 1.6290 - accuracy: 0.6530\n",
      "Epoch 211/300\n",
      "106/106 [==============================] - 3s 25ms/step - loss: 1.6217 - accuracy: 0.6534\n",
      "Epoch 212/300\n",
      "106/106 [==============================] - 3s 25ms/step - loss: 1.6405 - accuracy: 0.6526\n",
      "Epoch 213/300\n",
      "106/106 [==============================] - 3s 24ms/step - loss: 1.6775 - accuracy: 0.6425\n",
      "Epoch 214/300\n",
      "106/106 [==============================] - 3s 24ms/step - loss: 1.7856 - accuracy: 0.6175\n",
      "Epoch 215/300\n",
      "106/106 [==============================] - 3s 25ms/step - loss: 1.7116 - accuracy: 0.6348\n",
      "Epoch 216/300\n",
      "106/106 [==============================] - 3s 24ms/step - loss: 1.6633 - accuracy: 0.6446\n",
      "Epoch 217/300\n",
      "106/106 [==============================] - 3s 24ms/step - loss: 1.6304 - accuracy: 0.6551\n",
      "Epoch 218/300\n",
      "106/106 [==============================] - 3s 25ms/step - loss: 1.6195 - accuracy: 0.6559\n",
      "Epoch 219/300\n",
      "106/106 [==============================] - 3s 25ms/step - loss: 1.6024 - accuracy: 0.6613\n",
      "Epoch 220/300\n",
      "106/106 [==============================] - 3s 25ms/step - loss: 1.5985 - accuracy: 0.6606\n",
      "Epoch 221/300\n",
      "106/106 [==============================] - 3s 25ms/step - loss: 1.6055 - accuracy: 0.6610\n",
      "Epoch 222/300\n",
      "106/106 [==============================] - 3s 24ms/step - loss: 1.6143 - accuracy: 0.6579\n",
      "Epoch 223/300\n",
      "106/106 [==============================] - 3s 25ms/step - loss: 1.6240 - accuracy: 0.6525\n",
      "Epoch 224/300\n",
      "106/106 [==============================] - 3s 24ms/step - loss: 1.6027 - accuracy: 0.6605\n",
      "Epoch 225/300\n",
      "106/106 [==============================] - 3s 24ms/step - loss: 1.5922 - accuracy: 0.6617\n",
      "Epoch 226/300\n",
      "106/106 [==============================] - 3s 25ms/step - loss: 1.5841 - accuracy: 0.6640\n",
      "Epoch 227/300\n",
      "106/106 [==============================] - 3s 24ms/step - loss: 1.5895 - accuracy: 0.6614\n",
      "Epoch 228/300\n",
      "106/106 [==============================] - 3s 25ms/step - loss: 1.5867 - accuracy: 0.6640\n",
      "Epoch 229/300\n",
      "106/106 [==============================] - 3s 25ms/step - loss: 1.5900 - accuracy: 0.6640\n",
      "Epoch 230/300\n",
      "106/106 [==============================] - 3s 25ms/step - loss: 1.5773 - accuracy: 0.6647\n",
      "Epoch 231/300\n",
      "106/106 [==============================] - 3s 24ms/step - loss: 1.6149 - accuracy: 0.6589\n",
      "Epoch 232/300\n",
      "106/106 [==============================] - 3s 24ms/step - loss: 1.6505 - accuracy: 0.6478\n",
      "Epoch 233/300\n",
      "106/106 [==============================] - 3s 24ms/step - loss: 1.6012 - accuracy: 0.6580\n",
      "Epoch 234/300\n",
      "106/106 [==============================] - 3s 25ms/step - loss: 1.6113 - accuracy: 0.6564\n",
      "Epoch 235/300\n",
      "106/106 [==============================] - 3s 24ms/step - loss: 1.5978 - accuracy: 0.6617\n",
      "Epoch 236/300\n",
      "106/106 [==============================] - 3s 25ms/step - loss: 1.5783 - accuracy: 0.6651\n",
      "Epoch 237/300\n",
      "106/106 [==============================] - 3s 24ms/step - loss: 1.5815 - accuracy: 0.6647\n",
      "Epoch 238/300\n",
      "106/106 [==============================] - 3s 25ms/step - loss: 1.5719 - accuracy: 0.6656\n",
      "Epoch 239/300\n",
      "106/106 [==============================] - 3s 25ms/step - loss: 1.5608 - accuracy: 0.6687\n",
      "Epoch 240/300\n",
      "106/106 [==============================] - 3s 25ms/step - loss: 1.5644 - accuracy: 0.6677\n",
      "Epoch 241/300\n",
      "106/106 [==============================] - 3s 24ms/step - loss: 1.5541 - accuracy: 0.6720\n",
      "Epoch 242/300\n",
      "106/106 [==============================] - 3s 24ms/step - loss: 1.5659 - accuracy: 0.6691\n",
      "Epoch 243/300\n",
      "106/106 [==============================] - 3s 24ms/step - loss: 1.5637 - accuracy: 0.6697\n",
      "Epoch 244/300\n",
      "106/106 [==============================] - 3s 25ms/step - loss: 1.5789 - accuracy: 0.6626\n",
      "Epoch 245/300\n",
      "106/106 [==============================] - 3s 24ms/step - loss: 1.5555 - accuracy: 0.6694\n",
      "Epoch 246/300\n",
      "106/106 [==============================] - 3s 24ms/step - loss: 1.5470 - accuracy: 0.6723\n",
      "Epoch 247/300\n",
      "106/106 [==============================] - 3s 25ms/step - loss: 1.5453 - accuracy: 0.6737\n",
      "Epoch 248/300\n",
      "106/106 [==============================] - 3s 25ms/step - loss: 1.5492 - accuracy: 0.6692\n",
      "Epoch 249/300\n",
      "106/106 [==============================] - 3s 25ms/step - loss: 1.5406 - accuracy: 0.6727\n",
      "Epoch 250/300\n",
      "106/106 [==============================] - 3s 25ms/step - loss: 1.5345 - accuracy: 0.6774\n",
      "Epoch 251/300\n",
      "106/106 [==============================] - 3s 25ms/step - loss: 1.5311 - accuracy: 0.6754\n",
      "Epoch 252/300\n",
      "106/106 [==============================] - 3s 25ms/step - loss: 1.5459 - accuracy: 0.6697\n",
      "Epoch 253/300\n",
      "106/106 [==============================] - 3s 25ms/step - loss: 1.5345 - accuracy: 0.6730\n",
      "Epoch 254/300\n",
      "106/106 [==============================] - 3s 24ms/step - loss: 1.5281 - accuracy: 0.6763\n",
      "Epoch 255/300\n",
      "106/106 [==============================] - 3s 25ms/step - loss: 1.5353 - accuracy: 0.6756\n",
      "Epoch 256/300\n",
      "106/106 [==============================] - 3s 24ms/step - loss: 1.5637 - accuracy: 0.6671\n",
      "Epoch 257/300\n",
      "106/106 [==============================] - 3s 24ms/step - loss: 1.6457 - accuracy: 0.6501\n",
      "Epoch 258/300\n",
      "106/106 [==============================] - 3s 24ms/step - loss: 1.6890 - accuracy: 0.6362\n",
      "Epoch 259/300\n",
      "106/106 [==============================] - 3s 24ms/step - loss: 1.6092 - accuracy: 0.6531\n",
      "Epoch 260/300\n",
      "106/106 [==============================] - 3s 24ms/step - loss: 1.5468 - accuracy: 0.6722\n",
      "Epoch 261/300\n",
      "106/106 [==============================] - 3s 25ms/step - loss: 1.5180 - accuracy: 0.6788\n",
      "Epoch 262/300\n",
      "106/106 [==============================] - 3s 25ms/step - loss: 1.5164 - accuracy: 0.6809\n",
      "Epoch 263/300\n",
      "106/106 [==============================] - 3s 24ms/step - loss: 1.5134 - accuracy: 0.6794\n",
      "Epoch 264/300\n",
      "106/106 [==============================] - 3s 25ms/step - loss: 1.5060 - accuracy: 0.6823\n",
      "Epoch 265/300\n",
      "106/106 [==============================] - 3s 24ms/step - loss: 1.5033 - accuracy: 0.6823\n",
      "Epoch 266/300\n",
      "106/106 [==============================] - 3s 24ms/step - loss: 1.5006 - accuracy: 0.6857\n",
      "Epoch 267/300\n",
      "106/106 [==============================] - 3s 25ms/step - loss: 1.4924 - accuracy: 0.6848\n",
      "Epoch 268/300\n",
      "106/106 [==============================] - 3s 24ms/step - loss: 1.4949 - accuracy: 0.6836\n",
      "Epoch 269/300\n",
      "106/106 [==============================] - 3s 24ms/step - loss: 1.4962 - accuracy: 0.6872\n",
      "Epoch 270/300\n",
      "106/106 [==============================] - 3s 24ms/step - loss: 1.4916 - accuracy: 0.6850\n",
      "Epoch 271/300\n",
      "106/106 [==============================] - 3s 25ms/step - loss: 1.4979 - accuracy: 0.6825\n",
      "Epoch 272/300\n",
      "106/106 [==============================] - 3s 25ms/step - loss: 1.5060 - accuracy: 0.6797\n",
      "Epoch 273/300\n",
      "106/106 [==============================] - 3s 24ms/step - loss: 1.5059 - accuracy: 0.6805\n",
      "Epoch 274/300\n",
      "106/106 [==============================] - 3s 25ms/step - loss: 1.5047 - accuracy: 0.6811\n",
      "Epoch 275/300\n",
      "106/106 [==============================] - 3s 25ms/step - loss: 1.5111 - accuracy: 0.6812\n",
      "Epoch 276/300\n",
      "106/106 [==============================] - 3s 25ms/step - loss: 1.5146 - accuracy: 0.6788\n",
      "Epoch 277/300\n",
      "106/106 [==============================] - 3s 25ms/step - loss: 1.5232 - accuracy: 0.6753\n",
      "Epoch 278/300\n",
      "106/106 [==============================] - 3s 24ms/step - loss: 1.5599 - accuracy: 0.6672\n",
      "Epoch 279/300\n",
      "106/106 [==============================] - 3s 24ms/step - loss: 1.5344 - accuracy: 0.6743\n",
      "Epoch 280/300\n",
      "106/106 [==============================] - 3s 24ms/step - loss: 1.5190 - accuracy: 0.6762\n",
      "Epoch 281/300\n",
      "106/106 [==============================] - 3s 25ms/step - loss: 1.4910 - accuracy: 0.6846\n",
      "Epoch 282/300\n",
      "106/106 [==============================] - 3s 24ms/step - loss: 1.4876 - accuracy: 0.6867\n",
      "Epoch 283/300\n",
      "106/106 [==============================] - 3s 25ms/step - loss: 1.4788 - accuracy: 0.6855\n",
      "Epoch 284/300\n",
      "106/106 [==============================] - 3s 24ms/step - loss: 1.4727 - accuracy: 0.6888\n",
      "Epoch 285/300\n",
      "106/106 [==============================] - 3s 24ms/step - loss: 1.4769 - accuracy: 0.6883\n",
      "Epoch 286/300\n",
      "106/106 [==============================] - 3s 24ms/step - loss: 1.4631 - accuracy: 0.6937\n",
      "Epoch 287/300\n",
      "106/106 [==============================] - 3s 24ms/step - loss: 1.4666 - accuracy: 0.6920\n",
      "Epoch 288/300\n",
      "106/106 [==============================] - 3s 24ms/step - loss: 1.4629 - accuracy: 0.6913\n",
      "Epoch 289/300\n",
      "106/106 [==============================] - 3s 24ms/step - loss: 1.4740 - accuracy: 0.6871\n",
      "Epoch 290/300\n",
      "106/106 [==============================] - 3s 25ms/step - loss: 1.4803 - accuracy: 0.6877\n",
      "Epoch 291/300\n",
      "106/106 [==============================] - 3s 24ms/step - loss: 1.4716 - accuracy: 0.6874\n",
      "Epoch 292/300\n",
      "106/106 [==============================] - 3s 25ms/step - loss: 1.4598 - accuracy: 0.6937\n",
      "Epoch 293/300\n",
      "106/106 [==============================] - 3s 24ms/step - loss: 1.4513 - accuracy: 0.6955\n",
      "Epoch 294/300\n",
      "106/106 [==============================] - 3s 24ms/step - loss: 1.4648 - accuracy: 0.6920\n",
      "Epoch 295/300\n",
      "106/106 [==============================] - 3s 24ms/step - loss: 1.4612 - accuracy: 0.6945\n",
      "Epoch 296/300\n",
      "106/106 [==============================] - 3s 24ms/step - loss: 1.4929 - accuracy: 0.6840\n",
      "Epoch 297/300\n",
      "106/106 [==============================] - 3s 24ms/step - loss: 1.5121 - accuracy: 0.6775\n",
      "Epoch 298/300\n",
      "106/106 [==============================] - 3s 24ms/step - loss: 1.4879 - accuracy: 0.6823\n",
      "Epoch 299/300\n",
      "106/106 [==============================] - 3s 24ms/step - loss: 1.4614 - accuracy: 0.6921\n",
      "Epoch 300/300\n",
      "106/106 [==============================] - 3s 24ms/step - loss: 1.4672 - accuracy: 0.6877\n",
      "CPU times: user 15min 46s, sys: 1min 31s, total: 17min 17s\n",
      "Wall time: 12min 57s\n"
     ]
    }
   ],
   "source": [
    " %%time\n",
    " history = model.fit(dataset, epochs=300, verbose=1)"
   ]
  },
  {
   "cell_type": "code",
   "execution_count": 26,
   "metadata": {
    "colab": {
     "base_uri": "https://localhost:8080/",
     "height": 545
    },
    "colab_type": "code",
    "id": "1fXTEO3GJ282",
    "outputId": "e49e05e3-fd68-4d1a-b5a0-7f146475a83a"
   },
   "outputs": [
    {
     "data": {
      "image/png": "[encoded data removed]",
      "text/plain": [
       "<Figure size 432x288 with 1 Axes>"
      ]
     },
     "metadata": {
      "tags": []
     },
     "output_type": "display_data"
    },
    {
     "data": {
      "image/png": "[encoded data removed]",
      "text/plain": [
       "<Figure size 432x288 with 1 Axes>"
      ]
     },
     "metadata": {
      "tags": []
     },
     "output_type": "display_data"
    }
   ],
   "source": [
    "import matplotlib.pyplot as plt\n",
    "%matplotlib inline\n",
    "\n",
    "acc = history.history['accuracy']\n",
    "loss = history.history['loss']\n",
    "\n",
    "epochs = range(len(acc))\n",
    "\n",
    "plt.plot(epochs, acc, 'b', label='Training accuracy')\n",
    "plt.title('Training accuracy')\n",
    "\n",
    "plt.figure()\n",
    "\n",
    "plt.plot(epochs, loss, 'b', label='Training Loss')\n",
    "plt.title('Training loss')\n",
    "plt.legend()\n",
    "\n",
    "plt.show()"
   ]
  },
  {
   "cell_type": "code",
   "execution_count": 28,
   "metadata": {
    "colab": {
     "base_uri": "https://localhost:8080/",
     "height": 54
    },
    "colab_type": "code",
    "id": "MPTokoLYxCvI",
    "outputId": "16a9f8d8-8e1e-4511-bcb2-98aa12200024"
   },
   "outputs": [
    {
     "name": "stdout",
     "output_type": "stream",
     "text": [
      "Help me Obi Wan Kenobi, you're my only hope almost it ' said the mouse the sea before the jelly idea her where was me any access you'd any hungry confirmation or anywhere near a jury can oh sort of dogs his child and do not play works at the dodo sobbing a song in a crowd of child ' the queen knew the pool of the notice knave things hungry to jury that what i think i can hear which say it do lessons ' he said you here and when she asked to itself till 'why had it been not a obtaining a little nervous about it\n"
     ]
    }
   ],
   "source": [
    "seed_text = \"Help me Obi Wan Kenobi, you're my only hope\"\n",
    "next_words = 100\n",
    "\n",
    "for _ in range(next_words):\n",
    "    token_list = tokenizer.texts_to_sequences([seed_text])[0]\n",
    "    token_list = pad_sequences([token_list], maxlen=max_sequence_len-1, padding='pre')\n",
    "    predicted = model.predict_classes(token_list, verbose=0)\n",
    "    output_word = tokenizer.index_word[predicted[0]]\n",
    "    seed_text += \" \" + output_word\n",
    "print(seed_text)"
   ]
  },
  {
   "cell_type": "code",
   "execution_count": 0,
   "metadata": {
    "colab": {},
    "colab_type": "code",
    "id": "AJzIYX4Fw574"
   },
   "outputs": [],
   "source": []
  }
 ],
 "metadata": {
  "accelerator": "GPU",
  "colab": {
   "name": "973.Generating_LSTM_Sentences_AliceWonderland_next_word.ipynb",
   "provenance": []
  },
  "kernelspec": {
   "display_name": "Python 3",
   "language": "python",
   "name": "python3"
  },
  "language_info": {
   "codemirror_mode": {
    "name": "ipython",
    "version": 3
   },
   "file_extension": ".py",
   "mimetype": "text/x-python",
   "name": "python",
   "nbconvert_exporter": "python",
   "pygments_lexer": "ipython3",
   "version": "3.7.6"
  }
 },
 "nbformat": 4,
 "nbformat_minor": 1
}
