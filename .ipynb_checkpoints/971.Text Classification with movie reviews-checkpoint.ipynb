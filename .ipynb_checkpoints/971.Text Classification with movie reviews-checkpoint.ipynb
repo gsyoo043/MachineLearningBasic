{
 "cells": [
  {
   "cell_type": "markdown",
   "metadata": {},
   "source": [
    "# 영화평 Text 분류 - Sentiment Analysis\n",
    "\n",
    "IMDB (Internet Movie Database, https://www.imdb.com/)  Dataset\n",
    "\n",
    "- IMDb site 의 50,000 개 영화평 text 로 구성   \n",
    "\n",
    "  \n",
    "- 25,000 training set 과 25,000 testing set 으로 구성 (training set 과 test set 이 반반임)\n",
    "\n",
    "  \n",
    "- postive / negative reivew 가 동일한 숫자로 구성\n",
    "\n",
    "\n",
    "- kreas.imbd 사용. 이미 preprocessing 이 되어 있고 review 내의 각 단어는 integer 숫자로 변환되어 있음.  \n",
    "  (빈번히 사용되는 순서로 숫자 부여) \n",
    "  \n",
    "\n",
    "- num_words=10000 - training set 에 가장 빈번히 등장하는 상위 10,000 개 단어 유지"
   ]
  },
  {
   "cell_type": "code",
   "execution_count": 1,
   "metadata": {},
   "outputs": [],
   "source": [
    "import tensorflow as tf\n",
    "from tensorflow import keras\n",
    "from tensorflow.keras.layers import Dense, LSTM, Embedding, Dropout\n",
    "from tensorflow.keras.models import Sequential\n",
    "import tensorflow_datasets as tfds\n",
    "import numpy as np"
   ]
  },
  {
   "cell_type": "code",
   "execution_count": 2,
   "metadata": {},
   "outputs": [
    {
     "data": {
      "text/plain": [
       "'2.0.0'"
      ]
     },
     "execution_count": 2,
     "metadata": {},
     "output_type": "execute_result"
    }
   ],
   "source": [
    "tf.__version__"
   ]
  },
  {
   "cell_type": "markdown",
   "metadata": {},
   "source": [
    "imdb_reviews/subwords8k - 8000 개 단어로 이루어진 dataset"
   ]
  },
  {
   "cell_type": "code",
   "execution_count": 3,
   "metadata": {},
   "outputs": [
    {
     "name": "stderr",
     "output_type": "stream",
     "text": [
      "WARNING: Logging before flag parsing goes to stderr.\n",
      "W1214 19:50:03.572354 25032 dataset_builder.py:439] Warning: Setting shuffle_files=True because split=TRAIN and shuffle_files=None. This behavior will be deprecated on 2019-08-06, at which point shuffle_files=False will be the default for all splits.\n"
     ]
    }
   ],
   "source": [
    "imdb, info = tfds.load(\"imdb_reviews/subwords8k\", with_info=True, as_supervised=True)"
   ]
  },
  {
   "cell_type": "code",
   "execution_count": 4,
   "metadata": {},
   "outputs": [
    {
     "data": {
      "text/plain": [
       "{'test': <_OptionsDataset shapes: ((None,), ()), types: (tf.int64, tf.int64)>,\n",
       " 'train': <_OptionsDataset shapes: ((None,), ()), types: (tf.int64, tf.int64)>,\n",
       " 'unsupervised': <_OptionsDataset shapes: ((None,), ()), types: (tf.int64, tf.int64)>}"
      ]
     },
     "execution_count": 4,
     "metadata": {},
     "output_type": "execute_result"
    }
   ],
   "source": [
    "imdb"
   ]
  },
  {
   "cell_type": "code",
   "execution_count": 5,
   "metadata": {},
   "outputs": [
    {
     "data": {
      "text/plain": [
       "tfds.core.DatasetInfo(\n",
       "    name='imdb_reviews',\n",
       "    version=0.1.0,\n",
       "    description='Large Movie Review Dataset.\n",
       "This is a dataset for binary sentiment classification containing substantially more data than previous benchmark datasets. We provide a set of 25,000 highly polar movie reviews for training, and 25,000 for testing. There is additional unlabeled data for use as well.',\n",
       "    urls=['http://ai.stanford.edu/~amaas/data/sentiment/'],\n",
       "    features=FeaturesDict({\n",
       "        'label': ClassLabel(shape=(), dtype=tf.int64, num_classes=2),\n",
       "        'text': Text(shape=(None,), dtype=tf.int64, encoder=<SubwordTextEncoder vocab_size=8185>),\n",
       "    }),\n",
       "    total_num_examples=100000,\n",
       "    splits={\n",
       "        'test': 25000,\n",
       "        'train': 25000,\n",
       "        'unsupervised': 50000,\n",
       "    },\n",
       "    supervised_keys=('text', 'label'),\n",
       "    citation=\"\"\"@InProceedings{maas-EtAl:2011:ACL-HLT2011,\n",
       "      author    = {Maas, Andrew L.  and  Daly, Raymond E.  and  Pham, Peter T.  and  Huang, Dan  and  Ng, Andrew Y.  and  Potts, Christopher},\n",
       "      title     = {Learning Word Vectors for Sentiment Analysis},\n",
       "      booktitle = {Proceedings of the 49th Annual Meeting of the Association for Computational Linguistics: Human Language Technologies},\n",
       "      month     = {June},\n",
       "      year      = {2011},\n",
       "      address   = {Portland, Oregon, USA},\n",
       "      publisher = {Association for Computational Linguistics},\n",
       "      pages     = {142--150},\n",
       "      url       = {http://www.aclweb.org/anthology/P11-1015}\n",
       "    }\"\"\",\n",
       "    redistribution_info=,\n",
       ")"
      ]
     },
     "execution_count": 5,
     "metadata": {},
     "output_type": "execute_result"
    }
   ],
   "source": [
    "info"
   ]
  },
  {
   "cell_type": "markdown",
   "metadata": {},
   "source": [
    "## train, test split\n",
    "\n",
    "- tf.data dataset"
   ]
  },
  {
   "cell_type": "code",
   "execution_count": 14,
   "metadata": {},
   "outputs": [],
   "source": [
    "train_dataset, test_dataset = imdb['train'], imdb['test']"
   ]
  },
  {
   "cell_type": "code",
   "execution_count": 20,
   "metadata": {},
   "outputs": [
    {
     "name": "stdout",
     "output_type": "stream",
     "text": [
      "tf.Tensor(\n",
      "[  12  604 1694 4406  797   14   27   72   12   18    4 1430    3   12\n",
      " 1661   36  242  101   12  393   39    3   69  346 7968   21 2302    7\n",
      "  220    3   12  680 6128 1338   22    1  400    3   12   70  174    7\n",
      "   86   15  377   28    5  710   12  548   21   35 2487 5904 1511 8031\n",
      " 3678 5588 7961 3931 8044 3152 7961   12   18   81 3109   11    7    1\n",
      " 2550  562    3  134    7  105    1   27   18 5167 5483 8032    3   12\n",
      " 1037   75   12  160  284    1  378    5   31 4862  295   88   19  188\n",
      "   12  270   18 6080    3   12  674 1264 5287 8030    3  183   18   55\n",
      " 1879   47    7   41  467  570  876   28   72   12  118  284    1   65\n",
      "    2   33   11 4210    3   12   83  176  582    1  170 7091 6459 8050\n",
      "    3   19 2918  350   18  680 2507    5   12   83 5501  130 4396  120\n",
      "    1  976 2264 8044    3 3583  504   47 3178 7961   18 3577   95   12\n",
      "  838 7968   21  239    7 7771   59 2384 7975], shape=(177,), dtype=int64)\n",
      "1\n"
     ]
    }
   ],
   "source": [
    "for stmt, label in train_dataset.take(1):\n",
    "    print(stmt)\n",
    "    print(label.numpy())"
   ]
  },
  {
   "cell_type": "markdown",
   "metadata": {},
   "source": [
    "### 내장 encoder, decoder 이용\n",
    "\n",
    "- encoder : string to index  \n",
    "- decoder : index to string"
   ]
  },
  {
   "cell_type": "code",
   "execution_count": 23,
   "metadata": {},
   "outputs": [],
   "source": [
    "encoder = info.features['text'].encoder\n",
    "\n",
    "vocab_size = encoder.vocab_size"
   ]
  },
  {
   "cell_type": "code",
   "execution_count": 24,
   "metadata": {},
   "outputs": [
    {
     "name": "stdout",
     "output_type": "stream",
     "text": [
      "Vocaburary size : 8185\n"
     ]
    }
   ],
   "source": [
    "print(\"Vocaburary size :\", vocab_size)"
   ]
  },
  {
   "cell_type": "code",
   "execution_count": 34,
   "metadata": {},
   "outputs": [
    {
     "name": "stdout",
     "output_type": "stream",
     "text": [
      "tf.Tensor(\n",
      "[2080 4956   90 7174    4 4669  190   25  162   15  377   90 6989 7961\n",
      " 6278   90   62   27 3931 8044    3   69   18   45    6    1 7574  171\n",
      "  131  284    6  310    3  134  131   31    7  202  131  304   11  174\n",
      "   22  310    2   87   18  122   11   14 6972   24   10   16   10   17\n",
      " 1321  390   18 4449    5   71  131  580    1  107   18    1 5353    5\n",
      "    1 3267 4908   49   15   18 1006   37   83  509   13   53  356    4\n",
      "  238   94    1   27    1 1109 4223 7961   85 2266   24   10   16   10\n",
      "   17   12  710   14 2059 3646    5  955   83 1508    1   65    2    1\n",
      " 2155    9 4627    9   67 2035    5 8034 7968  111  399  955   29  215\n",
      "    7   52   39    3 7174    4 5557   40  199  507   68    5   84 1037\n",
      "    1   27 2490   55  143 4073 8044    3 1321 2156 7974   76    5 3267\n",
      " 4908   49    9   67   67 4004    5    1 1109   25 1109  211    9 2266\n",
      "    3 2591   64    1   45  145   87  354   52   41 7362    3  135 7968\n",
      "    8    4  279   86    5  131  710  955 3576   82 2213 8044], shape=(194,), dtype=int64)\n",
      "Oh yeah! Jenna Jameson did it again! Yeah Baby! This movie rocks. It was one of the 1st movies i saw of her. And i have to say i feel in love with her, she was great in this move.<br /><br />Her performance was outstanding and what i liked the most was the scenery and the wardrobe it was amazing you can tell that they put a lot into the movie the girls cloth were amazing.<br /><br />I hope this comment helps and u can buy the movie, the storyline is awesome is very unique and i'm sure u are going to like it. Jenna amazed us once more and no wonder the movie won so many awards. Her make-up and wardrobe is very very sexy and the girls on girls scene is amazing. specially the one where she looks like an angel. It's a must see and i hope u share my interests\n"
     ]
    }
   ],
   "source": [
    "for stmt, label in train_dataset.take(1):\n",
    "    print(stmt)\n",
    "    print(encoder.decode(stmt))"
   ]
  },
  {
   "cell_type": "code",
   "execution_count": 35,
   "metadata": {},
   "outputs": [
    {
     "name": "stdout",
     "output_type": "stream",
     "text": [
      "[4025, 222, 6307, 2327, 2934, 7961, 8007, 8005, 8009]\n"
     ]
    }
   ],
   "source": [
    "sample_str = \"Hello Tensorflow NLP\"\n",
    "\n",
    "encoded_sample = encoder.encode(sample_str)\n",
    "print(encoded_sample)"
   ]
  },
  {
   "cell_type": "code",
   "execution_count": 36,
   "metadata": {},
   "outputs": [
    {
     "data": {
      "text/plain": [
       "'Hello Tensorflow NLP'"
      ]
     },
     "execution_count": 36,
     "metadata": {},
     "output_type": "execute_result"
    }
   ],
   "source": [
    "encoder.decode([4025, 222, 6307, 2327, 2934, 7961, 8007, 8005, 8009])"
   ]
  },
  {
   "cell_type": "code",
   "execution_count": 37,
   "metadata": {},
   "outputs": [
    {
     "name": "stdout",
     "output_type": "stream",
     "text": [
      "4025 ----> Hell\n",
      "222 ----> o \n",
      "6307 ----> Ten\n",
      "2327 ----> sor\n",
      "2934 ----> flow\n",
      "7961 ---->  \n",
      "8007 ----> N\n",
      "8005 ----> L\n",
      "8009 ----> P\n"
     ]
    }
   ],
   "source": [
    "for index in encoded_sample:\n",
    "    print('{} ----> {}'.format(index, encoder.decode([index])))"
   ]
  },
  {
   "cell_type": "markdown",
   "metadata": {},
   "source": [
    "## prepare data for training\n",
    "\n",
    "- padded_batch method 를 이용하여 가장 긴 string 길이에 맞추어 sequence 를 zero-padding"
   ]
  },
  {
   "cell_type": "code",
   "execution_count": 39,
   "metadata": {},
   "outputs": [],
   "source": [
    "BUFFER_SIZE = 10000\n",
    "BATCH_SIZE = 64\n",
    "\n",
    "train_dataset = train_dataset.shuffle(BUFFER_SIZE)     # data shuffle\n",
    "\n",
    "train_dataset = train_dataset.padded_batch(BATCH_SIZE, train_dataset.output_shapes)\n",
    "\n",
    "test_dataset = test_dataset.padded_batch(BATCH_SIZE, test_dataset.output_shapes)"
   ]
  },
  {
   "cell_type": "code",
   "execution_count": 40,
   "metadata": {},
   "outputs": [
    {
     "data": {
      "text/plain": [
       "(TensorShape([None, None]), TensorShape([None]))"
      ]
     },
     "execution_count": 40,
     "metadata": {},
     "output_type": "execute_result"
    }
   ],
   "source": [
    "train_dataset.output_shapes"
   ]
  },
  {
   "cell_type": "code",
   "execution_count": 42,
   "metadata": {},
   "outputs": [
    {
     "name": "stdout",
     "output_type": "stream",
     "text": [
      "tf.Tensor(\n",
      "[[3727 6233 1040 ...  228   39 7975]\n",
      " [ 249  929   31 ...    0    0    0]\n",
      " [3953  579  177 ...    0    0    0]\n",
      " ...\n",
      " [  62   27   80 ...    0    0    0]\n",
      " [2080 4956   90 ...    0    0    0]\n",
      " [  62    9  305 ...    0    0    0]], shape=(64, 1411), dtype=int64)\n",
      "tf.Tensor(\n",
      "[1 1 0 1 1 1 0 1 1 1 0 1 0 0 0 1 1 0 0 0 1 1 0 1 0 1 1 0 0 0 0 0 1 1 1 1 1\n",
      " 0 0 1 1 1 0 0 0 1 0 1 0 1 1 0 1 1 0 1 0 1 1 0 1 0 1 1], shape=(64,), dtype=int64)\n"
     ]
    }
   ],
   "source": [
    "for stmt, label in train_dataset.take(1):\n",
    "    print(stmt)\n",
    "    print(label)"
   ]
  },
  {
   "cell_type": "markdown",
   "metadata": {},
   "source": [
    "### Model Creation"
   ]
  },
  {
   "cell_type": "code",
   "execution_count": 43,
   "metadata": {},
   "outputs": [
    {
     "name": "stdout",
     "output_type": "stream",
     "text": [
      "Model: \"sequential\"\n",
      "_________________________________________________________________\n",
      "Layer (type)                 Output Shape              Param #   \n",
      "=================================================================\n",
      "embedding (Embedding)        (None, None, 64)          523840    \n",
      "_________________________________________________________________\n",
      "bidirectional (Bidirectional (None, 128)               66048     \n",
      "_________________________________________________________________\n",
      "dense (Dense)                (None, 64)                8256      \n",
      "_________________________________________________________________\n",
      "dense_1 (Dense)              (None, 1)                 65        \n",
      "=================================================================\n",
      "Total params: 598,209\n",
      "Trainable params: 598,209\n",
      "Non-trainable params: 0\n",
      "_________________________________________________________________\n"
     ]
    }
   ],
   "source": [
    "model = tf.keras.Sequential([\n",
    "    tf.keras.layers.Embedding(encoder.vocab_size, 64),\n",
    "    tf.keras.layers.Bidirectional(tf.keras.layers.LSTM(64)),\n",
    "    tf.keras.layers.Dense(64, activation='relu'),\n",
    "    tf.keras.layers.Dense(1, activation='sigmoid')\n",
    "])\n",
    "model.compile(loss='binary_crossentropy',optimizer=tf.keras.optimizers.Adam(1e-4),metrics=['accuracy'])\n",
    "model.summary()"
   ]
  },
  {
   "cell_type": "markdown",
   "metadata": {},
   "source": [
    "## Model Training"
   ]
  },
  {
   "cell_type": "code",
   "execution_count": 45,
   "metadata": {},
   "outputs": [
    {
     "name": "stdout",
     "output_type": "stream",
     "text": [
      "Epoch 1/5\n",
      "391/391 - 106s - loss: 0.6790 - accuracy: 0.5870 - val_loss: 0.0000e+00 - val_accuracy: 0.0000e+00\n",
      "Epoch 2/5\n",
      "391/391 - 107s - loss: 0.3837 - accuracy: 0.8389 - val_loss: 0.3469 - val_accuracy: 0.8582\n",
      "Epoch 3/5\n",
      "391/391 - 106s - loss: 0.2731 - accuracy: 0.8956 - val_loss: 0.3367 - val_accuracy: 0.8668\n",
      "Epoch 4/5\n",
      "391/391 - 105s - loss: 0.2276 - accuracy: 0.9175 - val_loss: 0.3327 - val_accuracy: 0.8720\n",
      "Epoch 5/5\n",
      "391/391 - 107s - loss: 0.1908 - accuracy: 0.9346 - val_loss: 0.3563 - val_accuracy: 0.8704\n"
     ]
    }
   ],
   "source": [
    "num_epochs = 5\n",
    "history = model.fit(train_dataset, epochs=num_epochs, validation_data=test_dataset, verbose=2)"
   ]
  },
  {
   "cell_type": "code",
   "execution_count": 46,
   "metadata": {},
   "outputs": [
    {
     "name": "stdout",
     "output_type": "stream",
     "text": [
      "Test Loss: 0.35630394293524115\n",
      "Test Accuracy: 0.8704400062561035\n"
     ]
    }
   ],
   "source": [
    "test_loss, test_acc = model.evaluate(test_dataset, verbose=0)\n",
    "\n",
    "print('Test Loss: {}'.format(test_loss))\n",
    "print('Test Accuracy: {}'.format(test_acc))"
   ]
  },
  {
   "cell_type": "code",
   "execution_count": 47,
   "metadata": {},
   "outputs": [
    {
     "data": {
      "image/png": "[encoded data removed]",
      "text/plain": [
       "<Figure size 864x288 with 2 Axes>"
      ]
     },
     "metadata": {
      "needs_background": "light"
     },
     "output_type": "display_data"
    }
   ],
   "source": [
    "import matplotlib.pyplot as plt\n",
    "%matplotlib inline\n",
    "\n",
    "fit, (ax1, ax2) = plt.subplots(1, 2, figsize=(12, 4))\n",
    "\n",
    "ax1.plot(history.history['accuracy'], label='accuracy')\n",
    "ax1.plot(history.history['val_accuracy'], label='val_accuracy')\n",
    "ax1.legend()\n",
    "\n",
    "ax2.plot(history.history['loss'], label='loss')\n",
    "ax2.plot(history.history['val_loss'], label='val_loss')\n",
    "ax2.legend();"
   ]
  },
  {
   "cell_type": "code",
   "execution_count": 48,
   "metadata": {},
   "outputs": [],
   "source": [
    "sample_pred_text = ('The movie was not good. The animation and the graphics '\n",
    "                    'were terrible. I would not recommend this movie.')"
   ]
  },
  {
   "cell_type": "code",
   "execution_count": 49,
   "metadata": {},
   "outputs": [
    {
     "data": {
      "text/plain": [
       "'The movie was not good. The animation and the graphics were terrible. I would not recommend this movie.'"
      ]
     },
     "execution_count": 49,
     "metadata": {},
     "output_type": "execute_result"
    }
   ],
   "source": [
    "sample_pred_text"
   ]
  },
  {
   "cell_type": "code",
   "execution_count": 50,
   "metadata": {},
   "outputs": [
    {
     "name": "stdout",
     "output_type": "stream",
     "text": [
      "[19, 27, 18, 33, 248, 3, 19, 1847, 5, 1, 5172, 8, 85, 1751, 3, 12, 70, 33, 505, 14, 65, 7975]\n"
     ]
    }
   ],
   "source": [
    "encoded_sample_pred_text = encoder.encode(sample_pred_text)\n",
    "print(encoded_sample_pred_text)"
   ]
  },
  {
   "cell_type": "code",
   "execution_count": 51,
   "metadata": {},
   "outputs": [
    {
     "data": {
      "text/plain": [
       "array([[0.30654246]], dtype=float32)"
      ]
     },
     "execution_count": 51,
     "metadata": {},
     "output_type": "execute_result"
    }
   ],
   "source": [
    "predictions = model.predict(tf.expand_dims(encoded_sample_pred_text, 0))\n",
    "predictions"
   ]
  },
  {
   "cell_type": "code",
   "execution_count": null,
   "metadata": {},
   "outputs": [],
   "source": []
  }
 ],
 "metadata": {
  "kernelspec": {
   "display_name": "Python 3",
   "language": "python",
   "name": "python3"
  },
  "language_info": {
   "codemirror_mode": {
    "name": "ipython",
    "version": 3
   },
   "file_extension": ".py",
   "mimetype": "text/x-python",
   "name": "python",
   "nbconvert_exporter": "python",
   "pygments_lexer": "ipython3",
   "version": "3.7.3"
  }
 },
 "nbformat": 4,
 "nbformat_minor": 2
}
